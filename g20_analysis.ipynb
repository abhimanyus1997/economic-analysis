{
 "cells": [
  {
   "cell_type": "markdown",
   "metadata": {},
   "source": [
    "## Importing Libaries and Modules"
   ]
  },
  {
   "cell_type": "code",
   "execution_count": 110,
   "metadata": {},
   "outputs": [],
   "source": [
    "# Importing Important Libaries\n",
    "import numpy as np\n",
    "import pandas as pd\n",
    "import seaborn as sns\n",
    "import matplotlib.pyplot as plt\n",
    "import plotly.express as px\n",
    "import random\n",
    "from pathlib import Path\n",
    "from tqdm.notebook import tqdm\n",
    "import re\n",
    "import warnings\n",
    "\n",
    "\n",
    "warnings.filterwarnings('ignore')\n",
    "import logging\n",
    "import time"
   ]
  },
  {
   "cell_type": "code",
   "execution_count": 2,
   "metadata": {},
   "outputs": [],
   "source": [
    "# Configure the logger\n",
    "logging.basicConfig(level=logging.WARNING)  # Adjust the log level as needed\n",
    "# Set up a file handler to save logs to a file\n",
    "log_file = 'logs/data_cleaner.log'\n",
    "file_handler = logging.FileHandler(log_file)\n",
    "file_handler.setLevel(logging.INFO)  # Adjust the log level as needed\n",
    "formatter = logging.Formatter('%(asctime)s - %(name)s - %(levelname)s - %(message)s')\n",
    "file_handler.setFormatter(formatter)\n",
    "\n",
    "# Add the file handler to the logger\n",
    "logger = logging.getLogger(__name__)\n",
    "logger.addHandler(file_handler)"
   ]
  },
  {
   "cell_type": "markdown",
   "metadata": {},
   "source": [
    "### Handling Raw Data"
   ]
  },
  {
   "cell_type": "code",
   "execution_count": 3,
   "metadata": {},
   "outputs": [
    {
     "data": {
      "text/html": [
       "<div>\n",
       "<style scoped>\n",
       "    .dataframe tbody tr th:only-of-type {\n",
       "        vertical-align: middle;\n",
       "    }\n",
       "\n",
       "    .dataframe tbody tr th {\n",
       "        vertical-align: top;\n",
       "    }\n",
       "\n",
       "    .dataframe thead th {\n",
       "        text-align: right;\n",
       "    }\n",
       "</style>\n",
       "<table border=\"1\" class=\"dataframe\">\n",
       "  <thead>\n",
       "    <tr style=\"text-align: right;\">\n",
       "      <th></th>\n",
       "      <th>Series Name</th>\n",
       "      <th>Series Code</th>\n",
       "      <th>Country Name</th>\n",
       "      <th>Country Code</th>\n",
       "      <th>1973 [YR1973]</th>\n",
       "      <th>1974 [YR1974]</th>\n",
       "      <th>1975 [YR1975]</th>\n",
       "      <th>1976 [YR1976]</th>\n",
       "      <th>1977 [YR1977]</th>\n",
       "      <th>1978 [YR1978]</th>\n",
       "      <th>...</th>\n",
       "      <th>2013 [YR2013]</th>\n",
       "      <th>2014 [YR2014]</th>\n",
       "      <th>2015 [YR2015]</th>\n",
       "      <th>2016 [YR2016]</th>\n",
       "      <th>2017 [YR2017]</th>\n",
       "      <th>2018 [YR2018]</th>\n",
       "      <th>2019 [YR2019]</th>\n",
       "      <th>2020 [YR2020]</th>\n",
       "      <th>2021 [YR2021]</th>\n",
       "      <th>2022 [YR2022]</th>\n",
       "    </tr>\n",
       "  </thead>\n",
       "  <tbody>\n",
       "    <tr>\n",
       "      <th>0</th>\n",
       "      <td>Adjusted savings: gross savings (% of GNI)</td>\n",
       "      <td>NY.ADJ.ICTR.GN.ZS</td>\n",
       "      <td>Argentina</td>\n",
       "      <td>ARG</td>\n",
       "      <td>..</td>\n",
       "      <td>..</td>\n",
       "      <td>..</td>\n",
       "      <td>34.03839404</td>\n",
       "      <td>32.76262784</td>\n",
       "      <td>30.37099055</td>\n",
       "      <td>...</td>\n",
       "      <td>15.31971022</td>\n",
       "      <td>16.10743905</td>\n",
       "      <td>14.56261556</td>\n",
       "      <td>14.96386557</td>\n",
       "      <td>13.41810079</td>\n",
       "      <td>11.82578069</td>\n",
       "      <td>14.87426431</td>\n",
       "      <td>19.11757389</td>\n",
       "      <td>..</td>\n",
       "      <td>..</td>\n",
       "    </tr>\n",
       "    <tr>\n",
       "      <th>1</th>\n",
       "      <td>Adjusted savings: gross savings (% of GNI)</td>\n",
       "      <td>NY.ADJ.ICTR.GN.ZS</td>\n",
       "      <td>Australia</td>\n",
       "      <td>AUS</td>\n",
       "      <td>..</td>\n",
       "      <td>..</td>\n",
       "      <td>..</td>\n",
       "      <td>..</td>\n",
       "      <td>..</td>\n",
       "      <td>..</td>\n",
       "      <td>...</td>\n",
       "      <td>24.58845708</td>\n",
       "      <td>24.30342107</td>\n",
       "      <td>23.17352013</td>\n",
       "      <td>21.21821891</td>\n",
       "      <td>22.41241032</td>\n",
       "      <td>22.4413726</td>\n",
       "      <td>23.27337379</td>\n",
       "      <td>24.57498917</td>\n",
       "      <td>..</td>\n",
       "      <td>..</td>\n",
       "    </tr>\n",
       "    <tr>\n",
       "      <th>2</th>\n",
       "      <td>Adjusted savings: gross savings (% of GNI)</td>\n",
       "      <td>NY.ADJ.ICTR.GN.ZS</td>\n",
       "      <td>Brazil</td>\n",
       "      <td>BRA</td>\n",
       "      <td>..</td>\n",
       "      <td>..</td>\n",
       "      <td>21.83711367</td>\n",
       "      <td>19.52124571</td>\n",
       "      <td>20.11643795</td>\n",
       "      <td>19.95870114</td>\n",
       "      <td>...</td>\n",
       "      <td>18.40746571</td>\n",
       "      <td>16.44076791</td>\n",
       "      <td>14.80798801</td>\n",
       "      <td>13.71267295</td>\n",
       "      <td>13.83644283</td>\n",
       "      <td>13.07087306</td>\n",
       "      <td>12.88752293</td>\n",
       "      <td>15.33326854</td>\n",
       "      <td>..</td>\n",
       "      <td>..</td>\n",
       "    </tr>\n",
       "    <tr>\n",
       "      <th>3</th>\n",
       "      <td>Adjusted savings: gross savings (% of GNI)</td>\n",
       "      <td>NY.ADJ.ICTR.GN.ZS</td>\n",
       "      <td>Canada</td>\n",
       "      <td>CAN</td>\n",
       "      <td>23.54913717</td>\n",
       "      <td>24.48415402</td>\n",
       "      <td>21.43182218</td>\n",
       "      <td>22.25910036</td>\n",
       "      <td>21.05833391</td>\n",
       "      <td>20.83639622</td>\n",
       "      <td>...</td>\n",
       "      <td>21.93134446</td>\n",
       "      <td>22.51225199</td>\n",
       "      <td>19.87382492</td>\n",
       "      <td>19.38325078</td>\n",
       "      <td>20.10090864</td>\n",
       "      <td>19.83495477</td>\n",
       "      <td>20.27153848</td>\n",
       "      <td>18.90878582</td>\n",
       "      <td>..</td>\n",
       "      <td>..</td>\n",
       "    </tr>\n",
       "    <tr>\n",
       "      <th>4</th>\n",
       "      <td>Adjusted savings: gross savings (% of GNI)</td>\n",
       "      <td>NY.ADJ.ICTR.GN.ZS</td>\n",
       "      <td>China</td>\n",
       "      <td>CHN</td>\n",
       "      <td>..</td>\n",
       "      <td>..</td>\n",
       "      <td>..</td>\n",
       "      <td>..</td>\n",
       "      <td>..</td>\n",
       "      <td>..</td>\n",
       "      <td>...</td>\n",
       "      <td>47.76683415</td>\n",
       "      <td>47.55544345</td>\n",
       "      <td>45.63534427</td>\n",
       "      <td>44.60182309</td>\n",
       "      <td>44.9639649</td>\n",
       "      <td>44.68200336</td>\n",
       "      <td>43.896015</td>\n",
       "      <td>44.85112622</td>\n",
       "      <td>..</td>\n",
       "      <td>..</td>\n",
       "    </tr>\n",
       "  </tbody>\n",
       "</table>\n",
       "<p>5 rows × 54 columns</p>\n",
       "</div>"
      ],
      "text/plain": [
       "                                  Series Name        Series Code Country Name  \\\n",
       "0  Adjusted savings: gross savings (% of GNI)  NY.ADJ.ICTR.GN.ZS    Argentina   \n",
       "1  Adjusted savings: gross savings (% of GNI)  NY.ADJ.ICTR.GN.ZS    Australia   \n",
       "2  Adjusted savings: gross savings (% of GNI)  NY.ADJ.ICTR.GN.ZS       Brazil   \n",
       "3  Adjusted savings: gross savings (% of GNI)  NY.ADJ.ICTR.GN.ZS       Canada   \n",
       "4  Adjusted savings: gross savings (% of GNI)  NY.ADJ.ICTR.GN.ZS        China   \n",
       "\n",
       "  Country Code 1973 [YR1973] 1974 [YR1974] 1975 [YR1975] 1976 [YR1976]  \\\n",
       "0          ARG            ..            ..            ..   34.03839404   \n",
       "1          AUS            ..            ..            ..            ..   \n",
       "2          BRA            ..            ..   21.83711367   19.52124571   \n",
       "3          CAN   23.54913717   24.48415402   21.43182218   22.25910036   \n",
       "4          CHN            ..            ..            ..            ..   \n",
       "\n",
       "  1977 [YR1977] 1978 [YR1978]  ... 2013 [YR2013] 2014 [YR2014] 2015 [YR2015]  \\\n",
       "0   32.76262784   30.37099055  ...   15.31971022   16.10743905   14.56261556   \n",
       "1            ..            ..  ...   24.58845708   24.30342107   23.17352013   \n",
       "2   20.11643795   19.95870114  ...   18.40746571   16.44076791   14.80798801   \n",
       "3   21.05833391   20.83639622  ...   21.93134446   22.51225199   19.87382492   \n",
       "4            ..            ..  ...   47.76683415   47.55544345   45.63534427   \n",
       "\n",
       "  2016 [YR2016] 2017 [YR2017] 2018 [YR2018] 2019 [YR2019] 2020 [YR2020]  \\\n",
       "0   14.96386557   13.41810079   11.82578069   14.87426431   19.11757389   \n",
       "1   21.21821891   22.41241032    22.4413726   23.27337379   24.57498917   \n",
       "2   13.71267295   13.83644283   13.07087306   12.88752293   15.33326854   \n",
       "3   19.38325078   20.10090864   19.83495477   20.27153848   18.90878582   \n",
       "4   44.60182309    44.9639649   44.68200336     43.896015   44.85112622   \n",
       "\n",
       "  2021 [YR2021] 2022 [YR2022]  \n",
       "0            ..            ..  \n",
       "1            ..            ..  \n",
       "2            ..            ..  \n",
       "3            ..            ..  \n",
       "4            ..            ..  \n",
       "\n",
       "[5 rows x 54 columns]"
      ]
     },
     "metadata": {},
     "output_type": "display_data"
    }
   ],
   "source": [
    "raw_data_path = Path(\"datasets/g20_raw_data.csv\")\n",
    "raw_data = pd.read_csv(raw_data_path)\n",
    "display(raw_data.head())"
   ]
  },
  {
   "cell_type": "markdown",
   "metadata": {},
   "source": [
    "#### Preliminary EDA on Raw Data"
   ]
  },
  {
   "cell_type": "code",
   "execution_count": 4,
   "metadata": {},
   "outputs": [
    {
     "data": {
      "text/html": [
       "<div>\n",
       "<style scoped>\n",
       "    .dataframe tbody tr th:only-of-type {\n",
       "        vertical-align: middle;\n",
       "    }\n",
       "\n",
       "    .dataframe tbody tr th {\n",
       "        vertical-align: top;\n",
       "    }\n",
       "\n",
       "    .dataframe thead th {\n",
       "        text-align: right;\n",
       "    }\n",
       "</style>\n",
       "<table border=\"1\" class=\"dataframe\">\n",
       "  <thead>\n",
       "    <tr style=\"text-align: right;\">\n",
       "      <th></th>\n",
       "      <th>Series Name</th>\n",
       "      <th>Series Code</th>\n",
       "      <th>Country Name</th>\n",
       "      <th>Country Code</th>\n",
       "      <th>1973 [YR1973]</th>\n",
       "      <th>1974 [YR1974]</th>\n",
       "      <th>1975 [YR1975]</th>\n",
       "      <th>1976 [YR1976]</th>\n",
       "      <th>1977 [YR1977]</th>\n",
       "      <th>1978 [YR1978]</th>\n",
       "      <th>...</th>\n",
       "      <th>2013 [YR2013]</th>\n",
       "      <th>2014 [YR2014]</th>\n",
       "      <th>2015 [YR2015]</th>\n",
       "      <th>2016 [YR2016]</th>\n",
       "      <th>2017 [YR2017]</th>\n",
       "      <th>2018 [YR2018]</th>\n",
       "      <th>2019 [YR2019]</th>\n",
       "      <th>2020 [YR2020]</th>\n",
       "      <th>2021 [YR2021]</th>\n",
       "      <th>2022 [YR2022]</th>\n",
       "    </tr>\n",
       "  </thead>\n",
       "  <tbody>\n",
       "    <tr>\n",
       "      <th>count</th>\n",
       "      <td>1502</td>\n",
       "      <td>1500</td>\n",
       "      <td>1500</td>\n",
       "      <td>1500</td>\n",
       "      <td>1500</td>\n",
       "      <td>1500</td>\n",
       "      <td>1500</td>\n",
       "      <td>1500</td>\n",
       "      <td>1500</td>\n",
       "      <td>1500</td>\n",
       "      <td>...</td>\n",
       "      <td>1500</td>\n",
       "      <td>1500</td>\n",
       "      <td>1500</td>\n",
       "      <td>1500</td>\n",
       "      <td>1500</td>\n",
       "      <td>1500</td>\n",
       "      <td>1500</td>\n",
       "      <td>1500</td>\n",
       "      <td>1500</td>\n",
       "      <td>1500</td>\n",
       "    </tr>\n",
       "    <tr>\n",
       "      <th>unique</th>\n",
       "      <td>77</td>\n",
       "      <td>75</td>\n",
       "      <td>20</td>\n",
       "      <td>20</td>\n",
       "      <td>716</td>\n",
       "      <td>732</td>\n",
       "      <td>787</td>\n",
       "      <td>813</td>\n",
       "      <td>817</td>\n",
       "      <td>823</td>\n",
       "      <td>...</td>\n",
       "      <td>1285</td>\n",
       "      <td>1295</td>\n",
       "      <td>1183</td>\n",
       "      <td>1281</td>\n",
       "      <td>1292</td>\n",
       "      <td>1263</td>\n",
       "      <td>1221</td>\n",
       "      <td>1168</td>\n",
       "      <td>832</td>\n",
       "      <td>588</td>\n",
       "    </tr>\n",
       "    <tr>\n",
       "      <th>top</th>\n",
       "      <td>Adjusted savings: gross savings (% of GNI)</td>\n",
       "      <td>NY.ADJ.ICTR.GN.ZS</td>\n",
       "      <td>Argentina</td>\n",
       "      <td>ARG</td>\n",
       "      <td>..</td>\n",
       "      <td>..</td>\n",
       "      <td>..</td>\n",
       "      <td>..</td>\n",
       "      <td>..</td>\n",
       "      <td>..</td>\n",
       "      <td>...</td>\n",
       "      <td>..</td>\n",
       "      <td>..</td>\n",
       "      <td>..</td>\n",
       "      <td>..</td>\n",
       "      <td>..</td>\n",
       "      <td>..</td>\n",
       "      <td>..</td>\n",
       "      <td>..</td>\n",
       "      <td>..</td>\n",
       "      <td>..</td>\n",
       "    </tr>\n",
       "    <tr>\n",
       "      <th>freq</th>\n",
       "      <td>20</td>\n",
       "      <td>20</td>\n",
       "      <td>75</td>\n",
       "      <td>75</td>\n",
       "      <td>766</td>\n",
       "      <td>750</td>\n",
       "      <td>695</td>\n",
       "      <td>669</td>\n",
       "      <td>666</td>\n",
       "      <td>663</td>\n",
       "      <td>...</td>\n",
       "      <td>197</td>\n",
       "      <td>191</td>\n",
       "      <td>185</td>\n",
       "      <td>200</td>\n",
       "      <td>194</td>\n",
       "      <td>224</td>\n",
       "      <td>268</td>\n",
       "      <td>321</td>\n",
       "      <td>655</td>\n",
       "      <td>910</td>\n",
       "    </tr>\n",
       "  </tbody>\n",
       "</table>\n",
       "<p>4 rows × 54 columns</p>\n",
       "</div>"
      ],
      "text/plain": [
       "                                       Series Name        Series Code  \\\n",
       "count                                         1502               1500   \n",
       "unique                                          77                 75   \n",
       "top     Adjusted savings: gross savings (% of GNI)  NY.ADJ.ICTR.GN.ZS   \n",
       "freq                                            20                 20   \n",
       "\n",
       "       Country Name Country Code 1973 [YR1973] 1974 [YR1974] 1975 [YR1975]  \\\n",
       "count          1500         1500          1500          1500          1500   \n",
       "unique           20           20           716           732           787   \n",
       "top       Argentina          ARG            ..            ..            ..   \n",
       "freq             75           75           766           750           695   \n",
       "\n",
       "       1976 [YR1976] 1977 [YR1977] 1978 [YR1978]  ... 2013 [YR2013]  \\\n",
       "count           1500          1500          1500  ...          1500   \n",
       "unique           813           817           823  ...          1285   \n",
       "top               ..            ..            ..  ...            ..   \n",
       "freq             669           666           663  ...           197   \n",
       "\n",
       "       2014 [YR2014] 2015 [YR2015] 2016 [YR2016] 2017 [YR2017] 2018 [YR2018]  \\\n",
       "count           1500          1500          1500          1500          1500   \n",
       "unique          1295          1183          1281          1292          1263   \n",
       "top               ..            ..            ..            ..            ..   \n",
       "freq             191           185           200           194           224   \n",
       "\n",
       "       2019 [YR2019] 2020 [YR2020] 2021 [YR2021] 2022 [YR2022]  \n",
       "count           1500          1500          1500          1500  \n",
       "unique          1221          1168           832           588  \n",
       "top               ..            ..            ..            ..  \n",
       "freq             268           321           655           910  \n",
       "\n",
       "[4 rows x 54 columns]"
      ]
     },
     "metadata": {},
     "output_type": "display_data"
    }
   ],
   "source": [
    "# 1. Summary statistics\n",
    "summary_stats = raw_data.describe()\n",
    "display(summary_stats)"
   ]
  },
  {
   "cell_type": "code",
   "execution_count": 5,
   "metadata": {},
   "outputs": [
    {
     "name": "stdout",
     "output_type": "stream",
     "text": [
      "<class 'pandas.core.frame.DataFrame'>\n",
      "RangeIndex: 1505 entries, 0 to 1504\n",
      "Data columns (total 54 columns):\n",
      " #   Column         Non-Null Count  Dtype \n",
      "---  ------         --------------  ----- \n",
      " 0   Series Name    1502 non-null   object\n",
      " 1   Series Code    1500 non-null   object\n",
      " 2   Country Name   1500 non-null   object\n",
      " 3   Country Code   1500 non-null   object\n",
      " 4   1973 [YR1973]  1500 non-null   object\n",
      " 5   1974 [YR1974]  1500 non-null   object\n",
      " 6   1975 [YR1975]  1500 non-null   object\n",
      " 7   1976 [YR1976]  1500 non-null   object\n",
      " 8   1977 [YR1977]  1500 non-null   object\n",
      " 9   1978 [YR1978]  1500 non-null   object\n",
      " 10  1979 [YR1979]  1500 non-null   object\n",
      " 11  1980 [YR1980]  1500 non-null   object\n",
      " 12  1981 [YR1981]  1500 non-null   object\n",
      " 13  1982 [YR1982]  1500 non-null   object\n",
      " 14  1983 [YR1983]  1500 non-null   object\n",
      " 15  1984 [YR1984]  1500 non-null   object\n",
      " 16  1985 [YR1985]  1500 non-null   object\n",
      " 17  1986 [YR1986]  1500 non-null   object\n",
      " 18  1987 [YR1987]  1500 non-null   object\n",
      " 19  1988 [YR1988]  1500 non-null   object\n",
      " 20  1989 [YR1989]  1500 non-null   object\n",
      " 21  1990 [YR1990]  1500 non-null   object\n",
      " 22  1991 [YR1991]  1500 non-null   object\n",
      " 23  1992 [YR1992]  1500 non-null   object\n",
      " 24  1993 [YR1993]  1500 non-null   object\n",
      " 25  1994 [YR1994]  1500 non-null   object\n",
      " 26  1995 [YR1995]  1500 non-null   object\n",
      " 27  1996 [YR1996]  1500 non-null   object\n",
      " 28  1997 [YR1997]  1500 non-null   object\n",
      " 29  1998 [YR1998]  1500 non-null   object\n",
      " 30  1999 [YR1999]  1500 non-null   object\n",
      " 31  2000 [YR2000]  1500 non-null   object\n",
      " 32  2001 [YR2001]  1500 non-null   object\n",
      " 33  2002 [YR2002]  1500 non-null   object\n",
      " 34  2003 [YR2003]  1500 non-null   object\n",
      " 35  2004 [YR2004]  1500 non-null   object\n",
      " 36  2005 [YR2005]  1500 non-null   object\n",
      " 37  2006 [YR2006]  1500 non-null   object\n",
      " 38  2007 [YR2007]  1500 non-null   object\n",
      " 39  2008 [YR2008]  1500 non-null   object\n",
      " 40  2009 [YR2009]  1500 non-null   object\n",
      " 41  2010 [YR2010]  1500 non-null   object\n",
      " 42  2011 [YR2011]  1500 non-null   object\n",
      " 43  2012 [YR2012]  1500 non-null   object\n",
      " 44  2013 [YR2013]  1500 non-null   object\n",
      " 45  2014 [YR2014]  1500 non-null   object\n",
      " 46  2015 [YR2015]  1500 non-null   object\n",
      " 47  2016 [YR2016]  1500 non-null   object\n",
      " 48  2017 [YR2017]  1500 non-null   object\n",
      " 49  2018 [YR2018]  1500 non-null   object\n",
      " 50  2019 [YR2019]  1500 non-null   object\n",
      " 51  2020 [YR2020]  1500 non-null   object\n",
      " 52  2021 [YR2021]  1500 non-null   object\n",
      " 53  2022 [YR2022]  1500 non-null   object\n",
      "dtypes: object(54)\n",
      "memory usage: 635.0+ KB\n",
      "None\n"
     ]
    }
   ],
   "source": [
    "# Data types and missing values\n",
    "data_info = raw_data.info()\n",
    "print(data_info)"
   ]
  },
  {
   "cell_type": "code",
   "execution_count": 6,
   "metadata": {},
   "outputs": [
    {
     "name": "stdout",
     "output_type": "stream",
     "text": [
      "['Argentina', 'Australia', 'Brazil', 'Canada', 'China', 'France', 'Germany', 'India', 'Indonesia', 'Italy', 'United States', 'United Kingdom', 'Mexico', 'Japan', 'Korea, Rep.', 'Russian Federation', 'Saudi Arabia', 'South Africa', 'Turkiye', 'European Union']\n"
     ]
    }
   ],
   "source": [
    "# Get Countries name\n",
    "COUNTRIES = raw_data[\"Country Name\"].unique()\n",
    "COUNTRIES = [country for country in COUNTRIES if pd.notna(country)]\n",
    "print(COUNTRIES)"
   ]
  },
  {
   "cell_type": "code",
   "execution_count": 7,
   "metadata": {},
   "outputs": [],
   "source": [
    "# Renaming Year\n",
    "# Create a mapping dictionary to rename the columns\n",
    "column_mapping = {}\n",
    "for column in raw_data.columns:\n",
    "    if re.match(r'\\d{4} \\[YR\\d{4}\\]', column):\n",
    "        # Extract the year part using regular expression\n",
    "        year = re.search(r'\\d{4}', column).group()\n",
    "        column_mapping[column] = year\n",
    "\n",
    "# Rename the columns\n",
    "raw_data = raw_data.rename(columns=column_mapping)"
   ]
  },
  {
   "cell_type": "code",
   "execution_count": 8,
   "metadata": {},
   "outputs": [
    {
     "data": {
      "text/html": [
       "<div>\n",
       "<style scoped>\n",
       "    .dataframe tbody tr th:only-of-type {\n",
       "        vertical-align: middle;\n",
       "    }\n",
       "\n",
       "    .dataframe tbody tr th {\n",
       "        vertical-align: top;\n",
       "    }\n",
       "\n",
       "    .dataframe thead th {\n",
       "        text-align: right;\n",
       "    }\n",
       "</style>\n",
       "<table border=\"1\" class=\"dataframe\">\n",
       "  <thead>\n",
       "    <tr style=\"text-align: right;\">\n",
       "      <th></th>\n",
       "      <th>Series Name</th>\n",
       "      <th>Series Code</th>\n",
       "      <th>Country Name</th>\n",
       "      <th>Country Code</th>\n",
       "      <th>1973</th>\n",
       "      <th>1974</th>\n",
       "      <th>1975</th>\n",
       "      <th>1976</th>\n",
       "      <th>1977</th>\n",
       "      <th>1978</th>\n",
       "      <th>...</th>\n",
       "      <th>2013</th>\n",
       "      <th>2014</th>\n",
       "      <th>2015</th>\n",
       "      <th>2016</th>\n",
       "      <th>2017</th>\n",
       "      <th>2018</th>\n",
       "      <th>2019</th>\n",
       "      <th>2020</th>\n",
       "      <th>2021</th>\n",
       "      <th>2022</th>\n",
       "    </tr>\n",
       "  </thead>\n",
       "  <tbody>\n",
       "    <tr>\n",
       "      <th>0</th>\n",
       "      <td>Adjusted savings: gross savings (% of GNI)</td>\n",
       "      <td>NY.ADJ.ICTR.GN.ZS</td>\n",
       "      <td>Argentina</td>\n",
       "      <td>ARG</td>\n",
       "      <td>..</td>\n",
       "      <td>..</td>\n",
       "      <td>..</td>\n",
       "      <td>34.03839404</td>\n",
       "      <td>32.76262784</td>\n",
       "      <td>30.37099055</td>\n",
       "      <td>...</td>\n",
       "      <td>15.31971022</td>\n",
       "      <td>16.10743905</td>\n",
       "      <td>14.56261556</td>\n",
       "      <td>14.96386557</td>\n",
       "      <td>13.41810079</td>\n",
       "      <td>11.82578069</td>\n",
       "      <td>14.87426431</td>\n",
       "      <td>19.11757389</td>\n",
       "      <td>..</td>\n",
       "      <td>..</td>\n",
       "    </tr>\n",
       "    <tr>\n",
       "      <th>1</th>\n",
       "      <td>Adjusted savings: gross savings (% of GNI)</td>\n",
       "      <td>NY.ADJ.ICTR.GN.ZS</td>\n",
       "      <td>Australia</td>\n",
       "      <td>AUS</td>\n",
       "      <td>..</td>\n",
       "      <td>..</td>\n",
       "      <td>..</td>\n",
       "      <td>..</td>\n",
       "      <td>..</td>\n",
       "      <td>..</td>\n",
       "      <td>...</td>\n",
       "      <td>24.58845708</td>\n",
       "      <td>24.30342107</td>\n",
       "      <td>23.17352013</td>\n",
       "      <td>21.21821891</td>\n",
       "      <td>22.41241032</td>\n",
       "      <td>22.4413726</td>\n",
       "      <td>23.27337379</td>\n",
       "      <td>24.57498917</td>\n",
       "      <td>..</td>\n",
       "      <td>..</td>\n",
       "    </tr>\n",
       "    <tr>\n",
       "      <th>2</th>\n",
       "      <td>Adjusted savings: gross savings (% of GNI)</td>\n",
       "      <td>NY.ADJ.ICTR.GN.ZS</td>\n",
       "      <td>Brazil</td>\n",
       "      <td>BRA</td>\n",
       "      <td>..</td>\n",
       "      <td>..</td>\n",
       "      <td>21.83711367</td>\n",
       "      <td>19.52124571</td>\n",
       "      <td>20.11643795</td>\n",
       "      <td>19.95870114</td>\n",
       "      <td>...</td>\n",
       "      <td>18.40746571</td>\n",
       "      <td>16.44076791</td>\n",
       "      <td>14.80798801</td>\n",
       "      <td>13.71267295</td>\n",
       "      <td>13.83644283</td>\n",
       "      <td>13.07087306</td>\n",
       "      <td>12.88752293</td>\n",
       "      <td>15.33326854</td>\n",
       "      <td>..</td>\n",
       "      <td>..</td>\n",
       "    </tr>\n",
       "    <tr>\n",
       "      <th>3</th>\n",
       "      <td>Adjusted savings: gross savings (% of GNI)</td>\n",
       "      <td>NY.ADJ.ICTR.GN.ZS</td>\n",
       "      <td>Canada</td>\n",
       "      <td>CAN</td>\n",
       "      <td>23.54913717</td>\n",
       "      <td>24.48415402</td>\n",
       "      <td>21.43182218</td>\n",
       "      <td>22.25910036</td>\n",
       "      <td>21.05833391</td>\n",
       "      <td>20.83639622</td>\n",
       "      <td>...</td>\n",
       "      <td>21.93134446</td>\n",
       "      <td>22.51225199</td>\n",
       "      <td>19.87382492</td>\n",
       "      <td>19.38325078</td>\n",
       "      <td>20.10090864</td>\n",
       "      <td>19.83495477</td>\n",
       "      <td>20.27153848</td>\n",
       "      <td>18.90878582</td>\n",
       "      <td>..</td>\n",
       "      <td>..</td>\n",
       "    </tr>\n",
       "    <tr>\n",
       "      <th>4</th>\n",
       "      <td>Adjusted savings: gross savings (% of GNI)</td>\n",
       "      <td>NY.ADJ.ICTR.GN.ZS</td>\n",
       "      <td>China</td>\n",
       "      <td>CHN</td>\n",
       "      <td>..</td>\n",
       "      <td>..</td>\n",
       "      <td>..</td>\n",
       "      <td>..</td>\n",
       "      <td>..</td>\n",
       "      <td>..</td>\n",
       "      <td>...</td>\n",
       "      <td>47.76683415</td>\n",
       "      <td>47.55544345</td>\n",
       "      <td>45.63534427</td>\n",
       "      <td>44.60182309</td>\n",
       "      <td>44.9639649</td>\n",
       "      <td>44.68200336</td>\n",
       "      <td>43.896015</td>\n",
       "      <td>44.85112622</td>\n",
       "      <td>..</td>\n",
       "      <td>..</td>\n",
       "    </tr>\n",
       "  </tbody>\n",
       "</table>\n",
       "<p>5 rows × 54 columns</p>\n",
       "</div>"
      ],
      "text/plain": [
       "                                  Series Name        Series Code Country Name  \\\n",
       "0  Adjusted savings: gross savings (% of GNI)  NY.ADJ.ICTR.GN.ZS    Argentina   \n",
       "1  Adjusted savings: gross savings (% of GNI)  NY.ADJ.ICTR.GN.ZS    Australia   \n",
       "2  Adjusted savings: gross savings (% of GNI)  NY.ADJ.ICTR.GN.ZS       Brazil   \n",
       "3  Adjusted savings: gross savings (% of GNI)  NY.ADJ.ICTR.GN.ZS       Canada   \n",
       "4  Adjusted savings: gross savings (% of GNI)  NY.ADJ.ICTR.GN.ZS        China   \n",
       "\n",
       "  Country Code         1973         1974         1975         1976  \\\n",
       "0          ARG           ..           ..           ..  34.03839404   \n",
       "1          AUS           ..           ..           ..           ..   \n",
       "2          BRA           ..           ..  21.83711367  19.52124571   \n",
       "3          CAN  23.54913717  24.48415402  21.43182218  22.25910036   \n",
       "4          CHN           ..           ..           ..           ..   \n",
       "\n",
       "          1977         1978  ...         2013         2014         2015  \\\n",
       "0  32.76262784  30.37099055  ...  15.31971022  16.10743905  14.56261556   \n",
       "1           ..           ..  ...  24.58845708  24.30342107  23.17352013   \n",
       "2  20.11643795  19.95870114  ...  18.40746571  16.44076791  14.80798801   \n",
       "3  21.05833391  20.83639622  ...  21.93134446  22.51225199  19.87382492   \n",
       "4           ..           ..  ...  47.76683415  47.55544345  45.63534427   \n",
       "\n",
       "          2016         2017         2018         2019         2020 2021 2022  \n",
       "0  14.96386557  13.41810079  11.82578069  14.87426431  19.11757389   ..   ..  \n",
       "1  21.21821891  22.41241032   22.4413726  23.27337379  24.57498917   ..   ..  \n",
       "2  13.71267295  13.83644283  13.07087306  12.88752293  15.33326854   ..   ..  \n",
       "3  19.38325078  20.10090864  19.83495477  20.27153848  18.90878582   ..   ..  \n",
       "4  44.60182309   44.9639649  44.68200336    43.896015  44.85112622   ..   ..  \n",
       "\n",
       "[5 rows x 54 columns]"
      ]
     },
     "execution_count": 8,
     "metadata": {},
     "output_type": "execute_result"
    }
   ],
   "source": [
    "raw_data.head()"
   ]
  },
  {
   "cell_type": "code",
   "execution_count": 9,
   "metadata": {},
   "outputs": [
    {
     "name": "stdout",
     "output_type": "stream",
     "text": [
      "Index(['1973', '1974', '1975', '1976', '1977', '1978', '1979', '1980', '1981',\n",
      "       '1982', '1983', '1984', '1985', '1986', '1987', '1988', '1989', '1990',\n",
      "       '1991', '1992', '1993', '1994', '1995', '1996', '1997', '1998', '1999',\n",
      "       '2000', '2001', '2002', '2003', '2004', '2005', '2006', '2007', '2008',\n",
      "       '2009', '2010', '2011', '2012', '2013', '2014', '2015', '2016', '2017',\n",
      "       '2018', '2019', '2020', '2021', '2022'],\n",
      "      dtype='object')\n"
     ]
    }
   ],
   "source": [
    "# Extract columns for years from raw_data\n",
    "years_columns = raw_data.columns[4:]\n",
    "print(years_columns)"
   ]
  },
  {
   "cell_type": "code",
   "execution_count": 10,
   "metadata": {},
   "outputs": [
    {
     "name": "stdout",
     "output_type": "stream",
     "text": [
      "Index(['Series Name', 'Series Code', 'Country Name', 'Country Code', '1973',\n",
      "       '1974', '1975', '1976', '1977', '1978', '1979', '1980', '1981', '1982',\n",
      "       '1983', '1984', '1985', '1986', '1987', '1988', '1989', '1990', '1991',\n",
      "       '1992', '1993', '1994', '1995', '1996', '1997', '1998', '1999', '2000',\n",
      "       '2001', '2002', '2003', '2004', '2005', '2006', '2007', '2008', '2009',\n",
      "       '2010', '2011', '2012', '2013', '2014', '2015', '2016', '2017', '2018',\n",
      "       '2019', '2020', '2021', '2022'],\n",
      "      dtype='object')\n"
     ]
    }
   ],
   "source": [
    "# Get Availble columns\n",
    "print(raw_data.columns)"
   ]
  },
  {
   "cell_type": "code",
   "execution_count": 11,
   "metadata": {},
   "outputs": [
    {
     "name": "stdout",
     "output_type": "stream",
     "text": [
      "['Adjusted savings: gross savings (% of GNI)', 'Annual freshwater withdrawals, domestic (% of total freshwater withdrawal)', 'Bank nonperforming loans to total gross loans (%)', 'Claims on other sectors of the domestic economy (% of GDP)', 'Claims on other sectors of the domestic economy (annual growth as % of broad money)', 'Domestic credit provided by financial sector (% of GDP)', 'Domestic credit to private sector (% of GDP)', 'Domestic credit to private sector by banks (% of GDP)', 'Domestic general government health expenditure (% of current health expenditure)', 'Domestic general government health expenditure (% of GDP)', 'Domestic general government health expenditure (% of general government expenditure)', 'Domestic general government health expenditure per capita (current US$)', 'Domestic general government health expenditure per capita, PPP (current international $)', 'Domestic private health expenditure (% of current health expenditure)', 'Domestic private health expenditure per capita (current US$)', 'Domestic private health expenditure per capita, PPP (current international $)', 'Gross capital formation (% of GDP)', 'Gross capital formation (annual % growth)', 'Gross capital formation (constant 2015 US$)', 'Gross capital formation (constant LCU)', 'Gross capital formation (current LCU)', 'Gross capital formation (current US$)', 'Gross domestic income (constant LCU)', 'Gross domestic savings (% of GDP)', 'Gross domestic savings (current LCU)', 'Gross domestic savings (current US$)', 'Gross fixed capital formation (% of GDP)', 'Gross fixed capital formation (annual % growth)', 'Gross fixed capital formation (constant 2015 US$)', 'Gross fixed capital formation (constant LCU)', 'Gross fixed capital formation (current LCU)', 'Gross fixed capital formation (current US$)', 'Gross fixed capital formation, private sector (% of GDP)', 'Gross fixed capital formation, private sector (current LCU)', 'Gross intake ratio in first grade of primary education, female (% of relevant age group)', 'Gross intake ratio in first grade of primary education, male (% of relevant age group)', 'Gross intake ratio in first grade of primary education, total (% of relevant age group)', 'Gross national expenditure (% of GDP)', 'Gross national expenditure (constant 2015 US$)', 'Gross national expenditure (constant LCU)', 'Gross national expenditure (current LCU)', 'Gross national expenditure (current US$)', 'Gross national expenditure deflator (base year varies by country)', 'Gross savings (% of GDP)', 'Gross savings (% of GNI)', 'Gross savings (current LCU)', 'Gross savings (current US$)', 'Gross value added at basic prices (GVA) (constant 2015 US$)', 'Gross value added at basic prices (GVA) (constant LCU)', 'Gross value added at basic prices (GVA) (current LCU)', 'Gross value added at basic prices (GVA) (current US$)', 'Listed domestic companies, total', 'Market capitalization of listed domestic companies (% of GDP)', 'Market capitalization of listed domestic companies (current US$)', 'Net ODA received (% of gross capital formation)', 'Net domestic credit (current LCU)', 'Proportion of time spent on unpaid domestic and care work, female (% of 24 hour day)', 'Proportion of time spent on unpaid domestic and care work, male (% of 24 hour day)', 'School enrollment, preprimary (% gross)', 'School enrollment, preprimary, female (% gross)', 'School enrollment, preprimary, male (% gross)', 'School enrollment, primary (% gross)', 'School enrollment, primary (gross), gender parity index (GPI)', 'School enrollment, primary and secondary (gross), gender parity index (GPI)', 'School enrollment, primary, female (% gross)', 'School enrollment, primary, male (% gross)', 'School enrollment, secondary (% gross)', 'School enrollment, secondary (gross), gender parity index (GPI)', 'School enrollment, secondary, female (% gross)', 'School enrollment, secondary, male (% gross)', 'School enrollment, tertiary (% gross)', 'School enrollment, tertiary (gross), gender parity index (GPI)', 'School enrollment, tertiary, female (% gross)', 'School enrollment, tertiary, male (% gross)', 'Stocks traded, turnover ratio of domestic shares (%)', 'nan', 'Data from database: World Development Indicators', 'Last Updated: 10/26/2023']\n"
     ]
    }
   ],
   "source": [
    "# Types of Data available\n",
    "data_available = raw_data['Series Name'].unique()\n",
    "DATA_NAME = data_available\n",
    "# Convert all elements to strings\n",
    "data_available = [str(value) for value in data_available]\n",
    "\n",
    "print(data_available)"
   ]
  },
  {
   "cell_type": "markdown",
   "metadata": {},
   "source": [
    "## 2d dataframe"
   ]
  },
  {
   "cell_type": "code",
   "execution_count": 12,
   "metadata": {},
   "outputs": [
    {
     "data": {
      "text/html": [
       "<div>\n",
       "<style scoped>\n",
       "    .dataframe tbody tr th:only-of-type {\n",
       "        vertical-align: middle;\n",
       "    }\n",
       "\n",
       "    .dataframe tbody tr th {\n",
       "        vertical-align: top;\n",
       "    }\n",
       "\n",
       "    .dataframe thead th {\n",
       "        text-align: right;\n",
       "    }\n",
       "</style>\n",
       "<table border=\"1\" class=\"dataframe\">\n",
       "  <thead>\n",
       "    <tr style=\"text-align: right;\">\n",
       "      <th></th>\n",
       "      <th>Countries</th>\n",
       "      <th>Adjusted savings: gross savings (% of GNI)</th>\n",
       "      <th>Annual freshwater withdrawals, domestic (% of total freshwater withdrawal)</th>\n",
       "      <th>Bank nonperforming loans to total gross loans (%)</th>\n",
       "      <th>Claims on other sectors of the domestic economy (% of GDP)</th>\n",
       "      <th>Claims on other sectors of the domestic economy (annual growth as % of broad money)</th>\n",
       "      <th>Domestic credit provided by financial sector (% of GDP)</th>\n",
       "      <th>Domestic credit to private sector (% of GDP)</th>\n",
       "      <th>Domestic credit to private sector by banks (% of GDP)</th>\n",
       "      <th>Domestic general government health expenditure (% of current health expenditure)</th>\n",
       "      <th>...</th>\n",
       "      <th>School enrollment, secondary (% gross)</th>\n",
       "      <th>School enrollment, secondary (gross), gender parity index (GPI)</th>\n",
       "      <th>School enrollment, secondary, female (% gross)</th>\n",
       "      <th>School enrollment, secondary, male (% gross)</th>\n",
       "      <th>School enrollment, tertiary (% gross)</th>\n",
       "      <th>School enrollment, tertiary (gross), gender parity index (GPI)</th>\n",
       "      <th>School enrollment, tertiary, female (% gross)</th>\n",
       "      <th>School enrollment, tertiary, male (% gross)</th>\n",
       "      <th>Stocks traded, turnover ratio of domestic shares (%)</th>\n",
       "      <th>Data from database: World Development Indicators</th>\n",
       "    </tr>\n",
       "  </thead>\n",
       "  <tbody>\n",
       "    <tr>\n",
       "      <th>0</th>\n",
       "      <td>Argentina</td>\n",
       "      <td>NaN</td>\n",
       "      <td>NaN</td>\n",
       "      <td>NaN</td>\n",
       "      <td>NaN</td>\n",
       "      <td>NaN</td>\n",
       "      <td>NaN</td>\n",
       "      <td>NaN</td>\n",
       "      <td>NaN</td>\n",
       "      <td>NaN</td>\n",
       "      <td>...</td>\n",
       "      <td>NaN</td>\n",
       "      <td>NaN</td>\n",
       "      <td>NaN</td>\n",
       "      <td>NaN</td>\n",
       "      <td>NaN</td>\n",
       "      <td>NaN</td>\n",
       "      <td>NaN</td>\n",
       "      <td>NaN</td>\n",
       "      <td>NaN</td>\n",
       "      <td>NaN</td>\n",
       "    </tr>\n",
       "    <tr>\n",
       "      <th>1</th>\n",
       "      <td>Australia</td>\n",
       "      <td>NaN</td>\n",
       "      <td>NaN</td>\n",
       "      <td>NaN</td>\n",
       "      <td>NaN</td>\n",
       "      <td>NaN</td>\n",
       "      <td>NaN</td>\n",
       "      <td>NaN</td>\n",
       "      <td>NaN</td>\n",
       "      <td>NaN</td>\n",
       "      <td>...</td>\n",
       "      <td>NaN</td>\n",
       "      <td>NaN</td>\n",
       "      <td>NaN</td>\n",
       "      <td>NaN</td>\n",
       "      <td>NaN</td>\n",
       "      <td>NaN</td>\n",
       "      <td>NaN</td>\n",
       "      <td>NaN</td>\n",
       "      <td>NaN</td>\n",
       "      <td>NaN</td>\n",
       "    </tr>\n",
       "    <tr>\n",
       "      <th>2</th>\n",
       "      <td>Brazil</td>\n",
       "      <td>NaN</td>\n",
       "      <td>NaN</td>\n",
       "      <td>NaN</td>\n",
       "      <td>NaN</td>\n",
       "      <td>NaN</td>\n",
       "      <td>NaN</td>\n",
       "      <td>NaN</td>\n",
       "      <td>NaN</td>\n",
       "      <td>NaN</td>\n",
       "      <td>...</td>\n",
       "      <td>NaN</td>\n",
       "      <td>NaN</td>\n",
       "      <td>NaN</td>\n",
       "      <td>NaN</td>\n",
       "      <td>NaN</td>\n",
       "      <td>NaN</td>\n",
       "      <td>NaN</td>\n",
       "      <td>NaN</td>\n",
       "      <td>NaN</td>\n",
       "      <td>NaN</td>\n",
       "    </tr>\n",
       "    <tr>\n",
       "      <th>3</th>\n",
       "      <td>Canada</td>\n",
       "      <td>NaN</td>\n",
       "      <td>NaN</td>\n",
       "      <td>NaN</td>\n",
       "      <td>NaN</td>\n",
       "      <td>NaN</td>\n",
       "      <td>NaN</td>\n",
       "      <td>NaN</td>\n",
       "      <td>NaN</td>\n",
       "      <td>NaN</td>\n",
       "      <td>...</td>\n",
       "      <td>NaN</td>\n",
       "      <td>NaN</td>\n",
       "      <td>NaN</td>\n",
       "      <td>NaN</td>\n",
       "      <td>NaN</td>\n",
       "      <td>NaN</td>\n",
       "      <td>NaN</td>\n",
       "      <td>NaN</td>\n",
       "      <td>NaN</td>\n",
       "      <td>NaN</td>\n",
       "    </tr>\n",
       "    <tr>\n",
       "      <th>4</th>\n",
       "      <td>China</td>\n",
       "      <td>NaN</td>\n",
       "      <td>NaN</td>\n",
       "      <td>NaN</td>\n",
       "      <td>NaN</td>\n",
       "      <td>NaN</td>\n",
       "      <td>NaN</td>\n",
       "      <td>NaN</td>\n",
       "      <td>NaN</td>\n",
       "      <td>NaN</td>\n",
       "      <td>...</td>\n",
       "      <td>NaN</td>\n",
       "      <td>NaN</td>\n",
       "      <td>NaN</td>\n",
       "      <td>NaN</td>\n",
       "      <td>NaN</td>\n",
       "      <td>NaN</td>\n",
       "      <td>NaN</td>\n",
       "      <td>NaN</td>\n",
       "      <td>NaN</td>\n",
       "      <td>NaN</td>\n",
       "    </tr>\n",
       "    <tr>\n",
       "      <th>5</th>\n",
       "      <td>France</td>\n",
       "      <td>NaN</td>\n",
       "      <td>NaN</td>\n",
       "      <td>NaN</td>\n",
       "      <td>NaN</td>\n",
       "      <td>NaN</td>\n",
       "      <td>NaN</td>\n",
       "      <td>NaN</td>\n",
       "      <td>NaN</td>\n",
       "      <td>NaN</td>\n",
       "      <td>...</td>\n",
       "      <td>NaN</td>\n",
       "      <td>NaN</td>\n",
       "      <td>NaN</td>\n",
       "      <td>NaN</td>\n",
       "      <td>NaN</td>\n",
       "      <td>NaN</td>\n",
       "      <td>NaN</td>\n",
       "      <td>NaN</td>\n",
       "      <td>NaN</td>\n",
       "      <td>NaN</td>\n",
       "    </tr>\n",
       "    <tr>\n",
       "      <th>6</th>\n",
       "      <td>Germany</td>\n",
       "      <td>NaN</td>\n",
       "      <td>NaN</td>\n",
       "      <td>NaN</td>\n",
       "      <td>NaN</td>\n",
       "      <td>NaN</td>\n",
       "      <td>NaN</td>\n",
       "      <td>NaN</td>\n",
       "      <td>NaN</td>\n",
       "      <td>NaN</td>\n",
       "      <td>...</td>\n",
       "      <td>NaN</td>\n",
       "      <td>NaN</td>\n",
       "      <td>NaN</td>\n",
       "      <td>NaN</td>\n",
       "      <td>NaN</td>\n",
       "      <td>NaN</td>\n",
       "      <td>NaN</td>\n",
       "      <td>NaN</td>\n",
       "      <td>NaN</td>\n",
       "      <td>NaN</td>\n",
       "    </tr>\n",
       "    <tr>\n",
       "      <th>7</th>\n",
       "      <td>India</td>\n",
       "      <td>NaN</td>\n",
       "      <td>NaN</td>\n",
       "      <td>NaN</td>\n",
       "      <td>NaN</td>\n",
       "      <td>NaN</td>\n",
       "      <td>NaN</td>\n",
       "      <td>NaN</td>\n",
       "      <td>NaN</td>\n",
       "      <td>NaN</td>\n",
       "      <td>...</td>\n",
       "      <td>NaN</td>\n",
       "      <td>NaN</td>\n",
       "      <td>NaN</td>\n",
       "      <td>NaN</td>\n",
       "      <td>NaN</td>\n",
       "      <td>NaN</td>\n",
       "      <td>NaN</td>\n",
       "      <td>NaN</td>\n",
       "      <td>NaN</td>\n",
       "      <td>NaN</td>\n",
       "    </tr>\n",
       "    <tr>\n",
       "      <th>8</th>\n",
       "      <td>Indonesia</td>\n",
       "      <td>NaN</td>\n",
       "      <td>NaN</td>\n",
       "      <td>NaN</td>\n",
       "      <td>NaN</td>\n",
       "      <td>NaN</td>\n",
       "      <td>NaN</td>\n",
       "      <td>NaN</td>\n",
       "      <td>NaN</td>\n",
       "      <td>NaN</td>\n",
       "      <td>...</td>\n",
       "      <td>NaN</td>\n",
       "      <td>NaN</td>\n",
       "      <td>NaN</td>\n",
       "      <td>NaN</td>\n",
       "      <td>NaN</td>\n",
       "      <td>NaN</td>\n",
       "      <td>NaN</td>\n",
       "      <td>NaN</td>\n",
       "      <td>NaN</td>\n",
       "      <td>NaN</td>\n",
       "    </tr>\n",
       "    <tr>\n",
       "      <th>9</th>\n",
       "      <td>Italy</td>\n",
       "      <td>NaN</td>\n",
       "      <td>NaN</td>\n",
       "      <td>NaN</td>\n",
       "      <td>NaN</td>\n",
       "      <td>NaN</td>\n",
       "      <td>NaN</td>\n",
       "      <td>NaN</td>\n",
       "      <td>NaN</td>\n",
       "      <td>NaN</td>\n",
       "      <td>...</td>\n",
       "      <td>NaN</td>\n",
       "      <td>NaN</td>\n",
       "      <td>NaN</td>\n",
       "      <td>NaN</td>\n",
       "      <td>NaN</td>\n",
       "      <td>NaN</td>\n",
       "      <td>NaN</td>\n",
       "      <td>NaN</td>\n",
       "      <td>NaN</td>\n",
       "      <td>NaN</td>\n",
       "    </tr>\n",
       "    <tr>\n",
       "      <th>10</th>\n",
       "      <td>United States</td>\n",
       "      <td>NaN</td>\n",
       "      <td>NaN</td>\n",
       "      <td>NaN</td>\n",
       "      <td>NaN</td>\n",
       "      <td>NaN</td>\n",
       "      <td>NaN</td>\n",
       "      <td>NaN</td>\n",
       "      <td>NaN</td>\n",
       "      <td>NaN</td>\n",
       "      <td>...</td>\n",
       "      <td>NaN</td>\n",
       "      <td>NaN</td>\n",
       "      <td>NaN</td>\n",
       "      <td>NaN</td>\n",
       "      <td>NaN</td>\n",
       "      <td>NaN</td>\n",
       "      <td>NaN</td>\n",
       "      <td>NaN</td>\n",
       "      <td>NaN</td>\n",
       "      <td>NaN</td>\n",
       "    </tr>\n",
       "    <tr>\n",
       "      <th>11</th>\n",
       "      <td>United Kingdom</td>\n",
       "      <td>NaN</td>\n",
       "      <td>NaN</td>\n",
       "      <td>NaN</td>\n",
       "      <td>NaN</td>\n",
       "      <td>NaN</td>\n",
       "      <td>NaN</td>\n",
       "      <td>NaN</td>\n",
       "      <td>NaN</td>\n",
       "      <td>NaN</td>\n",
       "      <td>...</td>\n",
       "      <td>NaN</td>\n",
       "      <td>NaN</td>\n",
       "      <td>NaN</td>\n",
       "      <td>NaN</td>\n",
       "      <td>NaN</td>\n",
       "      <td>NaN</td>\n",
       "      <td>NaN</td>\n",
       "      <td>NaN</td>\n",
       "      <td>NaN</td>\n",
       "      <td>NaN</td>\n",
       "    </tr>\n",
       "    <tr>\n",
       "      <th>12</th>\n",
       "      <td>Mexico</td>\n",
       "      <td>NaN</td>\n",
       "      <td>NaN</td>\n",
       "      <td>NaN</td>\n",
       "      <td>NaN</td>\n",
       "      <td>NaN</td>\n",
       "      <td>NaN</td>\n",
       "      <td>NaN</td>\n",
       "      <td>NaN</td>\n",
       "      <td>NaN</td>\n",
       "      <td>...</td>\n",
       "      <td>NaN</td>\n",
       "      <td>NaN</td>\n",
       "      <td>NaN</td>\n",
       "      <td>NaN</td>\n",
       "      <td>NaN</td>\n",
       "      <td>NaN</td>\n",
       "      <td>NaN</td>\n",
       "      <td>NaN</td>\n",
       "      <td>NaN</td>\n",
       "      <td>NaN</td>\n",
       "    </tr>\n",
       "    <tr>\n",
       "      <th>13</th>\n",
       "      <td>Japan</td>\n",
       "      <td>NaN</td>\n",
       "      <td>NaN</td>\n",
       "      <td>NaN</td>\n",
       "      <td>NaN</td>\n",
       "      <td>NaN</td>\n",
       "      <td>NaN</td>\n",
       "      <td>NaN</td>\n",
       "      <td>NaN</td>\n",
       "      <td>NaN</td>\n",
       "      <td>...</td>\n",
       "      <td>NaN</td>\n",
       "      <td>NaN</td>\n",
       "      <td>NaN</td>\n",
       "      <td>NaN</td>\n",
       "      <td>NaN</td>\n",
       "      <td>NaN</td>\n",
       "      <td>NaN</td>\n",
       "      <td>NaN</td>\n",
       "      <td>NaN</td>\n",
       "      <td>NaN</td>\n",
       "    </tr>\n",
       "    <tr>\n",
       "      <th>14</th>\n",
       "      <td>Korea, Rep.</td>\n",
       "      <td>NaN</td>\n",
       "      <td>NaN</td>\n",
       "      <td>NaN</td>\n",
       "      <td>NaN</td>\n",
       "      <td>NaN</td>\n",
       "      <td>NaN</td>\n",
       "      <td>NaN</td>\n",
       "      <td>NaN</td>\n",
       "      <td>NaN</td>\n",
       "      <td>...</td>\n",
       "      <td>NaN</td>\n",
       "      <td>NaN</td>\n",
       "      <td>NaN</td>\n",
       "      <td>NaN</td>\n",
       "      <td>NaN</td>\n",
       "      <td>NaN</td>\n",
       "      <td>NaN</td>\n",
       "      <td>NaN</td>\n",
       "      <td>NaN</td>\n",
       "      <td>NaN</td>\n",
       "    </tr>\n",
       "    <tr>\n",
       "      <th>15</th>\n",
       "      <td>Russian Federation</td>\n",
       "      <td>NaN</td>\n",
       "      <td>NaN</td>\n",
       "      <td>NaN</td>\n",
       "      <td>NaN</td>\n",
       "      <td>NaN</td>\n",
       "      <td>NaN</td>\n",
       "      <td>NaN</td>\n",
       "      <td>NaN</td>\n",
       "      <td>NaN</td>\n",
       "      <td>...</td>\n",
       "      <td>NaN</td>\n",
       "      <td>NaN</td>\n",
       "      <td>NaN</td>\n",
       "      <td>NaN</td>\n",
       "      <td>NaN</td>\n",
       "      <td>NaN</td>\n",
       "      <td>NaN</td>\n",
       "      <td>NaN</td>\n",
       "      <td>NaN</td>\n",
       "      <td>NaN</td>\n",
       "    </tr>\n",
       "    <tr>\n",
       "      <th>16</th>\n",
       "      <td>Saudi Arabia</td>\n",
       "      <td>NaN</td>\n",
       "      <td>NaN</td>\n",
       "      <td>NaN</td>\n",
       "      <td>NaN</td>\n",
       "      <td>NaN</td>\n",
       "      <td>NaN</td>\n",
       "      <td>NaN</td>\n",
       "      <td>NaN</td>\n",
       "      <td>NaN</td>\n",
       "      <td>...</td>\n",
       "      <td>NaN</td>\n",
       "      <td>NaN</td>\n",
       "      <td>NaN</td>\n",
       "      <td>NaN</td>\n",
       "      <td>NaN</td>\n",
       "      <td>NaN</td>\n",
       "      <td>NaN</td>\n",
       "      <td>NaN</td>\n",
       "      <td>NaN</td>\n",
       "      <td>NaN</td>\n",
       "    </tr>\n",
       "    <tr>\n",
       "      <th>17</th>\n",
       "      <td>South Africa</td>\n",
       "      <td>NaN</td>\n",
       "      <td>NaN</td>\n",
       "      <td>NaN</td>\n",
       "      <td>NaN</td>\n",
       "      <td>NaN</td>\n",
       "      <td>NaN</td>\n",
       "      <td>NaN</td>\n",
       "      <td>NaN</td>\n",
       "      <td>NaN</td>\n",
       "      <td>...</td>\n",
       "      <td>NaN</td>\n",
       "      <td>NaN</td>\n",
       "      <td>NaN</td>\n",
       "      <td>NaN</td>\n",
       "      <td>NaN</td>\n",
       "      <td>NaN</td>\n",
       "      <td>NaN</td>\n",
       "      <td>NaN</td>\n",
       "      <td>NaN</td>\n",
       "      <td>NaN</td>\n",
       "    </tr>\n",
       "    <tr>\n",
       "      <th>18</th>\n",
       "      <td>Turkiye</td>\n",
       "      <td>NaN</td>\n",
       "      <td>NaN</td>\n",
       "      <td>NaN</td>\n",
       "      <td>NaN</td>\n",
       "      <td>NaN</td>\n",
       "      <td>NaN</td>\n",
       "      <td>NaN</td>\n",
       "      <td>NaN</td>\n",
       "      <td>NaN</td>\n",
       "      <td>...</td>\n",
       "      <td>NaN</td>\n",
       "      <td>NaN</td>\n",
       "      <td>NaN</td>\n",
       "      <td>NaN</td>\n",
       "      <td>NaN</td>\n",
       "      <td>NaN</td>\n",
       "      <td>NaN</td>\n",
       "      <td>NaN</td>\n",
       "      <td>NaN</td>\n",
       "      <td>NaN</td>\n",
       "    </tr>\n",
       "    <tr>\n",
       "      <th>19</th>\n",
       "      <td>European Union</td>\n",
       "      <td>NaN</td>\n",
       "      <td>NaN</td>\n",
       "      <td>NaN</td>\n",
       "      <td>NaN</td>\n",
       "      <td>NaN</td>\n",
       "      <td>NaN</td>\n",
       "      <td>NaN</td>\n",
       "      <td>NaN</td>\n",
       "      <td>NaN</td>\n",
       "      <td>...</td>\n",
       "      <td>NaN</td>\n",
       "      <td>NaN</td>\n",
       "      <td>NaN</td>\n",
       "      <td>NaN</td>\n",
       "      <td>NaN</td>\n",
       "      <td>NaN</td>\n",
       "      <td>NaN</td>\n",
       "      <td>NaN</td>\n",
       "      <td>NaN</td>\n",
       "      <td>NaN</td>\n",
       "    </tr>\n",
       "  </tbody>\n",
       "</table>\n",
       "<p>20 rows × 77 columns</p>\n",
       "</div>"
      ],
      "text/plain": [
       "             Countries Adjusted savings: gross savings (% of GNI)  \\\n",
       "0            Argentina                                        NaN   \n",
       "1            Australia                                        NaN   \n",
       "2               Brazil                                        NaN   \n",
       "3               Canada                                        NaN   \n",
       "4                China                                        NaN   \n",
       "5               France                                        NaN   \n",
       "6              Germany                                        NaN   \n",
       "7                India                                        NaN   \n",
       "8            Indonesia                                        NaN   \n",
       "9                Italy                                        NaN   \n",
       "10       United States                                        NaN   \n",
       "11      United Kingdom                                        NaN   \n",
       "12              Mexico                                        NaN   \n",
       "13               Japan                                        NaN   \n",
       "14         Korea, Rep.                                        NaN   \n",
       "15  Russian Federation                                        NaN   \n",
       "16        Saudi Arabia                                        NaN   \n",
       "17        South Africa                                        NaN   \n",
       "18             Turkiye                                        NaN   \n",
       "19      European Union                                        NaN   \n",
       "\n",
       "   Annual freshwater withdrawals, domestic (% of total freshwater withdrawal)  \\\n",
       "0                                                 NaN                           \n",
       "1                                                 NaN                           \n",
       "2                                                 NaN                           \n",
       "3                                                 NaN                           \n",
       "4                                                 NaN                           \n",
       "5                                                 NaN                           \n",
       "6                                                 NaN                           \n",
       "7                                                 NaN                           \n",
       "8                                                 NaN                           \n",
       "9                                                 NaN                           \n",
       "10                                                NaN                           \n",
       "11                                                NaN                           \n",
       "12                                                NaN                           \n",
       "13                                                NaN                           \n",
       "14                                                NaN                           \n",
       "15                                                NaN                           \n",
       "16                                                NaN                           \n",
       "17                                                NaN                           \n",
       "18                                                NaN                           \n",
       "19                                                NaN                           \n",
       "\n",
       "   Bank nonperforming loans to total gross loans (%)  \\\n",
       "0                                                NaN   \n",
       "1                                                NaN   \n",
       "2                                                NaN   \n",
       "3                                                NaN   \n",
       "4                                                NaN   \n",
       "5                                                NaN   \n",
       "6                                                NaN   \n",
       "7                                                NaN   \n",
       "8                                                NaN   \n",
       "9                                                NaN   \n",
       "10                                               NaN   \n",
       "11                                               NaN   \n",
       "12                                               NaN   \n",
       "13                                               NaN   \n",
       "14                                               NaN   \n",
       "15                                               NaN   \n",
       "16                                               NaN   \n",
       "17                                               NaN   \n",
       "18                                               NaN   \n",
       "19                                               NaN   \n",
       "\n",
       "   Claims on other sectors of the domestic economy (% of GDP)  \\\n",
       "0                                                 NaN           \n",
       "1                                                 NaN           \n",
       "2                                                 NaN           \n",
       "3                                                 NaN           \n",
       "4                                                 NaN           \n",
       "5                                                 NaN           \n",
       "6                                                 NaN           \n",
       "7                                                 NaN           \n",
       "8                                                 NaN           \n",
       "9                                                 NaN           \n",
       "10                                                NaN           \n",
       "11                                                NaN           \n",
       "12                                                NaN           \n",
       "13                                                NaN           \n",
       "14                                                NaN           \n",
       "15                                                NaN           \n",
       "16                                                NaN           \n",
       "17                                                NaN           \n",
       "18                                                NaN           \n",
       "19                                                NaN           \n",
       "\n",
       "   Claims on other sectors of the domestic economy (annual growth as % of broad money)  \\\n",
       "0                                                 NaN                                    \n",
       "1                                                 NaN                                    \n",
       "2                                                 NaN                                    \n",
       "3                                                 NaN                                    \n",
       "4                                                 NaN                                    \n",
       "5                                                 NaN                                    \n",
       "6                                                 NaN                                    \n",
       "7                                                 NaN                                    \n",
       "8                                                 NaN                                    \n",
       "9                                                 NaN                                    \n",
       "10                                                NaN                                    \n",
       "11                                                NaN                                    \n",
       "12                                                NaN                                    \n",
       "13                                                NaN                                    \n",
       "14                                                NaN                                    \n",
       "15                                                NaN                                    \n",
       "16                                                NaN                                    \n",
       "17                                                NaN                                    \n",
       "18                                                NaN                                    \n",
       "19                                                NaN                                    \n",
       "\n",
       "   Domestic credit provided by financial sector (% of GDP)  \\\n",
       "0                                                 NaN        \n",
       "1                                                 NaN        \n",
       "2                                                 NaN        \n",
       "3                                                 NaN        \n",
       "4                                                 NaN        \n",
       "5                                                 NaN        \n",
       "6                                                 NaN        \n",
       "7                                                 NaN        \n",
       "8                                                 NaN        \n",
       "9                                                 NaN        \n",
       "10                                                NaN        \n",
       "11                                                NaN        \n",
       "12                                                NaN        \n",
       "13                                                NaN        \n",
       "14                                                NaN        \n",
       "15                                                NaN        \n",
       "16                                                NaN        \n",
       "17                                                NaN        \n",
       "18                                                NaN        \n",
       "19                                                NaN        \n",
       "\n",
       "   Domestic credit to private sector (% of GDP)  \\\n",
       "0                                           NaN   \n",
       "1                                           NaN   \n",
       "2                                           NaN   \n",
       "3                                           NaN   \n",
       "4                                           NaN   \n",
       "5                                           NaN   \n",
       "6                                           NaN   \n",
       "7                                           NaN   \n",
       "8                                           NaN   \n",
       "9                                           NaN   \n",
       "10                                          NaN   \n",
       "11                                          NaN   \n",
       "12                                          NaN   \n",
       "13                                          NaN   \n",
       "14                                          NaN   \n",
       "15                                          NaN   \n",
       "16                                          NaN   \n",
       "17                                          NaN   \n",
       "18                                          NaN   \n",
       "19                                          NaN   \n",
       "\n",
       "   Domestic credit to private sector by banks (% of GDP)  \\\n",
       "0                                                 NaN      \n",
       "1                                                 NaN      \n",
       "2                                                 NaN      \n",
       "3                                                 NaN      \n",
       "4                                                 NaN      \n",
       "5                                                 NaN      \n",
       "6                                                 NaN      \n",
       "7                                                 NaN      \n",
       "8                                                 NaN      \n",
       "9                                                 NaN      \n",
       "10                                                NaN      \n",
       "11                                                NaN      \n",
       "12                                                NaN      \n",
       "13                                                NaN      \n",
       "14                                                NaN      \n",
       "15                                                NaN      \n",
       "16                                                NaN      \n",
       "17                                                NaN      \n",
       "18                                                NaN      \n",
       "19                                                NaN      \n",
       "\n",
       "   Domestic general government health expenditure (% of current health expenditure)  \\\n",
       "0                                                 NaN                                 \n",
       "1                                                 NaN                                 \n",
       "2                                                 NaN                                 \n",
       "3                                                 NaN                                 \n",
       "4                                                 NaN                                 \n",
       "5                                                 NaN                                 \n",
       "6                                                 NaN                                 \n",
       "7                                                 NaN                                 \n",
       "8                                                 NaN                                 \n",
       "9                                                 NaN                                 \n",
       "10                                                NaN                                 \n",
       "11                                                NaN                                 \n",
       "12                                                NaN                                 \n",
       "13                                                NaN                                 \n",
       "14                                                NaN                                 \n",
       "15                                                NaN                                 \n",
       "16                                                NaN                                 \n",
       "17                                                NaN                                 \n",
       "18                                                NaN                                 \n",
       "19                                                NaN                                 \n",
       "\n",
       "    ... School enrollment, secondary (% gross)  \\\n",
       "0   ...                                    NaN   \n",
       "1   ...                                    NaN   \n",
       "2   ...                                    NaN   \n",
       "3   ...                                    NaN   \n",
       "4   ...                                    NaN   \n",
       "5   ...                                    NaN   \n",
       "6   ...                                    NaN   \n",
       "7   ...                                    NaN   \n",
       "8   ...                                    NaN   \n",
       "9   ...                                    NaN   \n",
       "10  ...                                    NaN   \n",
       "11  ...                                    NaN   \n",
       "12  ...                                    NaN   \n",
       "13  ...                                    NaN   \n",
       "14  ...                                    NaN   \n",
       "15  ...                                    NaN   \n",
       "16  ...                                    NaN   \n",
       "17  ...                                    NaN   \n",
       "18  ...                                    NaN   \n",
       "19  ...                                    NaN   \n",
       "\n",
       "   School enrollment, secondary (gross), gender parity index (GPI)  \\\n",
       "0                                                 NaN                \n",
       "1                                                 NaN                \n",
       "2                                                 NaN                \n",
       "3                                                 NaN                \n",
       "4                                                 NaN                \n",
       "5                                                 NaN                \n",
       "6                                                 NaN                \n",
       "7                                                 NaN                \n",
       "8                                                 NaN                \n",
       "9                                                 NaN                \n",
       "10                                                NaN                \n",
       "11                                                NaN                \n",
       "12                                                NaN                \n",
       "13                                                NaN                \n",
       "14                                                NaN                \n",
       "15                                                NaN                \n",
       "16                                                NaN                \n",
       "17                                                NaN                \n",
       "18                                                NaN                \n",
       "19                                                NaN                \n",
       "\n",
       "   School enrollment, secondary, female (% gross)  \\\n",
       "0                                             NaN   \n",
       "1                                             NaN   \n",
       "2                                             NaN   \n",
       "3                                             NaN   \n",
       "4                                             NaN   \n",
       "5                                             NaN   \n",
       "6                                             NaN   \n",
       "7                                             NaN   \n",
       "8                                             NaN   \n",
       "9                                             NaN   \n",
       "10                                            NaN   \n",
       "11                                            NaN   \n",
       "12                                            NaN   \n",
       "13                                            NaN   \n",
       "14                                            NaN   \n",
       "15                                            NaN   \n",
       "16                                            NaN   \n",
       "17                                            NaN   \n",
       "18                                            NaN   \n",
       "19                                            NaN   \n",
       "\n",
       "   School enrollment, secondary, male (% gross)  \\\n",
       "0                                           NaN   \n",
       "1                                           NaN   \n",
       "2                                           NaN   \n",
       "3                                           NaN   \n",
       "4                                           NaN   \n",
       "5                                           NaN   \n",
       "6                                           NaN   \n",
       "7                                           NaN   \n",
       "8                                           NaN   \n",
       "9                                           NaN   \n",
       "10                                          NaN   \n",
       "11                                          NaN   \n",
       "12                                          NaN   \n",
       "13                                          NaN   \n",
       "14                                          NaN   \n",
       "15                                          NaN   \n",
       "16                                          NaN   \n",
       "17                                          NaN   \n",
       "18                                          NaN   \n",
       "19                                          NaN   \n",
       "\n",
       "   School enrollment, tertiary (% gross)  \\\n",
       "0                                    NaN   \n",
       "1                                    NaN   \n",
       "2                                    NaN   \n",
       "3                                    NaN   \n",
       "4                                    NaN   \n",
       "5                                    NaN   \n",
       "6                                    NaN   \n",
       "7                                    NaN   \n",
       "8                                    NaN   \n",
       "9                                    NaN   \n",
       "10                                   NaN   \n",
       "11                                   NaN   \n",
       "12                                   NaN   \n",
       "13                                   NaN   \n",
       "14                                   NaN   \n",
       "15                                   NaN   \n",
       "16                                   NaN   \n",
       "17                                   NaN   \n",
       "18                                   NaN   \n",
       "19                                   NaN   \n",
       "\n",
       "   School enrollment, tertiary (gross), gender parity index (GPI)  \\\n",
       "0                                                 NaN               \n",
       "1                                                 NaN               \n",
       "2                                                 NaN               \n",
       "3                                                 NaN               \n",
       "4                                                 NaN               \n",
       "5                                                 NaN               \n",
       "6                                                 NaN               \n",
       "7                                                 NaN               \n",
       "8                                                 NaN               \n",
       "9                                                 NaN               \n",
       "10                                                NaN               \n",
       "11                                                NaN               \n",
       "12                                                NaN               \n",
       "13                                                NaN               \n",
       "14                                                NaN               \n",
       "15                                                NaN               \n",
       "16                                                NaN               \n",
       "17                                                NaN               \n",
       "18                                                NaN               \n",
       "19                                                NaN               \n",
       "\n",
       "   School enrollment, tertiary, female (% gross)  \\\n",
       "0                                            NaN   \n",
       "1                                            NaN   \n",
       "2                                            NaN   \n",
       "3                                            NaN   \n",
       "4                                            NaN   \n",
       "5                                            NaN   \n",
       "6                                            NaN   \n",
       "7                                            NaN   \n",
       "8                                            NaN   \n",
       "9                                            NaN   \n",
       "10                                           NaN   \n",
       "11                                           NaN   \n",
       "12                                           NaN   \n",
       "13                                           NaN   \n",
       "14                                           NaN   \n",
       "15                                           NaN   \n",
       "16                                           NaN   \n",
       "17                                           NaN   \n",
       "18                                           NaN   \n",
       "19                                           NaN   \n",
       "\n",
       "   School enrollment, tertiary, male (% gross)  \\\n",
       "0                                          NaN   \n",
       "1                                          NaN   \n",
       "2                                          NaN   \n",
       "3                                          NaN   \n",
       "4                                          NaN   \n",
       "5                                          NaN   \n",
       "6                                          NaN   \n",
       "7                                          NaN   \n",
       "8                                          NaN   \n",
       "9                                          NaN   \n",
       "10                                         NaN   \n",
       "11                                         NaN   \n",
       "12                                         NaN   \n",
       "13                                         NaN   \n",
       "14                                         NaN   \n",
       "15                                         NaN   \n",
       "16                                         NaN   \n",
       "17                                         NaN   \n",
       "18                                         NaN   \n",
       "19                                         NaN   \n",
       "\n",
       "   Stocks traded, turnover ratio of domestic shares (%)  \\\n",
       "0                                                 NaN     \n",
       "1                                                 NaN     \n",
       "2                                                 NaN     \n",
       "3                                                 NaN     \n",
       "4                                                 NaN     \n",
       "5                                                 NaN     \n",
       "6                                                 NaN     \n",
       "7                                                 NaN     \n",
       "8                                                 NaN     \n",
       "9                                                 NaN     \n",
       "10                                                NaN     \n",
       "11                                                NaN     \n",
       "12                                                NaN     \n",
       "13                                                NaN     \n",
       "14                                                NaN     \n",
       "15                                                NaN     \n",
       "16                                                NaN     \n",
       "17                                                NaN     \n",
       "18                                                NaN     \n",
       "19                                                NaN     \n",
       "\n",
       "   Data from database: World Development Indicators  \n",
       "0                                               NaN  \n",
       "1                                               NaN  \n",
       "2                                               NaN  \n",
       "3                                               NaN  \n",
       "4                                               NaN  \n",
       "5                                               NaN  \n",
       "6                                               NaN  \n",
       "7                                               NaN  \n",
       "8                                               NaN  \n",
       "9                                               NaN  \n",
       "10                                              NaN  \n",
       "11                                              NaN  \n",
       "12                                              NaN  \n",
       "13                                              NaN  \n",
       "14                                              NaN  \n",
       "15                                              NaN  \n",
       "16                                              NaN  \n",
       "17                                              NaN  \n",
       "18                                              NaN  \n",
       "19                                              NaN  \n",
       "\n",
       "[20 rows x 77 columns]"
      ]
     },
     "metadata": {},
     "output_type": "display_data"
    }
   ],
   "source": [
    "# Create a new DataFrame with 'country' as the first column and unique values from 'Series Name' as columns\n",
    "df = pd.DataFrame(columns=['Countries'] + data_available)\n",
    "\n",
    "# Drop the specified columns only if they exist in the DataFrame\n",
    "columns_to_remove = ['nan', 'Last Updated: 10/26/2023']\n",
    "columns_to_remove = [col for col in columns_to_remove if col in df.columns]\n",
    "\n",
    "df = df.drop(columns=columns_to_remove)\n",
    "\n",
    "# Add G20 Countries\n",
    "df[\"Countries\"] = COUNTRIES\n",
    "\n",
    "display(df)"
   ]
  },
  {
   "cell_type": "code",
   "execution_count": 13,
   "metadata": {},
   "outputs": [],
   "source": [
    "# Define the range of years\n",
    "YEARS = range(1973, 2023)\n",
    "\n",
    "# Create a MultiIndex for the index\n",
    "index = pd.MultiIndex.from_product([COUNTRIES, YEARS], names=['country', 'year'])\n",
    "\n",
    "# Create an empty DataFrame with the MultiIndex as the index\n",
    "g20_data = pd.DataFrame(index=index)\n",
    "\n",
    "# Add Columns with data\n",
    "for col in data_available:\n",
    "    g20_data[col] = None"
   ]
  },
  {
   "cell_type": "code",
   "execution_count": 14,
   "metadata": {},
   "outputs": [
    {
     "name": "stdout",
     "output_type": "stream",
     "text": [
      "MultiIndex Levels: [['Argentina', 'Australia', 'Brazil', 'Canada', 'China', 'European Union', 'France', 'Germany', 'India', 'Indonesia', 'Italy', 'Japan', 'Korea, Rep.', 'Mexico', 'Russian Federation', 'Saudi Arabia', 'South Africa', 'Turkiye', 'United Kingdom', 'United States'], [1973, 1974, 1975, 1976, 1977, 1978, 1979, 1980, 1981, 1982, 1983, 1984, 1985, 1986, 1987, 1988, 1989, 1990, 1991, 1992, 1993, 1994, 1995, 1996, 1997, 1998, 1999, 2000, 2001, 2002, 2003, 2004, 2005, 2006, 2007, 2008, 2009, 2010, 2011, 2012, 2013, 2014, 2015, 2016, 2017, 2018, 2019, 2020, 2021, 2022]]\n",
      "MultiIndex Level Names: ['country', 'year']\n",
      "Number of MultiIndex Levels: 2\n"
     ]
    }
   ],
   "source": [
    "# Assuming you have a DataFrame with a MultiIndex, such as 'g20_data'\n",
    "# You can access the MultiIndex and its structure like this:\n",
    "\n",
    "multi_index = g20_data.index\n",
    "\n",
    "# To get the levels of the MultiIndex\n",
    "levels = multi_index.levels\n",
    "\n",
    "# To get the names of the levels\n",
    "level_names = multi_index.names\n",
    "\n",
    "# To get the number of levels in the MultiIndex\n",
    "num_levels = multi_index.nlevels\n",
    "\n",
    "# Print the information\n",
    "print(\"MultiIndex Levels:\", levels)\n",
    "print(\"MultiIndex Level Names:\", level_names)\n",
    "print(\"Number of MultiIndex Levels:\", num_levels)"
   ]
  },
  {
   "cell_type": "code",
   "execution_count": 15,
   "metadata": {},
   "outputs": [
    {
     "data": {
      "text/html": [
       "<div>\n",
       "<style scoped>\n",
       "    .dataframe tbody tr th:only-of-type {\n",
       "        vertical-align: middle;\n",
       "    }\n",
       "\n",
       "    .dataframe tbody tr th {\n",
       "        vertical-align: top;\n",
       "    }\n",
       "\n",
       "    .dataframe thead th {\n",
       "        text-align: right;\n",
       "    }\n",
       "</style>\n",
       "<table border=\"1\" class=\"dataframe\">\n",
       "  <thead>\n",
       "    <tr style=\"text-align: right;\">\n",
       "      <th></th>\n",
       "      <th></th>\n",
       "      <th>Adjusted savings: gross savings (% of GNI)</th>\n",
       "      <th>Annual freshwater withdrawals, domestic (% of total freshwater withdrawal)</th>\n",
       "      <th>Bank nonperforming loans to total gross loans (%)</th>\n",
       "      <th>Claims on other sectors of the domestic economy (% of GDP)</th>\n",
       "      <th>Claims on other sectors of the domestic economy (annual growth as % of broad money)</th>\n",
       "      <th>Domestic credit provided by financial sector (% of GDP)</th>\n",
       "      <th>Domestic credit to private sector (% of GDP)</th>\n",
       "      <th>Domestic credit to private sector by banks (% of GDP)</th>\n",
       "      <th>Domestic general government health expenditure (% of current health expenditure)</th>\n",
       "      <th>Domestic general government health expenditure (% of GDP)</th>\n",
       "      <th>...</th>\n",
       "      <th>School enrollment, secondary, female (% gross)</th>\n",
       "      <th>School enrollment, secondary, male (% gross)</th>\n",
       "      <th>School enrollment, tertiary (% gross)</th>\n",
       "      <th>School enrollment, tertiary (gross), gender parity index (GPI)</th>\n",
       "      <th>School enrollment, tertiary, female (% gross)</th>\n",
       "      <th>School enrollment, tertiary, male (% gross)</th>\n",
       "      <th>Stocks traded, turnover ratio of domestic shares (%)</th>\n",
       "      <th>nan</th>\n",
       "      <th>Data from database: World Development Indicators</th>\n",
       "      <th>Last Updated: 10/26/2023</th>\n",
       "    </tr>\n",
       "    <tr>\n",
       "      <th>country</th>\n",
       "      <th>year</th>\n",
       "      <th></th>\n",
       "      <th></th>\n",
       "      <th></th>\n",
       "      <th></th>\n",
       "      <th></th>\n",
       "      <th></th>\n",
       "      <th></th>\n",
       "      <th></th>\n",
       "      <th></th>\n",
       "      <th></th>\n",
       "      <th></th>\n",
       "      <th></th>\n",
       "      <th></th>\n",
       "      <th></th>\n",
       "      <th></th>\n",
       "      <th></th>\n",
       "      <th></th>\n",
       "      <th></th>\n",
       "      <th></th>\n",
       "      <th></th>\n",
       "      <th></th>\n",
       "    </tr>\n",
       "  </thead>\n",
       "  <tbody>\n",
       "    <tr>\n",
       "      <th rowspan=\"5\" valign=\"top\">Argentina</th>\n",
       "      <th>1973</th>\n",
       "      <td>None</td>\n",
       "      <td>None</td>\n",
       "      <td>None</td>\n",
       "      <td>None</td>\n",
       "      <td>None</td>\n",
       "      <td>None</td>\n",
       "      <td>None</td>\n",
       "      <td>None</td>\n",
       "      <td>None</td>\n",
       "      <td>None</td>\n",
       "      <td>...</td>\n",
       "      <td>None</td>\n",
       "      <td>None</td>\n",
       "      <td>None</td>\n",
       "      <td>None</td>\n",
       "      <td>None</td>\n",
       "      <td>None</td>\n",
       "      <td>None</td>\n",
       "      <td>None</td>\n",
       "      <td>None</td>\n",
       "      <td>None</td>\n",
       "    </tr>\n",
       "    <tr>\n",
       "      <th>1974</th>\n",
       "      <td>None</td>\n",
       "      <td>None</td>\n",
       "      <td>None</td>\n",
       "      <td>None</td>\n",
       "      <td>None</td>\n",
       "      <td>None</td>\n",
       "      <td>None</td>\n",
       "      <td>None</td>\n",
       "      <td>None</td>\n",
       "      <td>None</td>\n",
       "      <td>...</td>\n",
       "      <td>None</td>\n",
       "      <td>None</td>\n",
       "      <td>None</td>\n",
       "      <td>None</td>\n",
       "      <td>None</td>\n",
       "      <td>None</td>\n",
       "      <td>None</td>\n",
       "      <td>None</td>\n",
       "      <td>None</td>\n",
       "      <td>None</td>\n",
       "    </tr>\n",
       "    <tr>\n",
       "      <th>1975</th>\n",
       "      <td>None</td>\n",
       "      <td>None</td>\n",
       "      <td>None</td>\n",
       "      <td>None</td>\n",
       "      <td>None</td>\n",
       "      <td>None</td>\n",
       "      <td>None</td>\n",
       "      <td>None</td>\n",
       "      <td>None</td>\n",
       "      <td>None</td>\n",
       "      <td>...</td>\n",
       "      <td>None</td>\n",
       "      <td>None</td>\n",
       "      <td>None</td>\n",
       "      <td>None</td>\n",
       "      <td>None</td>\n",
       "      <td>None</td>\n",
       "      <td>None</td>\n",
       "      <td>None</td>\n",
       "      <td>None</td>\n",
       "      <td>None</td>\n",
       "    </tr>\n",
       "    <tr>\n",
       "      <th>1976</th>\n",
       "      <td>None</td>\n",
       "      <td>None</td>\n",
       "      <td>None</td>\n",
       "      <td>None</td>\n",
       "      <td>None</td>\n",
       "      <td>None</td>\n",
       "      <td>None</td>\n",
       "      <td>None</td>\n",
       "      <td>None</td>\n",
       "      <td>None</td>\n",
       "      <td>...</td>\n",
       "      <td>None</td>\n",
       "      <td>None</td>\n",
       "      <td>None</td>\n",
       "      <td>None</td>\n",
       "      <td>None</td>\n",
       "      <td>None</td>\n",
       "      <td>None</td>\n",
       "      <td>None</td>\n",
       "      <td>None</td>\n",
       "      <td>None</td>\n",
       "    </tr>\n",
       "    <tr>\n",
       "      <th>1977</th>\n",
       "      <td>None</td>\n",
       "      <td>None</td>\n",
       "      <td>None</td>\n",
       "      <td>None</td>\n",
       "      <td>None</td>\n",
       "      <td>None</td>\n",
       "      <td>None</td>\n",
       "      <td>None</td>\n",
       "      <td>None</td>\n",
       "      <td>None</td>\n",
       "      <td>...</td>\n",
       "      <td>None</td>\n",
       "      <td>None</td>\n",
       "      <td>None</td>\n",
       "      <td>None</td>\n",
       "      <td>None</td>\n",
       "      <td>None</td>\n",
       "      <td>None</td>\n",
       "      <td>None</td>\n",
       "      <td>None</td>\n",
       "      <td>None</td>\n",
       "    </tr>\n",
       "  </tbody>\n",
       "</table>\n",
       "<p>5 rows × 78 columns</p>\n",
       "</div>"
      ],
      "text/plain": [
       "               Adjusted savings: gross savings (% of GNI)  \\\n",
       "country   year                                              \n",
       "Argentina 1973                                       None   \n",
       "          1974                                       None   \n",
       "          1975                                       None   \n",
       "          1976                                       None   \n",
       "          1977                                       None   \n",
       "\n",
       "               Annual freshwater withdrawals, domestic (% of total freshwater withdrawal)  \\\n",
       "country   year                                                                              \n",
       "Argentina 1973                                               None                           \n",
       "          1974                                               None                           \n",
       "          1975                                               None                           \n",
       "          1976                                               None                           \n",
       "          1977                                               None                           \n",
       "\n",
       "               Bank nonperforming loans to total gross loans (%)  \\\n",
       "country   year                                                     \n",
       "Argentina 1973                                              None   \n",
       "          1974                                              None   \n",
       "          1975                                              None   \n",
       "          1976                                              None   \n",
       "          1977                                              None   \n",
       "\n",
       "               Claims on other sectors of the domestic economy (% of GDP)  \\\n",
       "country   year                                                              \n",
       "Argentina 1973                                               None           \n",
       "          1974                                               None           \n",
       "          1975                                               None           \n",
       "          1976                                               None           \n",
       "          1977                                               None           \n",
       "\n",
       "               Claims on other sectors of the domestic economy (annual growth as % of broad money)  \\\n",
       "country   year                                                                                       \n",
       "Argentina 1973                                               None                                    \n",
       "          1974                                               None                                    \n",
       "          1975                                               None                                    \n",
       "          1976                                               None                                    \n",
       "          1977                                               None                                    \n",
       "\n",
       "               Domestic credit provided by financial sector (% of GDP)  \\\n",
       "country   year                                                           \n",
       "Argentina 1973                                               None        \n",
       "          1974                                               None        \n",
       "          1975                                               None        \n",
       "          1976                                               None        \n",
       "          1977                                               None        \n",
       "\n",
       "               Domestic credit to private sector (% of GDP)  \\\n",
       "country   year                                                \n",
       "Argentina 1973                                         None   \n",
       "          1974                                         None   \n",
       "          1975                                         None   \n",
       "          1976                                         None   \n",
       "          1977                                         None   \n",
       "\n",
       "               Domestic credit to private sector by banks (% of GDP)  \\\n",
       "country   year                                                         \n",
       "Argentina 1973                                               None      \n",
       "          1974                                               None      \n",
       "          1975                                               None      \n",
       "          1976                                               None      \n",
       "          1977                                               None      \n",
       "\n",
       "               Domestic general government health expenditure (% of current health expenditure)  \\\n",
       "country   year                                                                                    \n",
       "Argentina 1973                                               None                                 \n",
       "          1974                                               None                                 \n",
       "          1975                                               None                                 \n",
       "          1976                                               None                                 \n",
       "          1977                                               None                                 \n",
       "\n",
       "               Domestic general government health expenditure (% of GDP)  ...  \\\n",
       "country   year                                                            ...   \n",
       "Argentina 1973                                               None         ...   \n",
       "          1974                                               None         ...   \n",
       "          1975                                               None         ...   \n",
       "          1976                                               None         ...   \n",
       "          1977                                               None         ...   \n",
       "\n",
       "               School enrollment, secondary, female (% gross)  \\\n",
       "country   year                                                  \n",
       "Argentina 1973                                           None   \n",
       "          1974                                           None   \n",
       "          1975                                           None   \n",
       "          1976                                           None   \n",
       "          1977                                           None   \n",
       "\n",
       "               School enrollment, secondary, male (% gross)  \\\n",
       "country   year                                                \n",
       "Argentina 1973                                         None   \n",
       "          1974                                         None   \n",
       "          1975                                         None   \n",
       "          1976                                         None   \n",
       "          1977                                         None   \n",
       "\n",
       "               School enrollment, tertiary (% gross)  \\\n",
       "country   year                                         \n",
       "Argentina 1973                                  None   \n",
       "          1974                                  None   \n",
       "          1975                                  None   \n",
       "          1976                                  None   \n",
       "          1977                                  None   \n",
       "\n",
       "               School enrollment, tertiary (gross), gender parity index (GPI)  \\\n",
       "country   year                                                                  \n",
       "Argentina 1973                                               None               \n",
       "          1974                                               None               \n",
       "          1975                                               None               \n",
       "          1976                                               None               \n",
       "          1977                                               None               \n",
       "\n",
       "               School enrollment, tertiary, female (% gross)  \\\n",
       "country   year                                                 \n",
       "Argentina 1973                                          None   \n",
       "          1974                                          None   \n",
       "          1975                                          None   \n",
       "          1976                                          None   \n",
       "          1977                                          None   \n",
       "\n",
       "               School enrollment, tertiary, male (% gross)  \\\n",
       "country   year                                               \n",
       "Argentina 1973                                        None   \n",
       "          1974                                        None   \n",
       "          1975                                        None   \n",
       "          1976                                        None   \n",
       "          1977                                        None   \n",
       "\n",
       "               Stocks traded, turnover ratio of domestic shares (%)   nan  \\\n",
       "country   year                                                              \n",
       "Argentina 1973                                               None    None   \n",
       "          1974                                               None    None   \n",
       "          1975                                               None    None   \n",
       "          1976                                               None    None   \n",
       "          1977                                               None    None   \n",
       "\n",
       "               Data from database: World Development Indicators  \\\n",
       "country   year                                                    \n",
       "Argentina 1973                                             None   \n",
       "          1974                                             None   \n",
       "          1975                                             None   \n",
       "          1976                                             None   \n",
       "          1977                                             None   \n",
       "\n",
       "               Last Updated: 10/26/2023  \n",
       "country   year                           \n",
       "Argentina 1973                     None  \n",
       "          1974                     None  \n",
       "          1975                     None  \n",
       "          1976                     None  \n",
       "          1977                     None  \n",
       "\n",
       "[5 rows x 78 columns]"
      ]
     },
     "execution_count": 15,
     "metadata": {},
     "output_type": "execute_result"
    }
   ],
   "source": [
    "g20_data.head()"
   ]
  },
  {
   "cell_type": "markdown",
   "metadata": {},
   "source": [
    "### 3d Dataframe"
   ]
  },
  {
   "cell_type": "code",
   "execution_count": 16,
   "metadata": {},
   "outputs": [
    {
     "data": {
      "application/vnd.jupyter.widget-view+json": {
       "model_id": "a555047a5eca47cc84fcdeccf62cae15",
       "version_major": 2,
       "version_minor": 0
      },
      "text/plain": [
       "  0%|          | 0/78000 [00:00<?]"
      ]
     },
     "metadata": {},
     "output_type": "display_data"
    },
    {
     "name": "stdout",
     "output_type": "stream",
     "text": [
      "Process Completed in 101.24 seconds\n"
     ]
    }
   ],
   "source": [
    "# Measure the start time\n",
    "start_time = time.time()\n",
    "\n",
    "# Create a single tqdm loop for the outermost iteration\n",
    "progress_bar = tqdm(total=len(COUNTRIES) * len(YEARS) * len(DATA_NAME), bar_format=\"{l_bar}{bar}| {n_fmt}/{total_fmt} [{elapsed}<{remaining}]\", position=0)\n",
    "\n",
    "# Iterate over countries, years, and data names\n",
    "for country in COUNTRIES:\n",
    "    for year in YEARS:\n",
    "        for index in DATA_NAME:\n",
    "            try:\n",
    "                description = f\"Modifying {country} on {year}\"\n",
    "                progress_bar.set_description(description)\n",
    "\n",
    "                # Construct the column name corresponding to the year\n",
    "                year_column = str(year)\n",
    "\n",
    "                # Filter the data based on the current country, year, and data name\n",
    "                filtered_data = raw_data[(raw_data['Series Name'] == index) & (raw_data['Country Name'] == country)][year_column]\n",
    "\n",
    "                # Check if any data is found for the current combination\n",
    "                if not filtered_data.empty:\n",
    "                    # Assuming you want to update the 'g20_data' DataFrame with the filtered data\n",
    "                    # You need to provide the column in 'g20_data' where you want to store the filtered data\n",
    "                    # Here, we assume 'index' is the column name in 'g20_data'\n",
    "                    g20_data.loc[(country, year), index] = filtered_data.values[0]\n",
    "            except Exception as e:\n",
    "                logger.error(f\"Error for {country} on {year} for {index}: {str(e)}\")\n",
    "\n",
    "            progress_bar.update(1)\n",
    "\n",
    "# Remove useles columns\n",
    "columns_to_remove = ['nan','Data from database: World Development Indicators', 'Last Updated: 10/26/2023']\n",
    "g20_data = g20_data.drop(columns=columns_to_remove)\n",
    "\n",
    "# Close the tqdm progress bar\n",
    "progress_bar.close()\n",
    "\n",
    "# Measure the end time\n",
    "end_time = time.time()\n",
    "\n",
    "# Calculate and log the elapsed time\n",
    "elapsed_time = end_time - start_time\n",
    "logger.info(f\"Total elapsed time to make multidimesional Dataframe: {elapsed_time:.2f} seconds\")\n",
    "print(f\"Process Completed in {elapsed_time:.2f} seconds\")"
   ]
  },
  {
   "cell_type": "code",
   "execution_count": 17,
   "metadata": {},
   "outputs": [
    {
     "data": {
      "text/html": [
       "<div>\n",
       "<style scoped>\n",
       "    .dataframe tbody tr th:only-of-type {\n",
       "        vertical-align: middle;\n",
       "    }\n",
       "\n",
       "    .dataframe tbody tr th {\n",
       "        vertical-align: top;\n",
       "    }\n",
       "\n",
       "    .dataframe thead th {\n",
       "        text-align: right;\n",
       "    }\n",
       "</style>\n",
       "<table border=\"1\" class=\"dataframe\">\n",
       "  <thead>\n",
       "    <tr style=\"text-align: right;\">\n",
       "      <th></th>\n",
       "      <th></th>\n",
       "      <th>Adjusted savings: gross savings (% of GNI)</th>\n",
       "      <th>Annual freshwater withdrawals, domestic (% of total freshwater withdrawal)</th>\n",
       "      <th>Bank nonperforming loans to total gross loans (%)</th>\n",
       "      <th>Claims on other sectors of the domestic economy (% of GDP)</th>\n",
       "      <th>Claims on other sectors of the domestic economy (annual growth as % of broad money)</th>\n",
       "      <th>Domestic credit provided by financial sector (% of GDP)</th>\n",
       "      <th>Domestic credit to private sector (% of GDP)</th>\n",
       "      <th>Domestic credit to private sector by banks (% of GDP)</th>\n",
       "      <th>Domestic general government health expenditure (% of current health expenditure)</th>\n",
       "      <th>Domestic general government health expenditure (% of GDP)</th>\n",
       "      <th>...</th>\n",
       "      <th>School enrollment, primary, male (% gross)</th>\n",
       "      <th>School enrollment, secondary (% gross)</th>\n",
       "      <th>School enrollment, secondary (gross), gender parity index (GPI)</th>\n",
       "      <th>School enrollment, secondary, female (% gross)</th>\n",
       "      <th>School enrollment, secondary, male (% gross)</th>\n",
       "      <th>School enrollment, tertiary (% gross)</th>\n",
       "      <th>School enrollment, tertiary (gross), gender parity index (GPI)</th>\n",
       "      <th>School enrollment, tertiary, female (% gross)</th>\n",
       "      <th>School enrollment, tertiary, male (% gross)</th>\n",
       "      <th>Stocks traded, turnover ratio of domestic shares (%)</th>\n",
       "    </tr>\n",
       "    <tr>\n",
       "      <th>country</th>\n",
       "      <th>year</th>\n",
       "      <th></th>\n",
       "      <th></th>\n",
       "      <th></th>\n",
       "      <th></th>\n",
       "      <th></th>\n",
       "      <th></th>\n",
       "      <th></th>\n",
       "      <th></th>\n",
       "      <th></th>\n",
       "      <th></th>\n",
       "      <th></th>\n",
       "      <th></th>\n",
       "      <th></th>\n",
       "      <th></th>\n",
       "      <th></th>\n",
       "      <th></th>\n",
       "      <th></th>\n",
       "      <th></th>\n",
       "      <th></th>\n",
       "      <th></th>\n",
       "      <th></th>\n",
       "    </tr>\n",
       "  </thead>\n",
       "  <tbody>\n",
       "    <tr>\n",
       "      <th rowspan=\"5\" valign=\"top\">Argentina</th>\n",
       "      <th>1973</th>\n",
       "      <td>..</td>\n",
       "      <td>..</td>\n",
       "      <td>..</td>\n",
       "      <td>..</td>\n",
       "      <td>..</td>\n",
       "      <td>27.4901879012225</td>\n",
       "      <td>16.705575724589</td>\n",
       "      <td>15.6482608053113</td>\n",
       "      <td>..</td>\n",
       "      <td>..</td>\n",
       "      <td>...</td>\n",
       "      <td>105.522796630859</td>\n",
       "      <td>49.9397087097168</td>\n",
       "      <td>1.09125995635986</td>\n",
       "      <td>52.5308418273926</td>\n",
       "      <td>47.412899017334</td>\n",
       "      <td>19.7516307830811</td>\n",
       "      <td>0.847370028495789</td>\n",
       "      <td>18.1059703826904</td>\n",
       "      <td>21.3673191070557</td>\n",
       "      <td>..</td>\n",
       "    </tr>\n",
       "    <tr>\n",
       "      <th>1974</th>\n",
       "      <td>..</td>\n",
       "      <td>..</td>\n",
       "      <td>..</td>\n",
       "      <td>..</td>\n",
       "      <td>..</td>\n",
       "      <td>30.371312312636</td>\n",
       "      <td>19.1738082781793</td>\n",
       "      <td>17.9466845483758</td>\n",
       "      <td>..</td>\n",
       "      <td>..</td>\n",
       "      <td>...</td>\n",
       "      <td>106.258392333984</td>\n",
       "      <td>52.7623901367188</td>\n",
       "      <td>1.08759999275208</td>\n",
       "      <td>55.5536193847656</td>\n",
       "      <td>50.0380401611328</td>\n",
       "      <td>22.8830108642578</td>\n",
       "      <td>0.837999999523163</td>\n",
       "      <td>20.8497295379639</td>\n",
       "      <td>24.8802700042725</td>\n",
       "      <td>..</td>\n",
       "    </tr>\n",
       "    <tr>\n",
       "      <th>1975</th>\n",
       "      <td>..</td>\n",
       "      <td>..</td>\n",
       "      <td>..</td>\n",
       "      <td>..</td>\n",
       "      <td>..</td>\n",
       "      <td>28.7594771456156</td>\n",
       "      <td>16.4413498377265</td>\n",
       "      <td>15.3590039236442</td>\n",
       "      <td>..</td>\n",
       "      <td>..</td>\n",
       "      <td>...</td>\n",
       "      <td>105.620628356934</td>\n",
       "      <td>54.3875503540039</td>\n",
       "      <td>1.0974999666214</td>\n",
       "      <td>57.6349983215332</td>\n",
       "      <td>51.2155303955078</td>\n",
       "      <td>27.0771598815918</td>\n",
       "      <td>0.921909987926483</td>\n",
       "      <td>25.9682006835938</td>\n",
       "      <td>28.1677894592285</td>\n",
       "      <td>..</td>\n",
       "    </tr>\n",
       "    <tr>\n",
       "      <th>1976</th>\n",
       "      <td>34.03839404</td>\n",
       "      <td>..</td>\n",
       "      <td>..</td>\n",
       "      <td>..</td>\n",
       "      <td>..</td>\n",
       "      <td>20.3441509421658</td>\n",
       "      <td>13.5627672947772</td>\n",
       "      <td>11.8332213213078</td>\n",
       "      <td>..</td>\n",
       "      <td>..</td>\n",
       "      <td>...</td>\n",
       "      <td>105.498420715332</td>\n",
       "      <td>55.8804817199707</td>\n",
       "      <td>1.10339999198914</td>\n",
       "      <td>59.3817481994629</td>\n",
       "      <td>52.4641418457031</td>\n",
       "      <td>27.011739730835</td>\n",
       "      <td>0.929790019989014</td>\n",
       "      <td>26.0209102630615</td>\n",
       "      <td>27.9858207702637</td>\n",
       "      <td>..</td>\n",
       "    </tr>\n",
       "    <tr>\n",
       "      <th>1977</th>\n",
       "      <td>32.76262784</td>\n",
       "      <td>..</td>\n",
       "      <td>..</td>\n",
       "      <td>..</td>\n",
       "      <td>..</td>\n",
       "      <td>26.4137652814314</td>\n",
       "      <td>18.3829098551528</td>\n",
       "      <td>15.269192224964</td>\n",
       "      <td>..</td>\n",
       "      <td>..</td>\n",
       "      <td>...</td>\n",
       "      <td>106.278297424316</td>\n",
       "      <td>55.6266784667969</td>\n",
       "      <td>1.12102997303009</td>\n",
       "      <td>59.5169296264648</td>\n",
       "      <td>51.8343086242676</td>\n",
       "      <td>23.9647407531738</td>\n",
       "      <td>0.928080022335052</td>\n",
       "      <td>23.0633602142334</td>\n",
       "      <td>24.8506603240967</td>\n",
       "      <td>28.7087087087087</td>\n",
       "    </tr>\n",
       "  </tbody>\n",
       "</table>\n",
       "<p>5 rows × 75 columns</p>\n",
       "</div>"
      ],
      "text/plain": [
       "               Adjusted savings: gross savings (% of GNI)  \\\n",
       "country   year                                              \n",
       "Argentina 1973                                         ..   \n",
       "          1974                                         ..   \n",
       "          1975                                         ..   \n",
       "          1976                                34.03839404   \n",
       "          1977                                32.76262784   \n",
       "\n",
       "               Annual freshwater withdrawals, domestic (% of total freshwater withdrawal)  \\\n",
       "country   year                                                                              \n",
       "Argentina 1973                                                 ..                           \n",
       "          1974                                                 ..                           \n",
       "          1975                                                 ..                           \n",
       "          1976                                                 ..                           \n",
       "          1977                                                 ..                           \n",
       "\n",
       "               Bank nonperforming loans to total gross loans (%)  \\\n",
       "country   year                                                     \n",
       "Argentina 1973                                                ..   \n",
       "          1974                                                ..   \n",
       "          1975                                                ..   \n",
       "          1976                                                ..   \n",
       "          1977                                                ..   \n",
       "\n",
       "               Claims on other sectors of the domestic economy (% of GDP)  \\\n",
       "country   year                                                              \n",
       "Argentina 1973                                                 ..           \n",
       "          1974                                                 ..           \n",
       "          1975                                                 ..           \n",
       "          1976                                                 ..           \n",
       "          1977                                                 ..           \n",
       "\n",
       "               Claims on other sectors of the domestic economy (annual growth as % of broad money)  \\\n",
       "country   year                                                                                       \n",
       "Argentina 1973                                                 ..                                    \n",
       "          1974                                                 ..                                    \n",
       "          1975                                                 ..                                    \n",
       "          1976                                                 ..                                    \n",
       "          1977                                                 ..                                    \n",
       "\n",
       "               Domestic credit provided by financial sector (% of GDP)  \\\n",
       "country   year                                                           \n",
       "Argentina 1973                                   27.4901879012225        \n",
       "          1974                                    30.371312312636        \n",
       "          1975                                   28.7594771456156        \n",
       "          1976                                   20.3441509421658        \n",
       "          1977                                   26.4137652814314        \n",
       "\n",
       "               Domestic credit to private sector (% of GDP)  \\\n",
       "country   year                                                \n",
       "Argentina 1973                              16.705575724589   \n",
       "          1974                             19.1738082781793   \n",
       "          1975                             16.4413498377265   \n",
       "          1976                             13.5627672947772   \n",
       "          1977                             18.3829098551528   \n",
       "\n",
       "               Domestic credit to private sector by banks (% of GDP)  \\\n",
       "country   year                                                         \n",
       "Argentina 1973                                   15.6482608053113      \n",
       "          1974                                   17.9466845483758      \n",
       "          1975                                   15.3590039236442      \n",
       "          1976                                   11.8332213213078      \n",
       "          1977                                    15.269192224964      \n",
       "\n",
       "               Domestic general government health expenditure (% of current health expenditure)  \\\n",
       "country   year                                                                                    \n",
       "Argentina 1973                                                 ..                                 \n",
       "          1974                                                 ..                                 \n",
       "          1975                                                 ..                                 \n",
       "          1976                                                 ..                                 \n",
       "          1977                                                 ..                                 \n",
       "\n",
       "               Domestic general government health expenditure (% of GDP)  ...  \\\n",
       "country   year                                                            ...   \n",
       "Argentina 1973                                                 ..         ...   \n",
       "          1974                                                 ..         ...   \n",
       "          1975                                                 ..         ...   \n",
       "          1976                                                 ..         ...   \n",
       "          1977                                                 ..         ...   \n",
       "\n",
       "               School enrollment, primary, male (% gross)  \\\n",
       "country   year                                              \n",
       "Argentina 1973                           105.522796630859   \n",
       "          1974                           106.258392333984   \n",
       "          1975                           105.620628356934   \n",
       "          1976                           105.498420715332   \n",
       "          1977                           106.278297424316   \n",
       "\n",
       "               School enrollment, secondary (% gross)  \\\n",
       "country   year                                          \n",
       "Argentina 1973                       49.9397087097168   \n",
       "          1974                       52.7623901367188   \n",
       "          1975                       54.3875503540039   \n",
       "          1976                       55.8804817199707   \n",
       "          1977                       55.6266784667969   \n",
       "\n",
       "               School enrollment, secondary (gross), gender parity index (GPI)  \\\n",
       "country   year                                                                   \n",
       "Argentina 1973                                   1.09125995635986                \n",
       "          1974                                   1.08759999275208                \n",
       "          1975                                    1.0974999666214                \n",
       "          1976                                   1.10339999198914                \n",
       "          1977                                   1.12102997303009                \n",
       "\n",
       "               School enrollment, secondary, female (% gross)  \\\n",
       "country   year                                                  \n",
       "Argentina 1973                               52.5308418273926   \n",
       "          1974                               55.5536193847656   \n",
       "          1975                               57.6349983215332   \n",
       "          1976                               59.3817481994629   \n",
       "          1977                               59.5169296264648   \n",
       "\n",
       "               School enrollment, secondary, male (% gross)  \\\n",
       "country   year                                                \n",
       "Argentina 1973                              47.412899017334   \n",
       "          1974                             50.0380401611328   \n",
       "          1975                             51.2155303955078   \n",
       "          1976                             52.4641418457031   \n",
       "          1977                             51.8343086242676   \n",
       "\n",
       "               School enrollment, tertiary (% gross)  \\\n",
       "country   year                                         \n",
       "Argentina 1973                      19.7516307830811   \n",
       "          1974                      22.8830108642578   \n",
       "          1975                      27.0771598815918   \n",
       "          1976                       27.011739730835   \n",
       "          1977                      23.9647407531738   \n",
       "\n",
       "               School enrollment, tertiary (gross), gender parity index (GPI)  \\\n",
       "country   year                                                                  \n",
       "Argentina 1973                                  0.847370028495789               \n",
       "          1974                                  0.837999999523163               \n",
       "          1975                                  0.921909987926483               \n",
       "          1976                                  0.929790019989014               \n",
       "          1977                                  0.928080022335052               \n",
       "\n",
       "               School enrollment, tertiary, female (% gross)  \\\n",
       "country   year                                                 \n",
       "Argentina 1973                              18.1059703826904   \n",
       "          1974                              20.8497295379639   \n",
       "          1975                              25.9682006835938   \n",
       "          1976                              26.0209102630615   \n",
       "          1977                              23.0633602142334   \n",
       "\n",
       "               School enrollment, tertiary, male (% gross)  \\\n",
       "country   year                                               \n",
       "Argentina 1973                            21.3673191070557   \n",
       "          1974                            24.8802700042725   \n",
       "          1975                            28.1677894592285   \n",
       "          1976                            27.9858207702637   \n",
       "          1977                            24.8506603240967   \n",
       "\n",
       "               Stocks traded, turnover ratio of domestic shares (%)  \n",
       "country   year                                                       \n",
       "Argentina 1973                                                 ..    \n",
       "          1974                                                 ..    \n",
       "          1975                                                 ..    \n",
       "          1976                                                 ..    \n",
       "          1977                                   28.7087087087087    \n",
       "\n",
       "[5 rows x 75 columns]"
      ]
     },
     "execution_count": 17,
     "metadata": {},
     "output_type": "execute_result"
    }
   ],
   "source": [
    "g20_data.head()"
   ]
  },
  {
   "cell_type": "code",
   "execution_count": 18,
   "metadata": {},
   "outputs": [
    {
     "data": {
      "text/html": [
       "<div>\n",
       "<style scoped>\n",
       "    .dataframe tbody tr th:only-of-type {\n",
       "        vertical-align: middle;\n",
       "    }\n",
       "\n",
       "    .dataframe tbody tr th {\n",
       "        vertical-align: top;\n",
       "    }\n",
       "\n",
       "    .dataframe thead th {\n",
       "        text-align: right;\n",
       "    }\n",
       "</style>\n",
       "<table border=\"1\" class=\"dataframe\">\n",
       "  <thead>\n",
       "    <tr style=\"text-align: right;\">\n",
       "      <th></th>\n",
       "      <th></th>\n",
       "      <th>Adjusted savings: gross savings (% of GNI)</th>\n",
       "      <th>Annual freshwater withdrawals, domestic (% of total freshwater withdrawal)</th>\n",
       "      <th>Bank nonperforming loans to total gross loans (%)</th>\n",
       "      <th>Claims on other sectors of the domestic economy (% of GDP)</th>\n",
       "      <th>Claims on other sectors of the domestic economy (annual growth as % of broad money)</th>\n",
       "      <th>Domestic credit provided by financial sector (% of GDP)</th>\n",
       "      <th>Domestic credit to private sector (% of GDP)</th>\n",
       "      <th>Domestic credit to private sector by banks (% of GDP)</th>\n",
       "      <th>Domestic general government health expenditure (% of current health expenditure)</th>\n",
       "      <th>Domestic general government health expenditure (% of GDP)</th>\n",
       "      <th>...</th>\n",
       "      <th>School enrollment, primary, male (% gross)</th>\n",
       "      <th>School enrollment, secondary (% gross)</th>\n",
       "      <th>School enrollment, secondary (gross), gender parity index (GPI)</th>\n",
       "      <th>School enrollment, secondary, female (% gross)</th>\n",
       "      <th>School enrollment, secondary, male (% gross)</th>\n",
       "      <th>School enrollment, tertiary (% gross)</th>\n",
       "      <th>School enrollment, tertiary (gross), gender parity index (GPI)</th>\n",
       "      <th>School enrollment, tertiary, female (% gross)</th>\n",
       "      <th>School enrollment, tertiary, male (% gross)</th>\n",
       "      <th>Stocks traded, turnover ratio of domestic shares (%)</th>\n",
       "    </tr>\n",
       "    <tr>\n",
       "      <th>country</th>\n",
       "      <th>year</th>\n",
       "      <th></th>\n",
       "      <th></th>\n",
       "      <th></th>\n",
       "      <th></th>\n",
       "      <th></th>\n",
       "      <th></th>\n",
       "      <th></th>\n",
       "      <th></th>\n",
       "      <th></th>\n",
       "      <th></th>\n",
       "      <th></th>\n",
       "      <th></th>\n",
       "      <th></th>\n",
       "      <th></th>\n",
       "      <th></th>\n",
       "      <th></th>\n",
       "      <th></th>\n",
       "      <th></th>\n",
       "      <th></th>\n",
       "      <th></th>\n",
       "      <th></th>\n",
       "    </tr>\n",
       "  </thead>\n",
       "  <tbody>\n",
       "    <tr>\n",
       "      <th rowspan=\"5\" valign=\"top\">European Union</th>\n",
       "      <th>2018</th>\n",
       "      <td>25.2294177448061</td>\n",
       "      <td>23.0030025157958</td>\n",
       "      <td>..</td>\n",
       "      <td>..</td>\n",
       "      <td>..</td>\n",
       "      <td>..</td>\n",
       "      <td>86.3004747661652</td>\n",
       "      <td>85.4526542740255</td>\n",
       "      <td>74.9200411359624</td>\n",
       "      <td>7.40061756665153</td>\n",
       "      <td>...</td>\n",
       "      <td>101.688598632812</td>\n",
       "      <td>107.401863098145</td>\n",
       "      <td>1.0001699924469</td>\n",
       "      <td>107.238349914551</td>\n",
       "      <td>107.555969238281</td>\n",
       "      <td>72.7852935791016</td>\n",
       "      <td>1.19214999675751</td>\n",
       "      <td>80.7960205078125</td>\n",
       "      <td>65.2710266113281</td>\n",
       "      <td>..</td>\n",
       "    </tr>\n",
       "    <tr>\n",
       "      <th>2019</th>\n",
       "      <td>25.5716180198675</td>\n",
       "      <td>23.2552120614057</td>\n",
       "      <td>..</td>\n",
       "      <td>..</td>\n",
       "      <td>..</td>\n",
       "      <td>..</td>\n",
       "      <td>85.3848366373926</td>\n",
       "      <td>84.5322438838103</td>\n",
       "      <td>74.7714021444644</td>\n",
       "      <td>7.42209666458572</td>\n",
       "      <td>...</td>\n",
       "      <td>101.600852966309</td>\n",
       "      <td>107.140602111816</td>\n",
       "      <td>1.00082004070282</td>\n",
       "      <td>106.927658081055</td>\n",
       "      <td>107.341667175293</td>\n",
       "      <td>73.8699188232422</td>\n",
       "      <td>1.1947900056839</td>\n",
       "      <td>82.1416015625</td>\n",
       "      <td>66.1413116455078</td>\n",
       "      <td>57.847874005846</td>\n",
       "    </tr>\n",
       "    <tr>\n",
       "      <th>2020</th>\n",
       "      <td>24.6958165282482</td>\n",
       "      <td>23.2594038346861</td>\n",
       "      <td>..</td>\n",
       "      <td>..</td>\n",
       "      <td>..</td>\n",
       "      <td>..</td>\n",
       "      <td>93.4769835714633</td>\n",
       "      <td>92.0363853292872</td>\n",
       "      <td>76.6411267046737</td>\n",
       "      <td>8.36416795455001</td>\n",
       "      <td>...</td>\n",
       "      <td>101.100250244141</td>\n",
       "      <td>107.249298095703</td>\n",
       "      <td>1.0037100315094</td>\n",
       "      <td>106.838676452637</td>\n",
       "      <td>107.639572143555</td>\n",
       "      <td>74.7346878051758</td>\n",
       "      <td>1.20130002498627</td>\n",
       "      <td>83.3967895507812</td>\n",
       "      <td>66.6092681884766</td>\n",
       "      <td>68.7789521464428</td>\n",
       "    </tr>\n",
       "    <tr>\n",
       "      <th>2021</th>\n",
       "      <td>..</td>\n",
       "      <td>..</td>\n",
       "      <td>..</td>\n",
       "      <td>..</td>\n",
       "      <td>..</td>\n",
       "      <td>..</td>\n",
       "      <td>89.8812259606375</td>\n",
       "      <td>88.3569579696353</td>\n",
       "      <td>..</td>\n",
       "      <td>..</td>\n",
       "      <td>...</td>\n",
       "      <td>101.37287902832</td>\n",
       "      <td>106.710639953613</td>\n",
       "      <td>..</td>\n",
       "      <td>106.658973693848</td>\n",
       "      <td>106.759506225586</td>\n",
       "      <td>77.3375015258789</td>\n",
       "      <td>1.21229994297028</td>\n",
       "      <td>86.8781814575195</td>\n",
       "      <td>68.4336700439453</td>\n",
       "      <td>..</td>\n",
       "    </tr>\n",
       "    <tr>\n",
       "      <th>2022</th>\n",
       "      <td>..</td>\n",
       "      <td>..</td>\n",
       "      <td>..</td>\n",
       "      <td>..</td>\n",
       "      <td>..</td>\n",
       "      <td>..</td>\n",
       "      <td>86.2434768450053</td>\n",
       "      <td>84.5638523308705</td>\n",
       "      <td>..</td>\n",
       "      <td>..</td>\n",
       "      <td>...</td>\n",
       "      <td>101.328773498535</td>\n",
       "      <td>106.711227416992</td>\n",
       "      <td>..</td>\n",
       "      <td>106.701499938965</td>\n",
       "      <td>106.720428466797</td>\n",
       "      <td>77.4991073608398</td>\n",
       "      <td>1.21008002758026</td>\n",
       "      <td>86.9337310791016</td>\n",
       "      <td>68.6703796386719</td>\n",
       "      <td>..</td>\n",
       "    </tr>\n",
       "  </tbody>\n",
       "</table>\n",
       "<p>5 rows × 75 columns</p>\n",
       "</div>"
      ],
      "text/plain": [
       "                    Adjusted savings: gross savings (% of GNI)  \\\n",
       "country        year                                              \n",
       "European Union 2018                           25.2294177448061   \n",
       "               2019                           25.5716180198675   \n",
       "               2020                           24.6958165282482   \n",
       "               2021                                         ..   \n",
       "               2022                                         ..   \n",
       "\n",
       "                    Annual freshwater withdrawals, domestic (% of total freshwater withdrawal)  \\\n",
       "country        year                                                                              \n",
       "European Union 2018                                   23.0030025157958                           \n",
       "               2019                                   23.2552120614057                           \n",
       "               2020                                   23.2594038346861                           \n",
       "               2021                                                 ..                           \n",
       "               2022                                                 ..                           \n",
       "\n",
       "                    Bank nonperforming loans to total gross loans (%)  \\\n",
       "country        year                                                     \n",
       "European Union 2018                                                ..   \n",
       "               2019                                                ..   \n",
       "               2020                                                ..   \n",
       "               2021                                                ..   \n",
       "               2022                                                ..   \n",
       "\n",
       "                    Claims on other sectors of the domestic economy (% of GDP)  \\\n",
       "country        year                                                              \n",
       "European Union 2018                                                 ..           \n",
       "               2019                                                 ..           \n",
       "               2020                                                 ..           \n",
       "               2021                                                 ..           \n",
       "               2022                                                 ..           \n",
       "\n",
       "                    Claims on other sectors of the domestic economy (annual growth as % of broad money)  \\\n",
       "country        year                                                                                       \n",
       "European Union 2018                                                 ..                                    \n",
       "               2019                                                 ..                                    \n",
       "               2020                                                 ..                                    \n",
       "               2021                                                 ..                                    \n",
       "               2022                                                 ..                                    \n",
       "\n",
       "                    Domestic credit provided by financial sector (% of GDP)  \\\n",
       "country        year                                                           \n",
       "European Union 2018                                                 ..        \n",
       "               2019                                                 ..        \n",
       "               2020                                                 ..        \n",
       "               2021                                                 ..        \n",
       "               2022                                                 ..        \n",
       "\n",
       "                    Domestic credit to private sector (% of GDP)  \\\n",
       "country        year                                                \n",
       "European Union 2018                             86.3004747661652   \n",
       "               2019                             85.3848366373926   \n",
       "               2020                             93.4769835714633   \n",
       "               2021                             89.8812259606375   \n",
       "               2022                             86.2434768450053   \n",
       "\n",
       "                    Domestic credit to private sector by banks (% of GDP)  \\\n",
       "country        year                                                         \n",
       "European Union 2018                                   85.4526542740255      \n",
       "               2019                                   84.5322438838103      \n",
       "               2020                                   92.0363853292872      \n",
       "               2021                                   88.3569579696353      \n",
       "               2022                                   84.5638523308705      \n",
       "\n",
       "                    Domestic general government health expenditure (% of current health expenditure)  \\\n",
       "country        year                                                                                    \n",
       "European Union 2018                                   74.9200411359624                                 \n",
       "               2019                                   74.7714021444644                                 \n",
       "               2020                                   76.6411267046737                                 \n",
       "               2021                                                 ..                                 \n",
       "               2022                                                 ..                                 \n",
       "\n",
       "                    Domestic general government health expenditure (% of GDP)  \\\n",
       "country        year                                                             \n",
       "European Union 2018                                   7.40061756665153          \n",
       "               2019                                   7.42209666458572          \n",
       "               2020                                   8.36416795455001          \n",
       "               2021                                                 ..          \n",
       "               2022                                                 ..          \n",
       "\n",
       "                     ... School enrollment, primary, male (% gross)  \\\n",
       "country        year  ...                                              \n",
       "European Union 2018  ...                           101.688598632812   \n",
       "               2019  ...                           101.600852966309   \n",
       "               2020  ...                           101.100250244141   \n",
       "               2021  ...                            101.37287902832   \n",
       "               2022  ...                           101.328773498535   \n",
       "\n",
       "                    School enrollment, secondary (% gross)  \\\n",
       "country        year                                          \n",
       "European Union 2018                       107.401863098145   \n",
       "               2019                       107.140602111816   \n",
       "               2020                       107.249298095703   \n",
       "               2021                       106.710639953613   \n",
       "               2022                       106.711227416992   \n",
       "\n",
       "                    School enrollment, secondary (gross), gender parity index (GPI)  \\\n",
       "country        year                                                                   \n",
       "European Union 2018                                    1.0001699924469                \n",
       "               2019                                   1.00082004070282                \n",
       "               2020                                    1.0037100315094                \n",
       "               2021                                                 ..                \n",
       "               2022                                                 ..                \n",
       "\n",
       "                    School enrollment, secondary, female (% gross)  \\\n",
       "country        year                                                  \n",
       "European Union 2018                               107.238349914551   \n",
       "               2019                               106.927658081055   \n",
       "               2020                               106.838676452637   \n",
       "               2021                               106.658973693848   \n",
       "               2022                               106.701499938965   \n",
       "\n",
       "                    School enrollment, secondary, male (% gross)  \\\n",
       "country        year                                                \n",
       "European Union 2018                             107.555969238281   \n",
       "               2019                             107.341667175293   \n",
       "               2020                             107.639572143555   \n",
       "               2021                             106.759506225586   \n",
       "               2022                             106.720428466797   \n",
       "\n",
       "                    School enrollment, tertiary (% gross)  \\\n",
       "country        year                                         \n",
       "European Union 2018                      72.7852935791016   \n",
       "               2019                      73.8699188232422   \n",
       "               2020                      74.7346878051758   \n",
       "               2021                      77.3375015258789   \n",
       "               2022                      77.4991073608398   \n",
       "\n",
       "                    School enrollment, tertiary (gross), gender parity index (GPI)  \\\n",
       "country        year                                                                  \n",
       "European Union 2018                                   1.19214999675751               \n",
       "               2019                                    1.1947900056839               \n",
       "               2020                                   1.20130002498627               \n",
       "               2021                                   1.21229994297028               \n",
       "               2022                                   1.21008002758026               \n",
       "\n",
       "                    School enrollment, tertiary, female (% gross)  \\\n",
       "country        year                                                 \n",
       "European Union 2018                              80.7960205078125   \n",
       "               2019                                 82.1416015625   \n",
       "               2020                              83.3967895507812   \n",
       "               2021                              86.8781814575195   \n",
       "               2022                              86.9337310791016   \n",
       "\n",
       "                    School enrollment, tertiary, male (% gross)  \\\n",
       "country        year                                               \n",
       "European Union 2018                            65.2710266113281   \n",
       "               2019                            66.1413116455078   \n",
       "               2020                            66.6092681884766   \n",
       "               2021                            68.4336700439453   \n",
       "               2022                            68.6703796386719   \n",
       "\n",
       "                    Stocks traded, turnover ratio of domestic shares (%)  \n",
       "country        year                                                       \n",
       "European Union 2018                                                 ..    \n",
       "               2019                                    57.847874005846    \n",
       "               2020                                   68.7789521464428    \n",
       "               2021                                                 ..    \n",
       "               2022                                                 ..    \n",
       "\n",
       "[5 rows x 75 columns]"
      ]
     },
     "execution_count": 18,
     "metadata": {},
     "output_type": "execute_result"
    }
   ],
   "source": [
    "g20_data.tail()"
   ]
  },
  {
   "cell_type": "code",
   "execution_count": 19,
   "metadata": {},
   "outputs": [
    {
     "name": "stdout",
     "output_type": "stream",
     "text": [
      "MultiIndex Levels: [['Argentina', 'Australia', 'Brazil', 'Canada', 'China', 'European Union', 'France', 'Germany', 'India', 'Indonesia', 'Italy', 'Japan', 'Korea, Rep.', 'Mexico', 'Russian Federation', 'Saudi Arabia', 'South Africa', 'Turkiye', 'United Kingdom', 'United States'], [1973, 1974, 1975, 1976, 1977, 1978, 1979, 1980, 1981, 1982, 1983, 1984, 1985, 1986, 1987, 1988, 1989, 1990, 1991, 1992, 1993, 1994, 1995, 1996, 1997, 1998, 1999, 2000, 2001, 2002, 2003, 2004, 2005, 2006, 2007, 2008, 2009, 2010, 2011, 2012, 2013, 2014, 2015, 2016, 2017, 2018, 2019, 2020, 2021, 2022]]\n",
      "MultiIndex Level Names: ['country', 'year']\n",
      "Number of MultiIndex Levels: 2\n"
     ]
    }
   ],
   "source": [
    "# Assuming you have a DataFrame with a MultiIndex, such as 'g20_data'\n",
    "# You can access the MultiIndex and its structure like this:\n",
    "\n",
    "multi_index = g20_data.index\n",
    "\n",
    "# To get the levels of the MultiIndex\n",
    "levels = multi_index.levels\n",
    "\n",
    "# To get the names of the levels\n",
    "level_names = multi_index.names\n",
    "\n",
    "# To get the number of levels in the MultiIndex\n",
    "num_levels = multi_index.nlevels\n",
    "\n",
    "# Print the information\n",
    "print(\"MultiIndex Levels:\", levels)\n",
    "print(\"MultiIndex Level Names:\", level_names)\n",
    "print(\"Number of MultiIndex Levels:\", num_levels)"
   ]
  },
  {
   "cell_type": "code",
   "execution_count": 20,
   "metadata": {},
   "outputs": [
    {
     "data": {
      "text/plain": [
       "Index(['Adjusted savings: gross savings (% of GNI)',\n",
       "       'Annual freshwater withdrawals, domestic (% of total freshwater withdrawal)',\n",
       "       'Bank nonperforming loans to total gross loans (%)',\n",
       "       'Claims on other sectors of the domestic economy (% of GDP)',\n",
       "       'Claims on other sectors of the domestic economy (annual growth as % of broad money)',\n",
       "       'Domestic credit provided by financial sector (% of GDP)',\n",
       "       'Domestic credit to private sector (% of GDP)',\n",
       "       'Domestic credit to private sector by banks (% of GDP)',\n",
       "       'Domestic general government health expenditure (% of current health expenditure)',\n",
       "       'Domestic general government health expenditure (% of GDP)',\n",
       "       'Domestic general government health expenditure (% of general government expenditure)',\n",
       "       'Domestic general government health expenditure per capita (current US$)',\n",
       "       'Domestic general government health expenditure per capita, PPP (current international $)',\n",
       "       'Domestic private health expenditure (% of current health expenditure)',\n",
       "       'Domestic private health expenditure per capita (current US$)',\n",
       "       'Domestic private health expenditure per capita, PPP (current international $)',\n",
       "       'Gross capital formation (% of GDP)',\n",
       "       'Gross capital formation (annual % growth)',\n",
       "       'Gross capital formation (constant 2015 US$)',\n",
       "       'Gross capital formation (constant LCU)',\n",
       "       'Gross capital formation (current LCU)',\n",
       "       'Gross capital formation (current US$)',\n",
       "       'Gross domestic income (constant LCU)',\n",
       "       'Gross domestic savings (% of GDP)',\n",
       "       'Gross domestic savings (current LCU)',\n",
       "       'Gross domestic savings (current US$)',\n",
       "       'Gross fixed capital formation (% of GDP)',\n",
       "       'Gross fixed capital formation (annual % growth)',\n",
       "       'Gross fixed capital formation (constant 2015 US$)',\n",
       "       'Gross fixed capital formation (constant LCU)',\n",
       "       'Gross fixed capital formation (current LCU)',\n",
       "       'Gross fixed capital formation (current US$)',\n",
       "       'Gross fixed capital formation, private sector (% of GDP)',\n",
       "       'Gross fixed capital formation, private sector (current LCU)',\n",
       "       'Gross intake ratio in first grade of primary education, female (% of relevant age group)',\n",
       "       'Gross intake ratio in first grade of primary education, male (% of relevant age group)',\n",
       "       'Gross intake ratio in first grade of primary education, total (% of relevant age group)',\n",
       "       'Gross national expenditure (% of GDP)',\n",
       "       'Gross national expenditure (constant 2015 US$)',\n",
       "       'Gross national expenditure (constant LCU)',\n",
       "       'Gross national expenditure (current LCU)',\n",
       "       'Gross national expenditure (current US$)',\n",
       "       'Gross national expenditure deflator (base year varies by country)',\n",
       "       'Gross savings (% of GDP)', 'Gross savings (% of GNI)',\n",
       "       'Gross savings (current LCU)', 'Gross savings (current US$)',\n",
       "       'Gross value added at basic prices (GVA) (constant 2015 US$)',\n",
       "       'Gross value added at basic prices (GVA) (constant LCU)',\n",
       "       'Gross value added at basic prices (GVA) (current LCU)',\n",
       "       'Gross value added at basic prices (GVA) (current US$)',\n",
       "       'Listed domestic companies, total',\n",
       "       'Market capitalization of listed domestic companies (% of GDP)',\n",
       "       'Market capitalization of listed domestic companies (current US$)',\n",
       "       'Net ODA received (% of gross capital formation)',\n",
       "       'Net domestic credit (current LCU)',\n",
       "       'Proportion of time spent on unpaid domestic and care work, female (% of 24 hour day)',\n",
       "       'Proportion of time spent on unpaid domestic and care work, male (% of 24 hour day)',\n",
       "       'School enrollment, preprimary (% gross)',\n",
       "       'School enrollment, preprimary, female (% gross)',\n",
       "       'School enrollment, preprimary, male (% gross)',\n",
       "       'School enrollment, primary (% gross)',\n",
       "       'School enrollment, primary (gross), gender parity index (GPI)',\n",
       "       'School enrollment, primary and secondary (gross), gender parity index (GPI)',\n",
       "       'School enrollment, primary, female (% gross)',\n",
       "       'School enrollment, primary, male (% gross)',\n",
       "       'School enrollment, secondary (% gross)',\n",
       "       'School enrollment, secondary (gross), gender parity index (GPI)',\n",
       "       'School enrollment, secondary, female (% gross)',\n",
       "       'School enrollment, secondary, male (% gross)',\n",
       "       'School enrollment, tertiary (% gross)',\n",
       "       'School enrollment, tertiary (gross), gender parity index (GPI)',\n",
       "       'School enrollment, tertiary, female (% gross)',\n",
       "       'School enrollment, tertiary, male (% gross)',\n",
       "       'Stocks traded, turnover ratio of domestic shares (%)'],\n",
       "      dtype='object')"
      ]
     },
     "execution_count": 20,
     "metadata": {},
     "output_type": "execute_result"
    }
   ],
   "source": [
    "g20_data.columns"
   ]
  },
  {
   "cell_type": "markdown",
   "metadata": {},
   "source": [
    "## EDA on Cleaned Data"
   ]
  },
  {
   "cell_type": "code",
   "execution_count": 130,
   "metadata": {},
   "outputs": [],
   "source": [
    "# Access data for India\n",
    "india_data = g20_data.loc['India']\n",
    "india_data.reset_index(inplace=True)\n",
    "\n",
    "# Define the columns you want to convert to float\n",
    "columns_to_convert = india_data.columns[1:]\n",
    "# Loop through the columns and convert them to float\n",
    "for column in columns_to_convert:\n",
    "    india_data[column] = pd.to_numeric(india_data[column], errors='coerce', downcast='float')\n",
    "\n",
    "# 'coerce' will convert non-numeric values to NaN, and 'downcast' will minimize the memory usage."
   ]
  },
  {
   "cell_type": "code",
   "execution_count": 131,
   "metadata": {},
   "outputs": [
    {
     "data": {
      "text/html": [
       "<div>\n",
       "<style scoped>\n",
       "    .dataframe tbody tr th:only-of-type {\n",
       "        vertical-align: middle;\n",
       "    }\n",
       "\n",
       "    .dataframe tbody tr th {\n",
       "        vertical-align: top;\n",
       "    }\n",
       "\n",
       "    .dataframe thead th {\n",
       "        text-align: right;\n",
       "    }\n",
       "</style>\n",
       "<table border=\"1\" class=\"dataframe\">\n",
       "  <thead>\n",
       "    <tr style=\"text-align: right;\">\n",
       "      <th></th>\n",
       "      <th>year</th>\n",
       "      <th>Adjusted savings: gross savings (% of GNI)</th>\n",
       "      <th>Annual freshwater withdrawals, domestic (% of total freshwater withdrawal)</th>\n",
       "      <th>Bank nonperforming loans to total gross loans (%)</th>\n",
       "      <th>Claims on other sectors of the domestic economy (% of GDP)</th>\n",
       "      <th>Claims on other sectors of the domestic economy (annual growth as % of broad money)</th>\n",
       "      <th>Domestic credit provided by financial sector (% of GDP)</th>\n",
       "      <th>Domestic credit to private sector (% of GDP)</th>\n",
       "      <th>Domestic credit to private sector by banks (% of GDP)</th>\n",
       "      <th>Domestic general government health expenditure (% of current health expenditure)</th>\n",
       "      <th>...</th>\n",
       "      <th>School enrollment, primary, male (% gross)</th>\n",
       "      <th>School enrollment, secondary (% gross)</th>\n",
       "      <th>School enrollment, secondary (gross), gender parity index (GPI)</th>\n",
       "      <th>School enrollment, secondary, female (% gross)</th>\n",
       "      <th>School enrollment, secondary, male (% gross)</th>\n",
       "      <th>School enrollment, tertiary (% gross)</th>\n",
       "      <th>School enrollment, tertiary (gross), gender parity index (GPI)</th>\n",
       "      <th>School enrollment, tertiary, female (% gross)</th>\n",
       "      <th>School enrollment, tertiary, male (% gross)</th>\n",
       "      <th>Stocks traded, turnover ratio of domestic shares (%)</th>\n",
       "    </tr>\n",
       "  </thead>\n",
       "  <tbody>\n",
       "    <tr>\n",
       "      <th>0</th>\n",
       "      <td>1973</td>\n",
       "      <td>NaN</td>\n",
       "      <td>NaN</td>\n",
       "      <td>NaN</td>\n",
       "      <td>NaN</td>\n",
       "      <td>NaN</td>\n",
       "      <td>NaN</td>\n",
       "      <td>13.093863</td>\n",
       "      <td>13.093863</td>\n",
       "      <td>NaN</td>\n",
       "      <td>...</td>\n",
       "      <td>98.276573</td>\n",
       "      <td>24.385481</td>\n",
       "      <td>0.43858</td>\n",
       "      <td>14.58041</td>\n",
       "      <td>33.458061</td>\n",
       "      <td>4.93244</td>\n",
       "      <td>0.29540</td>\n",
       "      <td>2.19591</td>\n",
       "      <td>7.43379</td>\n",
       "      <td>NaN</td>\n",
       "    </tr>\n",
       "    <tr>\n",
       "      <th>1</th>\n",
       "      <td>1974</td>\n",
       "      <td>NaN</td>\n",
       "      <td>NaN</td>\n",
       "      <td>NaN</td>\n",
       "      <td>NaN</td>\n",
       "      <td>NaN</td>\n",
       "      <td>NaN</td>\n",
       "      <td>12.913800</td>\n",
       "      <td>12.913800</td>\n",
       "      <td>NaN</td>\n",
       "      <td>...</td>\n",
       "      <td>97.587379</td>\n",
       "      <td>NaN</td>\n",
       "      <td>NaN</td>\n",
       "      <td>NaN</td>\n",
       "      <td>NaN</td>\n",
       "      <td>NaN</td>\n",
       "      <td>NaN</td>\n",
       "      <td>NaN</td>\n",
       "      <td>NaN</td>\n",
       "      <td>NaN</td>\n",
       "    </tr>\n",
       "    <tr>\n",
       "      <th>2</th>\n",
       "      <td>1975</td>\n",
       "      <td>13.137407</td>\n",
       "      <td>3.000000</td>\n",
       "      <td>NaN</td>\n",
       "      <td>NaN</td>\n",
       "      <td>NaN</td>\n",
       "      <td>NaN</td>\n",
       "      <td>14.933733</td>\n",
       "      <td>14.933733</td>\n",
       "      <td>NaN</td>\n",
       "      <td>...</td>\n",
       "      <td>98.287231</td>\n",
       "      <td>25.119230</td>\n",
       "      <td>0.46198</td>\n",
       "      <td>15.60075</td>\n",
       "      <td>33.939770</td>\n",
       "      <td>NaN</td>\n",
       "      <td>NaN</td>\n",
       "      <td>NaN</td>\n",
       "      <td>NaN</td>\n",
       "      <td>NaN</td>\n",
       "    </tr>\n",
       "    <tr>\n",
       "      <th>3</th>\n",
       "      <td>1976</td>\n",
       "      <td>16.006218</td>\n",
       "      <td>3.045932</td>\n",
       "      <td>NaN</td>\n",
       "      <td>NaN</td>\n",
       "      <td>NaN</td>\n",
       "      <td>NaN</td>\n",
       "      <td>17.887701</td>\n",
       "      <td>17.887701</td>\n",
       "      <td>NaN</td>\n",
       "      <td>...</td>\n",
       "      <td>97.420441</td>\n",
       "      <td>25.339180</td>\n",
       "      <td>0.46539</td>\n",
       "      <td>15.82743</td>\n",
       "      <td>34.159340</td>\n",
       "      <td>4.97687</td>\n",
       "      <td>0.33163</td>\n",
       "      <td>2.42530</td>\n",
       "      <td>7.31333</td>\n",
       "      <td>NaN</td>\n",
       "    </tr>\n",
       "    <tr>\n",
       "      <th>4</th>\n",
       "      <td>1977</td>\n",
       "      <td>15.439558</td>\n",
       "      <td>3.089205</td>\n",
       "      <td>NaN</td>\n",
       "      <td>NaN</td>\n",
       "      <td>NaN</td>\n",
       "      <td>NaN</td>\n",
       "      <td>18.041784</td>\n",
       "      <td>18.041784</td>\n",
       "      <td>NaN</td>\n",
       "      <td>...</td>\n",
       "      <td>100.317017</td>\n",
       "      <td>25.929871</td>\n",
       "      <td>0.47209</td>\n",
       "      <td>16.35515</td>\n",
       "      <td>34.813641</td>\n",
       "      <td>4.81184</td>\n",
       "      <td>0.35748</td>\n",
       "      <td>2.48307</td>\n",
       "      <td>6.94603</td>\n",
       "      <td>NaN</td>\n",
       "    </tr>\n",
       "  </tbody>\n",
       "</table>\n",
       "<p>5 rows × 76 columns</p>\n",
       "</div>"
      ],
      "text/plain": [
       "   year  Adjusted savings: gross savings (% of GNI)  \\\n",
       "0  1973                                         NaN   \n",
       "1  1974                                         NaN   \n",
       "2  1975                                   13.137407   \n",
       "3  1976                                   16.006218   \n",
       "4  1977                                   15.439558   \n",
       "\n",
       "   Annual freshwater withdrawals, domestic (% of total freshwater withdrawal)  \\\n",
       "0                                                NaN                            \n",
       "1                                                NaN                            \n",
       "2                                           3.000000                            \n",
       "3                                           3.045932                            \n",
       "4                                           3.089205                            \n",
       "\n",
       "   Bank nonperforming loans to total gross loans (%)  \\\n",
       "0                                                NaN   \n",
       "1                                                NaN   \n",
       "2                                                NaN   \n",
       "3                                                NaN   \n",
       "4                                                NaN   \n",
       "\n",
       "   Claims on other sectors of the domestic economy (% of GDP)  \\\n",
       "0                                                NaN            \n",
       "1                                                NaN            \n",
       "2                                                NaN            \n",
       "3                                                NaN            \n",
       "4                                                NaN            \n",
       "\n",
       "   Claims on other sectors of the domestic economy (annual growth as % of broad money)  \\\n",
       "0                                                NaN                                     \n",
       "1                                                NaN                                     \n",
       "2                                                NaN                                     \n",
       "3                                                NaN                                     \n",
       "4                                                NaN                                     \n",
       "\n",
       "   Domestic credit provided by financial sector (% of GDP)  \\\n",
       "0                                                NaN         \n",
       "1                                                NaN         \n",
       "2                                                NaN         \n",
       "3                                                NaN         \n",
       "4                                                NaN         \n",
       "\n",
       "   Domestic credit to private sector (% of GDP)  \\\n",
       "0                                     13.093863   \n",
       "1                                     12.913800   \n",
       "2                                     14.933733   \n",
       "3                                     17.887701   \n",
       "4                                     18.041784   \n",
       "\n",
       "   Domestic credit to private sector by banks (% of GDP)  \\\n",
       "0                                          13.093863       \n",
       "1                                          12.913800       \n",
       "2                                          14.933733       \n",
       "3                                          17.887701       \n",
       "4                                          18.041784       \n",
       "\n",
       "   Domestic general government health expenditure (% of current health expenditure)  \\\n",
       "0                                                NaN                                  \n",
       "1                                                NaN                                  \n",
       "2                                                NaN                                  \n",
       "3                                                NaN                                  \n",
       "4                                                NaN                                  \n",
       "\n",
       "   ...  School enrollment, primary, male (% gross)  \\\n",
       "0  ...                                   98.276573   \n",
       "1  ...                                   97.587379   \n",
       "2  ...                                   98.287231   \n",
       "3  ...                                   97.420441   \n",
       "4  ...                                  100.317017   \n",
       "\n",
       "   School enrollment, secondary (% gross)  \\\n",
       "0                               24.385481   \n",
       "1                                     NaN   \n",
       "2                               25.119230   \n",
       "3                               25.339180   \n",
       "4                               25.929871   \n",
       "\n",
       "   School enrollment, secondary (gross), gender parity index (GPI)  \\\n",
       "0                                            0.43858                 \n",
       "1                                                NaN                 \n",
       "2                                            0.46198                 \n",
       "3                                            0.46539                 \n",
       "4                                            0.47209                 \n",
       "\n",
       "   School enrollment, secondary, female (% gross)  \\\n",
       "0                                        14.58041   \n",
       "1                                             NaN   \n",
       "2                                        15.60075   \n",
       "3                                        15.82743   \n",
       "4                                        16.35515   \n",
       "\n",
       "   School enrollment, secondary, male (% gross)  \\\n",
       "0                                     33.458061   \n",
       "1                                           NaN   \n",
       "2                                     33.939770   \n",
       "3                                     34.159340   \n",
       "4                                     34.813641   \n",
       "\n",
       "   School enrollment, tertiary (% gross)  \\\n",
       "0                                4.93244   \n",
       "1                                    NaN   \n",
       "2                                    NaN   \n",
       "3                                4.97687   \n",
       "4                                4.81184   \n",
       "\n",
       "   School enrollment, tertiary (gross), gender parity index (GPI)  \\\n",
       "0                                            0.29540                \n",
       "1                                                NaN                \n",
       "2                                                NaN                \n",
       "3                                            0.33163                \n",
       "4                                            0.35748                \n",
       "\n",
       "   School enrollment, tertiary, female (% gross)  \\\n",
       "0                                        2.19591   \n",
       "1                                            NaN   \n",
       "2                                            NaN   \n",
       "3                                        2.42530   \n",
       "4                                        2.48307   \n",
       "\n",
       "   School enrollment, tertiary, male (% gross)  \\\n",
       "0                                      7.43379   \n",
       "1                                          NaN   \n",
       "2                                          NaN   \n",
       "3                                      7.31333   \n",
       "4                                      6.94603   \n",
       "\n",
       "   Stocks traded, turnover ratio of domestic shares (%)  \n",
       "0                                                NaN     \n",
       "1                                                NaN     \n",
       "2                                                NaN     \n",
       "3                                                NaN     \n",
       "4                                                NaN     \n",
       "\n",
       "[5 rows x 76 columns]"
      ]
     },
     "metadata": {},
     "output_type": "display_data"
    }
   ],
   "source": [
    "display(india_data.head())"
   ]
  },
  {
   "cell_type": "code",
   "execution_count": 132,
   "metadata": {},
   "outputs": [
    {
     "data": {
      "text/plain": [
       "Index(['year', 'Adjusted savings: gross savings (% of GNI)',\n",
       "       'Annual freshwater withdrawals, domestic (% of total freshwater withdrawal)',\n",
       "       'Bank nonperforming loans to total gross loans (%)',\n",
       "       'Claims on other sectors of the domestic economy (% of GDP)',\n",
       "       'Claims on other sectors of the domestic economy (annual growth as % of broad money)',\n",
       "       'Domestic credit provided by financial sector (% of GDP)',\n",
       "       'Domestic credit to private sector (% of GDP)',\n",
       "       'Domestic credit to private sector by banks (% of GDP)',\n",
       "       'Domestic general government health expenditure (% of current health expenditure)',\n",
       "       'Domestic general government health expenditure (% of GDP)',\n",
       "       'Domestic general government health expenditure (% of general government expenditure)',\n",
       "       'Domestic general government health expenditure per capita (current US$)',\n",
       "       'Domestic general government health expenditure per capita, PPP (current international $)',\n",
       "       'Domestic private health expenditure (% of current health expenditure)',\n",
       "       'Domestic private health expenditure per capita (current US$)',\n",
       "       'Domestic private health expenditure per capita, PPP (current international $)',\n",
       "       'Gross capital formation (% of GDP)',\n",
       "       'Gross capital formation (annual % growth)',\n",
       "       'Gross capital formation (constant 2015 US$)',\n",
       "       'Gross capital formation (constant LCU)',\n",
       "       'Gross capital formation (current LCU)',\n",
       "       'Gross capital formation (current US$)',\n",
       "       'Gross domestic income (constant LCU)',\n",
       "       'Gross domestic savings (% of GDP)',\n",
       "       'Gross domestic savings (current LCU)',\n",
       "       'Gross domestic savings (current US$)',\n",
       "       'Gross fixed capital formation (% of GDP)',\n",
       "       'Gross fixed capital formation (annual % growth)',\n",
       "       'Gross fixed capital formation (constant 2015 US$)',\n",
       "       'Gross fixed capital formation (constant LCU)',\n",
       "       'Gross fixed capital formation (current LCU)',\n",
       "       'Gross fixed capital formation (current US$)',\n",
       "       'Gross fixed capital formation, private sector (% of GDP)',\n",
       "       'Gross fixed capital formation, private sector (current LCU)',\n",
       "       'Gross intake ratio in first grade of primary education, female (% of relevant age group)',\n",
       "       'Gross intake ratio in first grade of primary education, male (% of relevant age group)',\n",
       "       'Gross intake ratio in first grade of primary education, total (% of relevant age group)',\n",
       "       'Gross national expenditure (% of GDP)',\n",
       "       'Gross national expenditure (constant 2015 US$)',\n",
       "       'Gross national expenditure (constant LCU)',\n",
       "       'Gross national expenditure (current LCU)',\n",
       "       'Gross national expenditure (current US$)',\n",
       "       'Gross national expenditure deflator (base year varies by country)',\n",
       "       'Gross savings (% of GDP)', 'Gross savings (% of GNI)',\n",
       "       'Gross savings (current LCU)', 'Gross savings (current US$)',\n",
       "       'Gross value added at basic prices (GVA) (constant 2015 US$)',\n",
       "       'Gross value added at basic prices (GVA) (constant LCU)',\n",
       "       'Gross value added at basic prices (GVA) (current LCU)',\n",
       "       'Gross value added at basic prices (GVA) (current US$)',\n",
       "       'Listed domestic companies, total',\n",
       "       'Market capitalization of listed domestic companies (% of GDP)',\n",
       "       'Market capitalization of listed domestic companies (current US$)',\n",
       "       'Net ODA received (% of gross capital formation)',\n",
       "       'Net domestic credit (current LCU)',\n",
       "       'Proportion of time spent on unpaid domestic and care work, female (% of 24 hour day)',\n",
       "       'Proportion of time spent on unpaid domestic and care work, male (% of 24 hour day)',\n",
       "       'School enrollment, preprimary (% gross)',\n",
       "       'School enrollment, preprimary, female (% gross)',\n",
       "       'School enrollment, preprimary, male (% gross)',\n",
       "       'School enrollment, primary (% gross)',\n",
       "       'School enrollment, primary (gross), gender parity index (GPI)',\n",
       "       'School enrollment, primary and secondary (gross), gender parity index (GPI)',\n",
       "       'School enrollment, primary, female (% gross)',\n",
       "       'School enrollment, primary, male (% gross)',\n",
       "       'School enrollment, secondary (% gross)',\n",
       "       'School enrollment, secondary (gross), gender parity index (GPI)',\n",
       "       'School enrollment, secondary, female (% gross)',\n",
       "       'School enrollment, secondary, male (% gross)',\n",
       "       'School enrollment, tertiary (% gross)',\n",
       "       'School enrollment, tertiary (gross), gender parity index (GPI)',\n",
       "       'School enrollment, tertiary, female (% gross)',\n",
       "       'School enrollment, tertiary, male (% gross)',\n",
       "       'Stocks traded, turnover ratio of domestic shares (%)'],\n",
       "      dtype='object')"
      ]
     },
     "execution_count": 132,
     "metadata": {},
     "output_type": "execute_result"
    }
   ],
   "source": [
    "india_data.columns"
   ]
  },
  {
   "cell_type": "code",
   "execution_count": 133,
   "metadata": {},
   "outputs": [
    {
     "data": {
      "text/plain": [
       "(50, 76)"
      ]
     },
     "execution_count": 133,
     "metadata": {},
     "output_type": "execute_result"
    }
   ],
   "source": [
    "india_data.shape"
   ]
  },
  {
   "cell_type": "code",
   "execution_count": 134,
   "metadata": {},
   "outputs": [],
   "source": [
    "# # Define shorter column names for all columns in your DataFrame\n",
    "# short_column_names = {\n",
    "#     'year': 'Year',\n",
    "#     'Adjusted savings: gross savings (% of GNI)': 'Savings (% GNI)',\n",
    "#     'Annual freshwater withdrawals, domestic (% of total freshwater withdrawal)': 'Water Withdrawals (%)',\n",
    "#     'Bank nonperforming loans to total gross loans (%)': 'NPL (% Gross Loans)',\n",
    "#     'Claims on other sectors of the domestic economy (% of GDP)': 'Claims (% GDP)',\n",
    "#     'Claims on other sectors of the domestic economy (annual growth as % of broad money)': 'Claims Growth (% Broad Money)',\n",
    "#     'Domestic credit provided by financial sector (% of GDP)': 'Credit by Financial Sector (% GDP)',\n",
    "#     'Domestic credit to private sector (% of GDP)': 'Credit to Private Sector (% GDP)',\n",
    "#     'Domestic credit to private sector by banks (% of GDP)': 'Credit to Pvt Sector by Banks (% GDP)',\n",
    "#     'Domestic general government health expenditure (% of current health expenditure)': 'Govt. Health Exp (% Current Health)',\n",
    "#     'Domestic general government health expenditure (% of GDP)': 'Govt. Health Exp (% GDP)',\n",
    "#     'Domestic general government health expenditure (% of general government expenditure)': 'Govt. Health Exp (% Govt. Expenditure)',\n",
    "#     'Domestic general government health expenditure per capita (current US$)': 'Govt. Health Exp per Capita (US$)',\n",
    "#     'Domestic general government health expenditure per capita, PPP (current international $)': 'Govt. Health Exp per Capita (PPP Int. $)',\n",
    "#     'Domestic private health expenditure (% of current health expenditure)': 'Pvt. Health Exp (% Current Health)',\n",
    "#     'Domestic private health expenditure per capita (current US$)': 'Pvt. Health Exp per Capita (US$)',\n",
    "#     'Domestic private health expenditure per capita, PPP (current international $)': 'Pvt. Health Exp per Capita (PPP Int. $)',\n",
    "#     'Gross capital formation (% of GDP)': 'Cap Formation (% GDP)',\n",
    "#     'Gross capital formation (annual % growth)': 'Cap Formation Growth (%)',\n",
    "#     'Gross capital formation (constant 2015 US$)': 'Cap Formation (Const 2015 US$)',\n",
    "#     'Gross capital formation (constant LCU)': 'Cap Formation (Const LCU)',\n",
    "#     'Gross capital formation (current LCU)': 'Cap Formation (Curr LCU)',\n",
    "#     'Gross capital formation (current US$)': 'Cap Formation (Curr US$)',\n",
    "#     'Gross domestic income (constant LCU)': 'GDP (Const LCU)',\n",
    "#     'Gross domestic savings (% of GDP)': 'Savings (% GDP)',\n",
    "#     'Gross domestic savings (current LCU)': 'Savings (Curr LCU)',\n",
    "#     'Gross domestic savings (current US$)': 'Savings (Curr US$)',\n",
    "#     'Gross fixed capital formation (% of GDP)': 'Fix Cap Formation (% GDP)',\n",
    "#     'Gross fixed capital formation (annual % growth)': 'Fix Cap Formation Growth (%)',\n",
    "#     'Gross fixed capital formation (constant 2015 US$)': 'Fix Cap Formation (Const 2015 US$)',\n",
    "#     # Continue adding shorter names for the remaining columns as needed\n",
    "#     'Gross capital formation (constant LCU)': 'GCF (Const LCU)',\n",
    "#     'Gross capital formation (current LCU)': 'GCF (Curr LCU)',\n",
    "#     'Gross capital formation (current US$)': 'GCF (Curr US$)',\n",
    "#     'Gross domestic income (constant LCU)': 'GDI (Const LCU)',\n",
    "#     'Gross domestic savings (% of GDP)': 'Savings (% GDP)',\n",
    "#     'Gross domestic savings (current LCU)': 'Savings (Curr LCU)',\n",
    "#     'Gross domestic savings (current US$)': 'Savings (Curr US$)',\n",
    "#     'Gross fixed capital formation (% of GDP)': 'Fix Cap Formation (% GDP)',\n",
    "#     'Gross fixed capital formation (annual % growth)': 'Fix Cap Formation Growth (%)',\n",
    "#     'Gross fixed capital formation (constant 2015 US$)': 'Fix Cap Formation (Const 2015 US$)',\n",
    "#     'Gross fixed capital formation (constant LCU)': 'Fix Cap Formation (Const LCU)',\n",
    "#     'Gross fixed capital formation (current LCU)': 'Fix Cap Formation (Curr LCU)',\n",
    "#     'Gross fixed capital formation (current US$)': 'Fix Cap Formation (Curr US$)',\n",
    "#     'Gross fixed capital formation, private sector (% of GDP)': 'Fix Cap Formation, Pvt Sector (% GDP)',\n",
    "#     'Gross fixed capital formation, private sector (current LCU)': 'Fix Cap Formation, Pvt Sector (Curr LCU)',\n",
    "#     'Gross intake ratio in first grade of primary education, female (% of relevant age group)': 'Intake Ratio, 1st Grade, Female (% Relevant Age)',\n",
    "#     'Gross intake ratio in first grade of primary education, male (% of relevant age group)': 'Intake Ratio, 1st Grade, Male (% Relevant Age)',\n",
    "#     'Gross intake ratio in first grade of primary education, total (% of relevant age group)': 'Intake Ratio, 1st Grade, Total (% Relevant Age)',\n",
    "#     'Gross national expenditure (% of GDP)': 'Natl Expenditure (% GDP)',\n",
    "#     'Gross national expenditure (constant 2015 US$)': 'Natl Expenditure (Const 2015 US$)',\n",
    "#     'Gross national expenditure (constant LCU)': 'Natl Expenditure (Const LCU)',\n",
    "#     'Gross national expenditure (current LCU)': 'Natl Expenditure (Curr LCU)',\n",
    "#     'Gross national expenditure (current US$)': 'Natl Expenditure (Curr US$)',\n",
    "#     'Gross national expenditure deflator (base year varies by country)': 'Natl Expenditure Deflator',\n",
    "#     'Gross savings (% of GDP)': 'Savings (% GDP)',\n",
    "#     'Gross savings (% of GNI)': 'Savings (% GNI)',\n",
    "#     'Gross savings (current LCU)': 'Savings (Curr LCU)',\n",
    "#     'Gross savings (current US$)': 'Savings (Curr US$)',\n",
    "#     'Gross value added at basic prices (GVA) (constant 2015 US$)': 'GVA (Const 2015 US$)',\n",
    "#     'Gross value added at basic prices (GVA) (constant LCU)': 'GVA (Const LCU)',\n",
    "#     'Gross value added at basic prices (GVA) (current LCU)': 'GVA (Curr LCU)',\n",
    "#     'Gross value added at basic prices (GVA) (current US$)': 'GVA (Curr US$)',\n",
    "#     'Listed domestic companies, total': 'Listed Cos (Total)',\n",
    "#     'Market capitalization of listed domestic companies (% of GDP)': 'Market Cap of Listed Cos (% GDP)',\n",
    "#     'Market capitalization of listed domestic companies (current US$)': 'Market Cap of Listed Cos (Curr US$)',\n",
    "#     'Net ODA received (% of gross capital formation)': 'Net ODA Rec\\'d (% GCF)',\n",
    "#     'Net domestic credit (current LCU)': 'Net Domestic Credit (Curr LCU)',\n",
    "#     'Proportion of time spent on unpaid domestic and care work, female (% of 24 hour day)': 'Time Spent on Unpaid Work, Female (% of Day)',\n",
    "#     'Proportion of time spent on unpaid domestic and care work, male (% of 24 hour day)': 'Time Spent on Unpaid Work, Male (% of Day)',\n",
    "#     'School enrollment, preprimary (% gross)': 'School Enroll, Preprimary (% Gross)',\n",
    "#     'School enrollment, preprimary, female (% gross)': 'School Enroll, Preprimary, Female (% Gross)',\n",
    "#     'School enrollment, preprimary, male (% gross)': 'School Enroll, Preprimary, Male (% Gross)',\n",
    "#     'School enrollment, primary (% gross)': 'School Enroll, Primary (% Gross)',\n",
    "#     'School enrollment, primary (gross), gender parity index (GPI)': 'School Enroll, Primary (Gross), GPI',\n",
    "#     'School enrollment, primary and secondary (gross), gender parity index (GPI)': 'School Enroll, Primary & Secondary (Gross), GPI',\n",
    "#     'School enrollment, primary, female (% gross)': 'School Enroll, Primary, Female (% Gross)',\n",
    "#     'School enrollment, primary, male (% gross)': 'School Enroll, Primary, Male (% Gross)',\n",
    "#     'School enrollment, secondary (% gross)': 'School Enroll, Secondary (% Gross)',\n",
    "#     'School enrollment, secondary (gross), gender parity index (GPI)': 'School Enroll, Secondary (Gross), GPI',\n",
    "#     'School enrollment, secondary, female (% gross)': 'School Enroll, Secondary, Female (% Gross)',\n",
    "#     'School enrollment, secondary, male (% gross)': 'School Enroll, Secondary, Male (% Gross)',\n",
    "#     'School enrollment, tertiary (% gross)': 'School Enroll, Tertiary (% Gross)',\n",
    "#     'School enrollment, tertiary (gross), gender parity index (GPI)': 'School Enroll, Tertiary (Gross), GPI',\n",
    "#     'School enrollment, tertiary, female (% gross)': 'School Enroll, Tertiary, Female (% Gross)',\n",
    "#     'School enrollment, tertiary, male (% gross)': 'School Enroll, Tertiary, Male (% Gross)',\n",
    "#     'Stocks traded, turnover ratio of domestic shares (%)': 'Stocks Traded, Turnover Ratio (%)',\n",
    "# }\n",
    "\n",
    "# # Rename the columns in the DataFrame\n",
    "# india_data.rename(columns=short_column_names, inplace=True)"
   ]
  },
  {
   "cell_type": "code",
   "execution_count": 135,
   "metadata": {},
   "outputs": [
    {
     "name": "stdout",
     "output_type": "stream",
     "text": [
      "<class 'pandas.core.frame.DataFrame'>\n",
      "RangeIndex: 50 entries, 0 to 49\n",
      "Data columns (total 76 columns):\n",
      " #   Column                                                                                    Non-Null Count  Dtype  \n",
      "---  ------                                                                                    --------------  -----  \n",
      " 0   year                                                                                      50 non-null     int64  \n",
      " 1   Adjusted savings: gross savings (% of GNI)                                                46 non-null     float32\n",
      " 2   Annual freshwater withdrawals, domestic (% of total freshwater withdrawal)                46 non-null     float32\n",
      " 3   Bank nonperforming loans to total gross loans (%)                                         13 non-null     float32\n",
      " 4   Claims on other sectors of the domestic economy (% of GDP)                                0 non-null      float32\n",
      " 5   Claims on other sectors of the domestic economy (annual growth as % of broad money)       0 non-null      float32\n",
      " 6   Domestic credit provided by financial sector (% of GDP)                                   0 non-null      float32\n",
      " 7   Domestic credit to private sector (% of GDP)                                              49 non-null     float32\n",
      " 8   Domestic credit to private sector by banks (% of GDP)                                     49 non-null     float32\n",
      " 9   Domestic general government health expenditure (% of current health expenditure)          21 non-null     float32\n",
      " 10  Domestic general government health expenditure (% of GDP)                                 21 non-null     float32\n",
      " 11  Domestic general government health expenditure (% of general government expenditure)      21 non-null     float32\n",
      " 12  Domestic general government health expenditure per capita (current US$)                   21 non-null     float32\n",
      " 13  Domestic general government health expenditure per capita, PPP (current international $)  21 non-null     float32\n",
      " 14  Domestic private health expenditure (% of current health expenditure)                     21 non-null     float32\n",
      " 15  Domestic private health expenditure per capita (current US$)                              21 non-null     float32\n",
      " 16  Domestic private health expenditure per capita, PPP (current international $)             21 non-null     float32\n",
      " 17  Gross capital formation (% of GDP)                                                        50 non-null     float32\n",
      " 18  Gross capital formation (annual % growth)                                                 50 non-null     float32\n",
      " 19  Gross capital formation (constant 2015 US$)                                               50 non-null     float64\n",
      " 20  Gross capital formation (constant LCU)                                                    50 non-null     float64\n",
      " 21  Gross capital formation (current LCU)                                                     50 non-null     float64\n",
      " 22  Gross capital formation (current US$)                                                     50 non-null     float64\n",
      " 23  Gross domestic income (constant LCU)                                                      50 non-null     float64\n",
      " 24  Gross domestic savings (% of GDP)                                                         50 non-null     float32\n",
      " 25  Gross domestic savings (current LCU)                                                      50 non-null     float64\n",
      " 26  Gross domestic savings (current US$)                                                      50 non-null     float64\n",
      " 27  Gross fixed capital formation (% of GDP)                                                  50 non-null     float32\n",
      " 28  Gross fixed capital formation (annual % growth)                                           50 non-null     float32\n",
      " 29  Gross fixed capital formation (constant 2015 US$)                                         50 non-null     float64\n",
      " 30  Gross fixed capital formation (constant LCU)                                              50 non-null     float64\n",
      " 31  Gross fixed capital formation (current LCU)                                               50 non-null     float64\n",
      " 32  Gross fixed capital formation (current US$)                                               50 non-null     float64\n",
      " 33  Gross fixed capital formation, private sector (% of GDP)                                  11 non-null     float32\n",
      " 34  Gross fixed capital formation, private sector (current LCU)                               11 non-null     float64\n",
      " 35  Gross intake ratio in first grade of primary education, female (% of relevant age group)  24 non-null     float32\n",
      " 36  Gross intake ratio in first grade of primary education, male (% of relevant age group)    24 non-null     float32\n",
      " 37  Gross intake ratio in first grade of primary education, total (% of relevant age group)   24 non-null     float32\n",
      " 38  Gross national expenditure (% of GDP)                                                     50 non-null     float32\n",
      " 39  Gross national expenditure (constant 2015 US$)                                            50 non-null     float64\n",
      " 40  Gross national expenditure (constant LCU)                                                 50 non-null     float64\n",
      " 41  Gross national expenditure (current LCU)                                                  50 non-null     float64\n",
      " 42  Gross national expenditure (current US$)                                                  50 non-null     float64\n",
      " 43  Gross national expenditure deflator (base year varies by country)                         50 non-null     float32\n",
      " 44  Gross savings (% of GDP)                                                                  48 non-null     float32\n",
      " 45  Gross savings (% of GNI)                                                                  48 non-null     float32\n",
      " 46  Gross savings (current LCU)                                                               48 non-null     float64\n",
      " 47  Gross savings (current US$)                                                               48 non-null     float64\n",
      " 48  Gross value added at basic prices (GVA) (constant 2015 US$)                               50 non-null     float64\n",
      " 49  Gross value added at basic prices (GVA) (constant LCU)                                    50 non-null     float64\n",
      " 50  Gross value added at basic prices (GVA) (current LCU)                                     50 non-null     float64\n",
      " 51  Gross value added at basic prices (GVA) (current US$)                                     50 non-null     float64\n",
      " 52  Listed domestic companies, total                                                          38 non-null     float32\n",
      " 53  Market capitalization of listed domestic companies (% of GDP)                             21 non-null     float32\n",
      " 54  Market capitalization of listed domestic companies (current US$)                          21 non-null     float64\n",
      " 55  Net ODA received (% of gross capital formation)                                           49 non-null     float32\n",
      " 56  Net domestic credit (current LCU)                                                         46 non-null     float64\n",
      " 57  Proportion of time spent on unpaid domestic and care work, female (% of 24 hour day)      0 non-null      float32\n",
      " 58  Proportion of time spent on unpaid domestic and care work, male (% of 24 hour day)        0 non-null      float32\n",
      " 59  School enrollment, preprimary (% gross)                                                   27 non-null     float32\n",
      " 60  School enrollment, preprimary, female (% gross)                                           27 non-null     float32\n",
      " 61  School enrollment, preprimary, male (% gross)                                             27 non-null     float32\n",
      " 62  School enrollment, primary (% gross)                                                      45 non-null     float32\n",
      " 63  School enrollment, primary (gross), gender parity index (GPI)                             46 non-null     float32\n",
      " 64  School enrollment, primary and secondary (gross), gender parity index (GPI)               39 non-null     float32\n",
      " 65  School enrollment, primary, female (% gross)                                              45 non-null     float32\n",
      " 66  School enrollment, primary, male (% gross)                                                43 non-null     float32\n",
      " 67  School enrollment, secondary (% gross)                                                    43 non-null     float32\n",
      " 68  School enrollment, secondary (gross), gender parity index (GPI)                           42 non-null     float32\n",
      " 69  School enrollment, secondary, female (% gross)                                            42 non-null     float32\n",
      " 70  School enrollment, secondary, male (% gross)                                              40 non-null     float32\n",
      " 71  School enrollment, tertiary (% gross)                                                     43 non-null     float32\n",
      " 72  School enrollment, tertiary (gross), gender parity index (GPI)                            40 non-null     float32\n",
      " 73  School enrollment, tertiary, female (% gross)                                             41 non-null     float32\n",
      " 74  School enrollment, tertiary, male (% gross)                                               40 non-null     float32\n",
      " 75  Stocks traded, turnover ratio of domestic shares (%)                                      21 non-null     float32\n",
      "dtypes: float32(51), float64(24), int64(1)\n",
      "memory usage: 19.9 KB\n"
     ]
    }
   ],
   "source": [
    "india_data.info()"
   ]
  },
  {
   "cell_type": "code",
   "execution_count": 136,
   "metadata": {},
   "outputs": [
    {
     "name": "stdout",
     "output_type": "stream",
     "text": [
      "Index(['year', 'Adjusted savings: gross savings (% of GNI)',\n",
      "       'Annual freshwater withdrawals, domestic (% of total freshwater withdrawal)',\n",
      "       'Bank nonperforming loans to total gross loans (%)',\n",
      "       'Claims on other sectors of the domestic economy (% of GDP)',\n",
      "       'Claims on other sectors of the domestic economy (annual growth as % of broad money)',\n",
      "       'Domestic credit provided by financial sector (% of GDP)',\n",
      "       'Domestic credit to private sector (% of GDP)',\n",
      "       'Domestic credit to private sector by banks (% of GDP)',\n",
      "       'Domestic general government health expenditure (% of current health expenditure)',\n",
      "       'Domestic general government health expenditure (% of GDP)',\n",
      "       'Domestic general government health expenditure (% of general government expenditure)',\n",
      "       'Domestic general government health expenditure per capita (current US$)',\n",
      "       'Domestic general government health expenditure per capita, PPP (current international $)',\n",
      "       'Domestic private health expenditure (% of current health expenditure)',\n",
      "       'Domestic private health expenditure per capita (current US$)',\n",
      "       'Domestic private health expenditure per capita, PPP (current international $)',\n",
      "       'Gross capital formation (% of GDP)',\n",
      "       'Gross capital formation (annual % growth)',\n",
      "       'Gross capital formation (constant 2015 US$)',\n",
      "       'Gross capital formation (constant LCU)',\n",
      "       'Gross capital formation (current LCU)',\n",
      "       'Gross capital formation (current US$)',\n",
      "       'Gross domestic income (constant LCU)',\n",
      "       'Gross domestic savings (% of GDP)',\n",
      "       'Gross domestic savings (current LCU)',\n",
      "       'Gross domestic savings (current US$)',\n",
      "       'Gross fixed capital formation (% of GDP)',\n",
      "       'Gross fixed capital formation (annual % growth)',\n",
      "       'Gross fixed capital formation (constant 2015 US$)',\n",
      "       'Gross fixed capital formation (constant LCU)',\n",
      "       'Gross fixed capital formation (current LCU)',\n",
      "       'Gross fixed capital formation (current US$)',\n",
      "       'Gross fixed capital formation, private sector (% of GDP)',\n",
      "       'Gross fixed capital formation, private sector (current LCU)',\n",
      "       'Gross intake ratio in first grade of primary education, female (% of relevant age group)',\n",
      "       'Gross intake ratio in first grade of primary education, male (% of relevant age group)',\n",
      "       'Gross intake ratio in first grade of primary education, total (% of relevant age group)',\n",
      "       'Gross national expenditure (% of GDP)',\n",
      "       'Gross national expenditure (constant 2015 US$)',\n",
      "       'Gross national expenditure (constant LCU)',\n",
      "       'Gross national expenditure (current LCU)',\n",
      "       'Gross national expenditure (current US$)',\n",
      "       'Gross national expenditure deflator (base year varies by country)',\n",
      "       'Gross savings (% of GDP)', 'Gross savings (% of GNI)',\n",
      "       'Gross savings (current LCU)', 'Gross savings (current US$)',\n",
      "       'Gross value added at basic prices (GVA) (constant 2015 US$)',\n",
      "       'Gross value added at basic prices (GVA) (constant LCU)',\n",
      "       'Gross value added at basic prices (GVA) (current LCU)',\n",
      "       'Gross value added at basic prices (GVA) (current US$)',\n",
      "       'Listed domestic companies, total',\n",
      "       'Market capitalization of listed domestic companies (% of GDP)',\n",
      "       'Market capitalization of listed domestic companies (current US$)',\n",
      "       'Net ODA received (% of gross capital formation)',\n",
      "       'Net domestic credit (current LCU)',\n",
      "       'Proportion of time spent on unpaid domestic and care work, female (% of 24 hour day)',\n",
      "       'Proportion of time spent on unpaid domestic and care work, male (% of 24 hour day)',\n",
      "       'School enrollment, preprimary (% gross)',\n",
      "       'School enrollment, preprimary, female (% gross)',\n",
      "       'School enrollment, preprimary, male (% gross)',\n",
      "       'School enrollment, primary (% gross)',\n",
      "       'School enrollment, primary (gross), gender parity index (GPI)',\n",
      "       'School enrollment, primary and secondary (gross), gender parity index (GPI)',\n",
      "       'School enrollment, primary, female (% gross)',\n",
      "       'School enrollment, primary, male (% gross)',\n",
      "       'School enrollment, secondary (% gross)',\n",
      "       'School enrollment, secondary (gross), gender parity index (GPI)',\n",
      "       'School enrollment, secondary, female (% gross)',\n",
      "       'School enrollment, secondary, male (% gross)',\n",
      "       'School enrollment, tertiary (% gross)',\n",
      "       'School enrollment, tertiary (gross), gender parity index (GPI)',\n",
      "       'School enrollment, tertiary, female (% gross)',\n",
      "       'School enrollment, tertiary, male (% gross)',\n",
      "       'Stocks traded, turnover ratio of domestic shares (%)'],\n",
      "      dtype='object')\n"
     ]
    }
   ],
   "source": [
    "print(india_data.columns)"
   ]
  },
  {
   "cell_type": "code",
   "execution_count": 151,
   "metadata": {},
   "outputs": [
    {
     "data": {
      "application/vnd.plotly.v1+json": {
       "config": {
        "plotlyServerURL": "https://plot.ly"
       },
       "data": [
        {
         "colorbar": {
          "title": {
           "text": "Correlation"
          }
         },
         "colorscale": [
          [
           0,
           "#440154"
          ],
          [
           0.1111111111111111,
           "#482878"
          ],
          [
           0.2222222222222222,
           "#3e4989"
          ],
          [
           0.3333333333333333,
           "#31688e"
          ],
          [
           0.4444444444444444,
           "#26828e"
          ],
          [
           0.5555555555555556,
           "#1f9e89"
          ],
          [
           0.6666666666666666,
           "#35b779"
          ],
          [
           0.7777777777777778,
           "#6ece58"
          ],
          [
           0.8888888888888888,
           "#b5de2b"
          ],
          [
           1,
           "#fde725"
          ]
         ],
         "type": "heatmap",
         "x": [
          "Gross fixed capital formation (annual % growth)",
          "Gross fixed capital formation (constant LCU)",
          "Gross domestic savings (current US$)",
          "Gross savings (current LCU)",
          "year"
         ],
         "y": [
          "Gross fixed capital formation (annual % growth)",
          "Gross fixed capital formation (constant LCU)",
          "Gross domestic savings (current US$)",
          "Gross savings (current LCU)",
          "year"
         ],
         "z": [
          [
           1,
           0.10230506062991888,
           0.10300343636688783,
           0.02778163299673611,
           0.18708509966589454
          ],
          [
           0.10230506062991888,
           1,
           0.9946046813053772,
           0.9898524625335817,
           0.9143736569665118
          ],
          [
           0.10300343636688783,
           0.9946046813053772,
           1,
           0.9834318818184211,
           0.9024091693902393
          ],
          [
           0.02778163299673611,
           0.9898524625335817,
           0.9834318818184211,
           1,
           0.8703472947196255
          ],
          [
           0.18708509966589454,
           0.9143736569665118,
           0.9024091693902393,
           0.8703472947196255,
           1
          ]
         ]
        }
       ],
       "layout": {
        "template": {
         "data": {
          "bar": [
           {
            "error_x": {
             "color": "#2a3f5f"
            },
            "error_y": {
             "color": "#2a3f5f"
            },
            "marker": {
             "line": {
              "color": "#E5ECF6",
              "width": 0.5
             },
             "pattern": {
              "fillmode": "overlay",
              "size": 10,
              "solidity": 0.2
             }
            },
            "type": "bar"
           }
          ],
          "barpolar": [
           {
            "marker": {
             "line": {
              "color": "#E5ECF6",
              "width": 0.5
             },
             "pattern": {
              "fillmode": "overlay",
              "size": 10,
              "solidity": 0.2
             }
            },
            "type": "barpolar"
           }
          ],
          "carpet": [
           {
            "aaxis": {
             "endlinecolor": "#2a3f5f",
             "gridcolor": "white",
             "linecolor": "white",
             "minorgridcolor": "white",
             "startlinecolor": "#2a3f5f"
            },
            "baxis": {
             "endlinecolor": "#2a3f5f",
             "gridcolor": "white",
             "linecolor": "white",
             "minorgridcolor": "white",
             "startlinecolor": "#2a3f5f"
            },
            "type": "carpet"
           }
          ],
          "choropleth": [
           {
            "colorbar": {
             "outlinewidth": 0,
             "ticks": ""
            },
            "type": "choropleth"
           }
          ],
          "contour": [
           {
            "colorbar": {
             "outlinewidth": 0,
             "ticks": ""
            },
            "colorscale": [
             [
              0,
              "#0d0887"
             ],
             [
              0.1111111111111111,
              "#46039f"
             ],
             [
              0.2222222222222222,
              "#7201a8"
             ],
             [
              0.3333333333333333,
              "#9c179e"
             ],
             [
              0.4444444444444444,
              "#bd3786"
             ],
             [
              0.5555555555555556,
              "#d8576b"
             ],
             [
              0.6666666666666666,
              "#ed7953"
             ],
             [
              0.7777777777777778,
              "#fb9f3a"
             ],
             [
              0.8888888888888888,
              "#fdca26"
             ],
             [
              1,
              "#f0f921"
             ]
            ],
            "type": "contour"
           }
          ],
          "contourcarpet": [
           {
            "colorbar": {
             "outlinewidth": 0,
             "ticks": ""
            },
            "type": "contourcarpet"
           }
          ],
          "heatmap": [
           {
            "colorbar": {
             "outlinewidth": 0,
             "ticks": ""
            },
            "colorscale": [
             [
              0,
              "#0d0887"
             ],
             [
              0.1111111111111111,
              "#46039f"
             ],
             [
              0.2222222222222222,
              "#7201a8"
             ],
             [
              0.3333333333333333,
              "#9c179e"
             ],
             [
              0.4444444444444444,
              "#bd3786"
             ],
             [
              0.5555555555555556,
              "#d8576b"
             ],
             [
              0.6666666666666666,
              "#ed7953"
             ],
             [
              0.7777777777777778,
              "#fb9f3a"
             ],
             [
              0.8888888888888888,
              "#fdca26"
             ],
             [
              1,
              "#f0f921"
             ]
            ],
            "type": "heatmap"
           }
          ],
          "heatmapgl": [
           {
            "colorbar": {
             "outlinewidth": 0,
             "ticks": ""
            },
            "colorscale": [
             [
              0,
              "#0d0887"
             ],
             [
              0.1111111111111111,
              "#46039f"
             ],
             [
              0.2222222222222222,
              "#7201a8"
             ],
             [
              0.3333333333333333,
              "#9c179e"
             ],
             [
              0.4444444444444444,
              "#bd3786"
             ],
             [
              0.5555555555555556,
              "#d8576b"
             ],
             [
              0.6666666666666666,
              "#ed7953"
             ],
             [
              0.7777777777777778,
              "#fb9f3a"
             ],
             [
              0.8888888888888888,
              "#fdca26"
             ],
             [
              1,
              "#f0f921"
             ]
            ],
            "type": "heatmapgl"
           }
          ],
          "histogram": [
           {
            "marker": {
             "pattern": {
              "fillmode": "overlay",
              "size": 10,
              "solidity": 0.2
             }
            },
            "type": "histogram"
           }
          ],
          "histogram2d": [
           {
            "colorbar": {
             "outlinewidth": 0,
             "ticks": ""
            },
            "colorscale": [
             [
              0,
              "#0d0887"
             ],
             [
              0.1111111111111111,
              "#46039f"
             ],
             [
              0.2222222222222222,
              "#7201a8"
             ],
             [
              0.3333333333333333,
              "#9c179e"
             ],
             [
              0.4444444444444444,
              "#bd3786"
             ],
             [
              0.5555555555555556,
              "#d8576b"
             ],
             [
              0.6666666666666666,
              "#ed7953"
             ],
             [
              0.7777777777777778,
              "#fb9f3a"
             ],
             [
              0.8888888888888888,
              "#fdca26"
             ],
             [
              1,
              "#f0f921"
             ]
            ],
            "type": "histogram2d"
           }
          ],
          "histogram2dcontour": [
           {
            "colorbar": {
             "outlinewidth": 0,
             "ticks": ""
            },
            "colorscale": [
             [
              0,
              "#0d0887"
             ],
             [
              0.1111111111111111,
              "#46039f"
             ],
             [
              0.2222222222222222,
              "#7201a8"
             ],
             [
              0.3333333333333333,
              "#9c179e"
             ],
             [
              0.4444444444444444,
              "#bd3786"
             ],
             [
              0.5555555555555556,
              "#d8576b"
             ],
             [
              0.6666666666666666,
              "#ed7953"
             ],
             [
              0.7777777777777778,
              "#fb9f3a"
             ],
             [
              0.8888888888888888,
              "#fdca26"
             ],
             [
              1,
              "#f0f921"
             ]
            ],
            "type": "histogram2dcontour"
           }
          ],
          "mesh3d": [
           {
            "colorbar": {
             "outlinewidth": 0,
             "ticks": ""
            },
            "type": "mesh3d"
           }
          ],
          "parcoords": [
           {
            "line": {
             "colorbar": {
              "outlinewidth": 0,
              "ticks": ""
             }
            },
            "type": "parcoords"
           }
          ],
          "pie": [
           {
            "automargin": true,
            "type": "pie"
           }
          ],
          "scatter": [
           {
            "fillpattern": {
             "fillmode": "overlay",
             "size": 10,
             "solidity": 0.2
            },
            "type": "scatter"
           }
          ],
          "scatter3d": [
           {
            "line": {
             "colorbar": {
              "outlinewidth": 0,
              "ticks": ""
             }
            },
            "marker": {
             "colorbar": {
              "outlinewidth": 0,
              "ticks": ""
             }
            },
            "type": "scatter3d"
           }
          ],
          "scattercarpet": [
           {
            "marker": {
             "colorbar": {
              "outlinewidth": 0,
              "ticks": ""
             }
            },
            "type": "scattercarpet"
           }
          ],
          "scattergeo": [
           {
            "marker": {
             "colorbar": {
              "outlinewidth": 0,
              "ticks": ""
             }
            },
            "type": "scattergeo"
           }
          ],
          "scattergl": [
           {
            "marker": {
             "colorbar": {
              "outlinewidth": 0,
              "ticks": ""
             }
            },
            "type": "scattergl"
           }
          ],
          "scattermapbox": [
           {
            "marker": {
             "colorbar": {
              "outlinewidth": 0,
              "ticks": ""
             }
            },
            "type": "scattermapbox"
           }
          ],
          "scatterpolar": [
           {
            "marker": {
             "colorbar": {
              "outlinewidth": 0,
              "ticks": ""
             }
            },
            "type": "scatterpolar"
           }
          ],
          "scatterpolargl": [
           {
            "marker": {
             "colorbar": {
              "outlinewidth": 0,
              "ticks": ""
             }
            },
            "type": "scatterpolargl"
           }
          ],
          "scatterternary": [
           {
            "marker": {
             "colorbar": {
              "outlinewidth": 0,
              "ticks": ""
             }
            },
            "type": "scatterternary"
           }
          ],
          "surface": [
           {
            "colorbar": {
             "outlinewidth": 0,
             "ticks": ""
            },
            "colorscale": [
             [
              0,
              "#0d0887"
             ],
             [
              0.1111111111111111,
              "#46039f"
             ],
             [
              0.2222222222222222,
              "#7201a8"
             ],
             [
              0.3333333333333333,
              "#9c179e"
             ],
             [
              0.4444444444444444,
              "#bd3786"
             ],
             [
              0.5555555555555556,
              "#d8576b"
             ],
             [
              0.6666666666666666,
              "#ed7953"
             ],
             [
              0.7777777777777778,
              "#fb9f3a"
             ],
             [
              0.8888888888888888,
              "#fdca26"
             ],
             [
              1,
              "#f0f921"
             ]
            ],
            "type": "surface"
           }
          ],
          "table": [
           {
            "cells": {
             "fill": {
              "color": "#EBF0F8"
             },
             "line": {
              "color": "white"
             }
            },
            "header": {
             "fill": {
              "color": "#C8D4E3"
             },
             "line": {
              "color": "white"
             }
            },
            "type": "table"
           }
          ]
         },
         "layout": {
          "annotationdefaults": {
           "arrowcolor": "#2a3f5f",
           "arrowhead": 0,
           "arrowwidth": 1
          },
          "autotypenumbers": "strict",
          "coloraxis": {
           "colorbar": {
            "outlinewidth": 0,
            "ticks": ""
           }
          },
          "colorscale": {
           "diverging": [
            [
             0,
             "#8e0152"
            ],
            [
             0.1,
             "#c51b7d"
            ],
            [
             0.2,
             "#de77ae"
            ],
            [
             0.3,
             "#f1b6da"
            ],
            [
             0.4,
             "#fde0ef"
            ],
            [
             0.5,
             "#f7f7f7"
            ],
            [
             0.6,
             "#e6f5d0"
            ],
            [
             0.7,
             "#b8e186"
            ],
            [
             0.8,
             "#7fbc41"
            ],
            [
             0.9,
             "#4d9221"
            ],
            [
             1,
             "#276419"
            ]
           ],
           "sequential": [
            [
             0,
             "#0d0887"
            ],
            [
             0.1111111111111111,
             "#46039f"
            ],
            [
             0.2222222222222222,
             "#7201a8"
            ],
            [
             0.3333333333333333,
             "#9c179e"
            ],
            [
             0.4444444444444444,
             "#bd3786"
            ],
            [
             0.5555555555555556,
             "#d8576b"
            ],
            [
             0.6666666666666666,
             "#ed7953"
            ],
            [
             0.7777777777777778,
             "#fb9f3a"
            ],
            [
             0.8888888888888888,
             "#fdca26"
            ],
            [
             1,
             "#f0f921"
            ]
           ],
           "sequentialminus": [
            [
             0,
             "#0d0887"
            ],
            [
             0.1111111111111111,
             "#46039f"
            ],
            [
             0.2222222222222222,
             "#7201a8"
            ],
            [
             0.3333333333333333,
             "#9c179e"
            ],
            [
             0.4444444444444444,
             "#bd3786"
            ],
            [
             0.5555555555555556,
             "#d8576b"
            ],
            [
             0.6666666666666666,
             "#ed7953"
            ],
            [
             0.7777777777777778,
             "#fb9f3a"
            ],
            [
             0.8888888888888888,
             "#fdca26"
            ],
            [
             1,
             "#f0f921"
            ]
           ]
          },
          "colorway": [
           "#636efa",
           "#EF553B",
           "#00cc96",
           "#ab63fa",
           "#FFA15A",
           "#19d3f3",
           "#FF6692",
           "#B6E880",
           "#FF97FF",
           "#FECB52"
          ],
          "font": {
           "color": "#2a3f5f"
          },
          "geo": {
           "bgcolor": "white",
           "lakecolor": "white",
           "landcolor": "#E5ECF6",
           "showlakes": true,
           "showland": true,
           "subunitcolor": "white"
          },
          "hoverlabel": {
           "align": "left"
          },
          "hovermode": "closest",
          "mapbox": {
           "style": "light"
          },
          "paper_bgcolor": "white",
          "plot_bgcolor": "#E5ECF6",
          "polar": {
           "angularaxis": {
            "gridcolor": "white",
            "linecolor": "white",
            "ticks": ""
           },
           "bgcolor": "#E5ECF6",
           "radialaxis": {
            "gridcolor": "white",
            "linecolor": "white",
            "ticks": ""
           }
          },
          "scene": {
           "xaxis": {
            "backgroundcolor": "#E5ECF6",
            "gridcolor": "white",
            "gridwidth": 2,
            "linecolor": "white",
            "showbackground": true,
            "ticks": "",
            "zerolinecolor": "white"
           },
           "yaxis": {
            "backgroundcolor": "#E5ECF6",
            "gridcolor": "white",
            "gridwidth": 2,
            "linecolor": "white",
            "showbackground": true,
            "ticks": "",
            "zerolinecolor": "white"
           },
           "zaxis": {
            "backgroundcolor": "#E5ECF6",
            "gridcolor": "white",
            "gridwidth": 2,
            "linecolor": "white",
            "showbackground": true,
            "ticks": "",
            "zerolinecolor": "white"
           }
          },
          "shapedefaults": {
           "line": {
            "color": "#2a3f5f"
           }
          },
          "ternary": {
           "aaxis": {
            "gridcolor": "white",
            "linecolor": "white",
            "ticks": ""
           },
           "baxis": {
            "gridcolor": "white",
            "linecolor": "white",
            "ticks": ""
           },
           "bgcolor": "#E5ECF6",
           "caxis": {
            "gridcolor": "white",
            "linecolor": "white",
            "ticks": ""
           }
          },
          "title": {
           "x": 0.05
          },
          "xaxis": {
           "automargin": true,
           "gridcolor": "white",
           "linecolor": "white",
           "ticks": "",
           "title": {
            "standoff": 15
           },
           "zerolinecolor": "white",
           "zerolinewidth": 2
          },
          "yaxis": {
           "automargin": true,
           "gridcolor": "white",
           "linecolor": "white",
           "ticks": "",
           "title": {
            "standoff": 15
           },
           "zerolinecolor": "white",
           "zerolinewidth": 2
          }
         }
        },
        "title": {
         "text": "Correlation Heatmap Between 5 random features"
        },
        "width": 800
       }
      }
     },
     "metadata": {},
     "output_type": "display_data"
    }
   ],
   "source": [
    "import random\n",
    "import plotly.graph_objects as go\n",
    "\n",
    "# Function to create a square correlation heatmap with 'Year' on both axes\n",
    "def create_square_correlation_heatmap(data):\n",
    "    # Randomly select 4 additional columns, excluding 'Year'\n",
    "    columns_to_include = random.sample([col for col in data.columns if col != \"Year\"], 4)\n",
    "    columns_to_include.append(\"year\")\n",
    "\n",
    "    # Extract the selected columns from the DataFrame\n",
    "    selected_data = data[columns_to_include]\n",
    "\n",
    "    # Compute the correlation matrix\n",
    "    correlation_matrix = selected_data.corr()\n",
    "\n",
    "    # Create a square heatmap using Plotly\n",
    "    fig = go.Figure(data=go.Heatmap(\n",
    "        z=correlation_matrix.values,\n",
    "        x=correlation_matrix.columns,\n",
    "        y=correlation_matrix.columns,\n",
    "        colorscale='Viridis',  # You can change the colorscale\n",
    "        colorbar=dict(title='Correlation')\n",
    "    ))\n",
    "\n",
    "    # Set the title for the plot\n",
    "    fig.update_layout(title=\"Correlation Heatmap Between 5 random features\")\n",
    "\n",
    "    # Set the width of the plot\n",
    "    fig.update_layout(width=800)  # Adjust the width as needed\n",
    "\n",
    "    # Show the plot\n",
    "    fig.show()\n",
    "\n",
    "# Create a square correlation heatmap with 'Year' on both axes\n",
    "create_square_correlation_heatmap(india_data)"
   ]
  },
  {
   "cell_type": "code",
   "execution_count": 156,
   "metadata": {},
   "outputs": [
    {
     "data": {
      "image/png": "[encoded data removed]",
      "text/plain": [
       "<Figure size 1000x1000 with 2 Axes>"
      ]
     },
     "metadata": {},
     "output_type": "display_data"
    }
   ],
   "source": [
    "import random\n",
    "import seaborn as sns\n",
    "import matplotlib.pyplot as plt\n",
    "\n",
    "# Function to create a square correlation heatmap with 'Year' on both axes using Seaborn\n",
    "def create_square_correlation_heatmap_sns(data, num_columns):\n",
    "    if num_columns <= 1:\n",
    "        print(\"Please choose at least 2 columns.\")\n",
    "        return\n",
    "\n",
    "    # Randomly select columns, excluding 'year'\n",
    "    columns_to_include = random.sample([col for col in data.columns if col != \"year\"], num_columns - 1)\n",
    "    columns_to_include.append(\"year\")\n",
    "\n",
    "    # Extract the selected columns from the DataFrame\n",
    "    selected_data = data[columns_to_include]\n",
    "\n",
    "    # Compute the correlation matrix\n",
    "    correlation_matrix = selected_data.corr()\n",
    "\n",
    "    # Create a square heatmap using Seaborn with vertical x-axis text\n",
    "    plt.figure(figsize=(10, 10))\n",
    "    sns.heatmap(correlation_matrix, annot=True, cmap='coolwarm', fmt=\".2f\", square=True)\n",
    "\n",
    "    # Set the title for the plot\n",
    "    plt.title(f\"Correlation Heatmap Between {num_columns} Random Features\")\n",
    "\n",
    "    # Rotate x-axis labels to be vertical\n",
    "    plt.xticks(rotation=90)\n",
    "\n",
    "    # Show the plot\n",
    "    plt.show()\n",
    "\n",
    "# Ask the user for the number of columns to choose\n",
    "num_columns = 15\n",
    "\n",
    "# Create a square correlation heatmap with 'Year' on both axes using Seaborn\n",
    "create_square_correlation_heatmap_sns(india_data, num_columns)\n"
   ]
  },
  {
   "cell_type": "code",
   "execution_count": 152,
   "metadata": {},
   "outputs": [
    {
     "data": {
      "application/vnd.plotly.v1+json": {
       "config": {
        "plotlyServerURL": "https://plot.ly"
       },
       "data": [
        {
         "hovertemplate": "year=%{x}<br>Gross domestic income (constant LCU)=%{y}<extra></extra>",
         "legendgroup": "",
         "line": {
          "color": "#636efa",
          "dash": "solid"
         },
         "marker": {
          "symbol": "circle"
         },
         "mode": "lines",
         "name": "",
         "orientation": "v",
         "showlegend": false,
         "type": "scatter",
         "x": [
          1973,
          1974,
          1975,
          1976,
          1977,
          1978,
          1979,
          1980,
          1981,
          1982,
          1983,
          1984,
          1985,
          1986,
          1987,
          1988,
          1989,
          1990,
          1991,
          1992,
          1993,
          1994,
          1995,
          1996,
          1997,
          1998,
          1999,
          2000,
          2001,
          2002,
          2003,
          2004,
          2005,
          2006,
          2007,
          2008,
          2009,
          2010,
          2011,
          2012,
          2013,
          2014,
          2015,
          2016,
          2017,
          2018,
          2019,
          2020,
          2021,
          2022
         ],
         "xaxis": "x",
         "y": [
          11393583594934.4,
          11371759269857.2,
          12363625847007.1,
          12584522539682.2,
          13648975491527.9,
          14331816739904.9,
          13502350699797.2,
          14324707274579,
          15303898262197.3,
          15857040059951.6,
          17220746225409,
          17746723308970.8,
          18719135460624.6,
          19792718508278.2,
          20516591678507.3,
          22522641714464.7,
          23819527159927.8,
          24984166255667.8,
          25378060471996.1,
          26884123501225.3,
          28466115050783.1,
          30526143458494.3,
          32619144555168.6,
          34766512856827.6,
          36674606613946.7,
          39114928576202.8,
          42097239921471.5,
          43585353217089.1,
          45612998481546,
          46898919801301.1,
          50995996213206.5,
          54294985566928.9,
          58611102105524.4,
          63302794547352.9,
          68138415834075.1,
          70953950095792.5,
          76328511490102.4,
          83261366871317,
          87363287113700,
          91828791047624.1,
          97000692972439.9,
          103761941541732,
          112498778127507,
          122200998511052,
          131778445235731,
          138984101815223,
          146395241295086,
          139386852000455,
          147316642421112,
          157465234324929
         ],
         "yaxis": "y"
        }
       ],
       "layout": {
        "legend": {
         "tracegroupgap": 0
        },
        "template": {
         "data": {
          "bar": [
           {
            "error_x": {
             "color": "#2a3f5f"
            },
            "error_y": {
             "color": "#2a3f5f"
            },
            "marker": {
             "line": {
              "color": "#E5ECF6",
              "width": 0.5
             },
             "pattern": {
              "fillmode": "overlay",
              "size": 10,
              "solidity": 0.2
             }
            },
            "type": "bar"
           }
          ],
          "barpolar": [
           {
            "marker": {
             "line": {
              "color": "#E5ECF6",
              "width": 0.5
             },
             "pattern": {
              "fillmode": "overlay",
              "size": 10,
              "solidity": 0.2
             }
            },
            "type": "barpolar"
           }
          ],
          "carpet": [
           {
            "aaxis": {
             "endlinecolor": "#2a3f5f",
             "gridcolor": "white",
             "linecolor": "white",
             "minorgridcolor": "white",
             "startlinecolor": "#2a3f5f"
            },
            "baxis": {
             "endlinecolor": "#2a3f5f",
             "gridcolor": "white",
             "linecolor": "white",
             "minorgridcolor": "white",
             "startlinecolor": "#2a3f5f"
            },
            "type": "carpet"
           }
          ],
          "choropleth": [
           {
            "colorbar": {
             "outlinewidth": 0,
             "ticks": ""
            },
            "type": "choropleth"
           }
          ],
          "contour": [
           {
            "colorbar": {
             "outlinewidth": 0,
             "ticks": ""
            },
            "colorscale": [
             [
              0,
              "#0d0887"
             ],
             [
              0.1111111111111111,
              "#46039f"
             ],
             [
              0.2222222222222222,
              "#7201a8"
             ],
             [
              0.3333333333333333,
              "#9c179e"
             ],
             [
              0.4444444444444444,
              "#bd3786"
             ],
             [
              0.5555555555555556,
              "#d8576b"
             ],
             [
              0.6666666666666666,
              "#ed7953"
             ],
             [
              0.7777777777777778,
              "#fb9f3a"
             ],
             [
              0.8888888888888888,
              "#fdca26"
             ],
             [
              1,
              "#f0f921"
             ]
            ],
            "type": "contour"
           }
          ],
          "contourcarpet": [
           {
            "colorbar": {
             "outlinewidth": 0,
             "ticks": ""
            },
            "type": "contourcarpet"
           }
          ],
          "heatmap": [
           {
            "colorbar": {
             "outlinewidth": 0,
             "ticks": ""
            },
            "colorscale": [
             [
              0,
              "#0d0887"
             ],
             [
              0.1111111111111111,
              "#46039f"
             ],
             [
              0.2222222222222222,
              "#7201a8"
             ],
             [
              0.3333333333333333,
              "#9c179e"
             ],
             [
              0.4444444444444444,
              "#bd3786"
             ],
             [
              0.5555555555555556,
              "#d8576b"
             ],
             [
              0.6666666666666666,
              "#ed7953"
             ],
             [
              0.7777777777777778,
              "#fb9f3a"
             ],
             [
              0.8888888888888888,
              "#fdca26"
             ],
             [
              1,
              "#f0f921"
             ]
            ],
            "type": "heatmap"
           }
          ],
          "heatmapgl": [
           {
            "colorbar": {
             "outlinewidth": 0,
             "ticks": ""
            },
            "colorscale": [
             [
              0,
              "#0d0887"
             ],
             [
              0.1111111111111111,
              "#46039f"
             ],
             [
              0.2222222222222222,
              "#7201a8"
             ],
             [
              0.3333333333333333,
              "#9c179e"
             ],
             [
              0.4444444444444444,
              "#bd3786"
             ],
             [
              0.5555555555555556,
              "#d8576b"
             ],
             [
              0.6666666666666666,
              "#ed7953"
             ],
             [
              0.7777777777777778,
              "#fb9f3a"
             ],
             [
              0.8888888888888888,
              "#fdca26"
             ],
             [
              1,
              "#f0f921"
             ]
            ],
            "type": "heatmapgl"
           }
          ],
          "histogram": [
           {
            "marker": {
             "pattern": {
              "fillmode": "overlay",
              "size": 10,
              "solidity": 0.2
             }
            },
            "type": "histogram"
           }
          ],
          "histogram2d": [
           {
            "colorbar": {
             "outlinewidth": 0,
             "ticks": ""
            },
            "colorscale": [
             [
              0,
              "#0d0887"
             ],
             [
              0.1111111111111111,
              "#46039f"
             ],
             [
              0.2222222222222222,
              "#7201a8"
             ],
             [
              0.3333333333333333,
              "#9c179e"
             ],
             [
              0.4444444444444444,
              "#bd3786"
             ],
             [
              0.5555555555555556,
              "#d8576b"
             ],
             [
              0.6666666666666666,
              "#ed7953"
             ],
             [
              0.7777777777777778,
              "#fb9f3a"
             ],
             [
              0.8888888888888888,
              "#fdca26"
             ],
             [
              1,
              "#f0f921"
             ]
            ],
            "type": "histogram2d"
           }
          ],
          "histogram2dcontour": [
           {
            "colorbar": {
             "outlinewidth": 0,
             "ticks": ""
            },
            "colorscale": [
             [
              0,
              "#0d0887"
             ],
             [
              0.1111111111111111,
              "#46039f"
             ],
             [
              0.2222222222222222,
              "#7201a8"
             ],
             [
              0.3333333333333333,
              "#9c179e"
             ],
             [
              0.4444444444444444,
              "#bd3786"
             ],
             [
              0.5555555555555556,
              "#d8576b"
             ],
             [
              0.6666666666666666,
              "#ed7953"
             ],
             [
              0.7777777777777778,
              "#fb9f3a"
             ],
             [
              0.8888888888888888,
              "#fdca26"
             ],
             [
              1,
              "#f0f921"
             ]
            ],
            "type": "histogram2dcontour"
           }
          ],
          "mesh3d": [
           {
            "colorbar": {
             "outlinewidth": 0,
             "ticks": ""
            },
            "type": "mesh3d"
           }
          ],
          "parcoords": [
           {
            "line": {
             "colorbar": {
              "outlinewidth": 0,
              "ticks": ""
             }
            },
            "type": "parcoords"
           }
          ],
          "pie": [
           {
            "automargin": true,
            "type": "pie"
           }
          ],
          "scatter": [
           {
            "fillpattern": {
             "fillmode": "overlay",
             "size": 10,
             "solidity": 0.2
            },
            "type": "scatter"
           }
          ],
          "scatter3d": [
           {
            "line": {
             "colorbar": {
              "outlinewidth": 0,
              "ticks": ""
             }
            },
            "marker": {
             "colorbar": {
              "outlinewidth": 0,
              "ticks": ""
             }
            },
            "type": "scatter3d"
           }
          ],
          "scattercarpet": [
           {
            "marker": {
             "colorbar": {
              "outlinewidth": 0,
              "ticks": ""
             }
            },
            "type": "scattercarpet"
           }
          ],
          "scattergeo": [
           {
            "marker": {
             "colorbar": {
              "outlinewidth": 0,
              "ticks": ""
             }
            },
            "type": "scattergeo"
           }
          ],
          "scattergl": [
           {
            "marker": {
             "colorbar": {
              "outlinewidth": 0,
              "ticks": ""
             }
            },
            "type": "scattergl"
           }
          ],
          "scattermapbox": [
           {
            "marker": {
             "colorbar": {
              "outlinewidth": 0,
              "ticks": ""
             }
            },
            "type": "scattermapbox"
           }
          ],
          "scatterpolar": [
           {
            "marker": {
             "colorbar": {
              "outlinewidth": 0,
              "ticks": ""
             }
            },
            "type": "scatterpolar"
           }
          ],
          "scatterpolargl": [
           {
            "marker": {
             "colorbar": {
              "outlinewidth": 0,
              "ticks": ""
             }
            },
            "type": "scatterpolargl"
           }
          ],
          "scatterternary": [
           {
            "marker": {
             "colorbar": {
              "outlinewidth": 0,
              "ticks": ""
             }
            },
            "type": "scatterternary"
           }
          ],
          "surface": [
           {
            "colorbar": {
             "outlinewidth": 0,
             "ticks": ""
            },
            "colorscale": [
             [
              0,
              "#0d0887"
             ],
             [
              0.1111111111111111,
              "#46039f"
             ],
             [
              0.2222222222222222,
              "#7201a8"
             ],
             [
              0.3333333333333333,
              "#9c179e"
             ],
             [
              0.4444444444444444,
              "#bd3786"
             ],
             [
              0.5555555555555556,
              "#d8576b"
             ],
             [
              0.6666666666666666,
              "#ed7953"
             ],
             [
              0.7777777777777778,
              "#fb9f3a"
             ],
             [
              0.8888888888888888,
              "#fdca26"
             ],
             [
              1,
              "#f0f921"
             ]
            ],
            "type": "surface"
           }
          ],
          "table": [
           {
            "cells": {
             "fill": {
              "color": "#EBF0F8"
             },
             "line": {
              "color": "white"
             }
            },
            "header": {
             "fill": {
              "color": "#C8D4E3"
             },
             "line": {
              "color": "white"
             }
            },
            "type": "table"
           }
          ]
         },
         "layout": {
          "annotationdefaults": {
           "arrowcolor": "#2a3f5f",
           "arrowhead": 0,
           "arrowwidth": 1
          },
          "autotypenumbers": "strict",
          "coloraxis": {
           "colorbar": {
            "outlinewidth": 0,
            "ticks": ""
           }
          },
          "colorscale": {
           "diverging": [
            [
             0,
             "#8e0152"
            ],
            [
             0.1,
             "#c51b7d"
            ],
            [
             0.2,
             "#de77ae"
            ],
            [
             0.3,
             "#f1b6da"
            ],
            [
             0.4,
             "#fde0ef"
            ],
            [
             0.5,
             "#f7f7f7"
            ],
            [
             0.6,
             "#e6f5d0"
            ],
            [
             0.7,
             "#b8e186"
            ],
            [
             0.8,
             "#7fbc41"
            ],
            [
             0.9,
             "#4d9221"
            ],
            [
             1,
             "#276419"
            ]
           ],
           "sequential": [
            [
             0,
             "#0d0887"
            ],
            [
             0.1111111111111111,
             "#46039f"
            ],
            [
             0.2222222222222222,
             "#7201a8"
            ],
            [
             0.3333333333333333,
             "#9c179e"
            ],
            [
             0.4444444444444444,
             "#bd3786"
            ],
            [
             0.5555555555555556,
             "#d8576b"
            ],
            [
             0.6666666666666666,
             "#ed7953"
            ],
            [
             0.7777777777777778,
             "#fb9f3a"
            ],
            [
             0.8888888888888888,
             "#fdca26"
            ],
            [
             1,
             "#f0f921"
            ]
           ],
           "sequentialminus": [
            [
             0,
             "#0d0887"
            ],
            [
             0.1111111111111111,
             "#46039f"
            ],
            [
             0.2222222222222222,
             "#7201a8"
            ],
            [
             0.3333333333333333,
             "#9c179e"
            ],
            [
             0.4444444444444444,
             "#bd3786"
            ],
            [
             0.5555555555555556,
             "#d8576b"
            ],
            [
             0.6666666666666666,
             "#ed7953"
            ],
            [
             0.7777777777777778,
             "#fb9f3a"
            ],
            [
             0.8888888888888888,
             "#fdca26"
            ],
            [
             1,
             "#f0f921"
            ]
           ]
          },
          "colorway": [
           "#636efa",
           "#EF553B",
           "#00cc96",
           "#ab63fa",
           "#FFA15A",
           "#19d3f3",
           "#FF6692",
           "#B6E880",
           "#FF97FF",
           "#FECB52"
          ],
          "font": {
           "color": "#2a3f5f"
          },
          "geo": {
           "bgcolor": "white",
           "lakecolor": "white",
           "landcolor": "#E5ECF6",
           "showlakes": true,
           "showland": true,
           "subunitcolor": "white"
          },
          "hoverlabel": {
           "align": "left"
          },
          "hovermode": "closest",
          "mapbox": {
           "style": "light"
          },
          "paper_bgcolor": "white",
          "plot_bgcolor": "#E5ECF6",
          "polar": {
           "angularaxis": {
            "gridcolor": "white",
            "linecolor": "white",
            "ticks": ""
           },
           "bgcolor": "#E5ECF6",
           "radialaxis": {
            "gridcolor": "white",
            "linecolor": "white",
            "ticks": ""
           }
          },
          "scene": {
           "xaxis": {
            "backgroundcolor": "#E5ECF6",
            "gridcolor": "white",
            "gridwidth": 2,
            "linecolor": "white",
            "showbackground": true,
            "ticks": "",
            "zerolinecolor": "white"
           },
           "yaxis": {
            "backgroundcolor": "#E5ECF6",
            "gridcolor": "white",
            "gridwidth": 2,
            "linecolor": "white",
            "showbackground": true,
            "ticks": "",
            "zerolinecolor": "white"
           },
           "zaxis": {
            "backgroundcolor": "#E5ECF6",
            "gridcolor": "white",
            "gridwidth": 2,
            "linecolor": "white",
            "showbackground": true,
            "ticks": "",
            "zerolinecolor": "white"
           }
          },
          "shapedefaults": {
           "line": {
            "color": "#2a3f5f"
           }
          },
          "ternary": {
           "aaxis": {
            "gridcolor": "white",
            "linecolor": "white",
            "ticks": ""
           },
           "baxis": {
            "gridcolor": "white",
            "linecolor": "white",
            "ticks": ""
           },
           "bgcolor": "#E5ECF6",
           "caxis": {
            "gridcolor": "white",
            "linecolor": "white",
            "ticks": ""
           }
          },
          "title": {
           "x": 0.05
          },
          "xaxis": {
           "automargin": true,
           "gridcolor": "white",
           "linecolor": "white",
           "ticks": "",
           "title": {
            "standoff": 15
           },
           "zerolinecolor": "white",
           "zerolinewidth": 2
          },
          "yaxis": {
           "automargin": true,
           "gridcolor": "white",
           "linecolor": "white",
           "ticks": "",
           "title": {
            "standoff": 15
           },
           "zerolinecolor": "white",
           "zerolinewidth": 2
          }
         }
        },
        "title": {
         "text": "India's GDP Over the Years"
        },
        "xaxis": {
         "anchor": "y",
         "domain": [
          0,
          1
         ],
         "title": {
          "text": "Year"
         },
         "type": "category"
        },
        "yaxis": {
         "anchor": "x",
         "domain": [
          0,
          1
         ],
         "title": {
          "text": "GDP (constant LCU)"
         }
        }
       }
      }
     },
     "metadata": {},
     "output_type": "display_data"
    }
   ],
   "source": [
    "# Assuming 'india_data' is your DataFrame and 'Gross domestic income (constant LCU)' is the column you want to plot\n",
    "india_col = \"Gross domestic income (constant LCU)\"\n",
    "\n",
    "fig = px.line(india_data, x='year', y=india_col, title=\"India's GDP Over the Years\")\n",
    "fig.update_layout(xaxis_title='Year', yaxis_title='GDP (constant LCU)')  # Update the y-axis title\n",
    "fig.update_xaxes(type='category')  # Set the x-axis to type 'category' for years\n",
    "\n",
    "fig.show()"
   ]
  },
  {
   "cell_type": "code",
   "execution_count": null,
   "metadata": {},
   "outputs": [],
   "source": []
  }
 ],
 "metadata": {
  "kernelspec": {
   "display_name": "Python 3",
   "language": "python",
   "name": "python3"
  },
  "language_info": {
   "codemirror_mode": {
    "name": "ipython",
    "version": 3
   },
   "file_extension": ".py",
   "mimetype": "text/x-python",
   "name": "python",
   "nbconvert_exporter": "python",
   "pygments_lexer": "ipython3",
   "version": "3.9.15"
  }
 },
 "nbformat": 4,
 "nbformat_minor": 2
}
